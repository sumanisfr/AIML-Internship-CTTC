{
 "cells": [
  {
   "cell_type": "markdown",
   "id": "6c82ba30-5c81-4544-90c3-e83b59529b31",
   "metadata": {
    "jp-MarkdownHeadingCollapsed": true
   },
   "source": [
    "## Dictionary : consist of key:value pair inside a paranthesis.\n",
    "#### 1. It can have and values of different data types.\n",
    "\n",
    "## Dictionary Attributes:-\n",
    "#### keys() :- Returns the list of the dictionary's key.\n",
    "#### values() :- Returns the list of the dictionary's values.\n",
    "#### item() :- Returns the list of all key value pair.\n",
    "#### update() :- If the exists in the dictionary this will update the value of the keys,otherwise this will update key:value pair to the dictionary.\n",
    "#### get(key_value) :- Returns the appropriate value for the key.\n",
    "#### pop(key_value) :- Delete the value  associate with the key.\n",
    "#### clear() :- It remove the entire values in the dictionary."
   ]
  },
  {
   "cell_type": "code",
   "execution_count": 3,
   "id": "9f6e2a3a-de7c-4ae4-8226-f55a7825a507",
   "metadata": {},
   "outputs": [
    {
     "name": "stdout",
     "output_type": "stream",
     "text": [
      "{'name': 'Alice', 1: [10, 20, 30], 3.14: True, (2, 3): {'nested': 'dict'}}\n"
     ]
    }
   ],
   "source": [
    "# Example of a dictionary with different data types for keys and values\n",
    "my_dict = {\n",
    "  'name': 'Alice',\n",
    "  1: [10, 20, 30],\n",
    "  3.14: True,\n",
    "  (2, 3): {'nested': 'dict'}\n",
    "}\n",
    "print(my_dict)"
   ]
  },
  {
   "cell_type": "code",
   "execution_count": 4,
   "id": "f8ba8340-3e7e-4984-9e20-e282d7f0149a",
   "metadata": {
    "scrolled": true
   },
   "outputs": [
    {
     "name": "stdout",
     "output_type": "stream",
     "text": [
      "{'apple': 3, 'banana': 2, 'orange': 1}\n"
     ]
    }
   ],
   "source": [
    "# Example: Using a dictionary to count occurrences of elements in a list\n",
    "fruits = ['apple', 'banana', 'apple', 'orange', 'banana', 'apple']\n",
    "fruit_count = {}\n",
    "\n",
    "for fruit in fruits:\n",
    "  if fruit in fruit_count:\n",
    "    fruit_count[fruit] += 1\n",
    "  else:\n",
    "    fruit_count[fruit] = 1\n",
    "\n",
    "print(fruit_count)  # Output: {'apple': 3, 'banana': 2, 'orange': 1}"
   ]
  },
  {
   "cell_type": "code",
   "execution_count": 10,
   "id": "057ae353-3427-4a8d-944e-7b0913d83fe7",
   "metadata": {},
   "outputs": [
    {
     "name": "stdout",
     "output_type": "stream",
     "text": [
      "{'name': 'Surya', 'roll_n': '74', 'course': 'aiml'}\n"
     ]
    }
   ],
   "source": [
    "dic={'name':'Surya','roll_n':'74','course':'aiml'}\n",
    "print(dic)"
   ]
  },
  {
   "cell_type": "code",
   "execution_count": 13,
   "id": "c76a733f-bc8d-4138-9133-35012d9f8adf",
   "metadata": {},
   "outputs": [
    {
     "data": {
      "text/plain": [
       "dict_keys(['name', 'roll_n', 'course'])"
      ]
     },
     "execution_count": 13,
     "metadata": {},
     "output_type": "execute_result"
    }
   ],
   "source": [
    "#Keys\n",
    "dic.keys()"
   ]
  },
  {
   "cell_type": "code",
   "execution_count": 14,
   "id": "3c3cb381-c319-44ab-92f4-338fc8086e5a",
   "metadata": {},
   "outputs": [
    {
     "data": {
      "text/plain": [
       "dict_values(['Surya', '74', 'aiml'])"
      ]
     },
     "execution_count": 14,
     "metadata": {},
     "output_type": "execute_result"
    }
   ],
   "source": [
    "#values\n",
    "dic.values()"
   ]
  },
  {
   "cell_type": "code",
   "execution_count": 20,
   "id": "3caa8100-f711-4296-a027-b37f7e62acb7",
   "metadata": {},
   "outputs": [
    {
     "data": {
      "text/plain": [
       "{'name': 'Suryasnata', 'roll_n': '74', 'course': 'aiml'}"
      ]
     },
     "execution_count": 20,
     "metadata": {},
     "output_type": "execute_result"
    }
   ],
   "source": [
    "#update() \n",
    "dic.update({'name':'Suryasnata'})\n",
    "dic"
   ]
  },
  {
   "cell_type": "code",
   "execution_count": 21,
   "id": "bc8c3980-8d8e-4269-8c0a-d1634f49cc30",
   "metadata": {},
   "outputs": [
    {
     "data": {
      "text/plain": [
       "{'name': 'Suryasnata', 'roll_n': '74', 'course': 'aiml', 'CTTC': 'BBSR'}"
      ]
     },
     "execution_count": 21,
     "metadata": {},
     "output_type": "execute_result"
    }
   ],
   "source": [
    "#update() \n",
    "dic.update({'CTTC':'BBSR'})\n",
    "dic"
   ]
  },
  {
   "cell_type": "code",
   "execution_count": 22,
   "id": "956eb82d-2ebe-4628-b922-affe6ca97007",
   "metadata": {},
   "outputs": [],
   "source": [
    "#get() \n",
    "dic.get(1)"
   ]
  },
  {
   "cell_type": "code",
   "execution_count": 44,
   "id": "a7bf528a-2fe7-4547-99e6-431a78d33c53",
   "metadata": {},
   "outputs": [
    {
     "data": {
      "text/plain": [
       "'aiml'"
      ]
     },
     "execution_count": 44,
     "metadata": {},
     "output_type": "execute_result"
    }
   ],
   "source": [
    "#pop() \n",
    "dic={'name':'Surya','roll_n':'74','course':'aiml'}\n",
    "dic.pop('course')"
   ]
  },
  {
   "cell_type": "code",
   "execution_count": 45,
   "id": "a796e50e-3541-4d01-852d-3134159d2d7c",
   "metadata": {},
   "outputs": [
    {
     "data": {
      "text/plain": [
       "{'name': 'Surya', 'roll_n': '74'}"
      ]
     },
     "execution_count": 45,
     "metadata": {},
     "output_type": "execute_result"
    }
   ],
   "source": [
    "dic"
   ]
  },
  {
   "cell_type": "code",
   "execution_count": 31,
   "id": "94b07e5c-9c2c-4b5d-82a1-1ed2df2ce1f5",
   "metadata": {},
   "outputs": [],
   "source": [
    "#clear()\n",
    "dic.clear()"
   ]
  },
  {
   "cell_type": "code",
   "execution_count": 32,
   "id": "fe232dc3-33e7-428e-9e4c-5d2cf94cdd23",
   "metadata": {},
   "outputs": [
    {
     "data": {
      "text/plain": [
       "{}"
      ]
     },
     "execution_count": 32,
     "metadata": {},
     "output_type": "execute_result"
    }
   ],
   "source": [
    "dic"
   ]
  },
  {
   "cell_type": "markdown",
   "id": "dc20f065-4a7f-484d-9e95-cbde3485536e",
   "metadata": {
    "jp-MarkdownHeadingCollapsed": true
   },
   "source": [
    "# Q.question\n",
    "## 'ENCYCLOPEDIA'\n",
    "### a. \"LOPE\"\n",
    "### b. \"DEPOL\"\n",
    "### c. \"ADPLYN\"\n",
    "### d. \"OYE\"\n",
    "\n",
    "## \"PYTHON PROGRAMMING\"\n",
    "### a. \"GRAM\"\n",
    "### b. \"THO\"\n",
    "### c. \"PORA\""
   ]
  },
  {
   "cell_type": "code",
   "execution_count": null,
   "id": "8d85c9d5-d684-4535-8aba-6b92532c0e6d",
   "metadata": {},
   "outputs": [],
   "source": []
  },
  {
   "cell_type": "code",
   "execution_count": 58,
   "id": "add2f2c0-0b5c-48a1-ae13-f8071eaff4f0",
   "metadata": {},
   "outputs": [
    {
     "name": "stdout",
     "output_type": "stream",
     "text": [
      "LOPE\n",
      "DEPOL\n",
      "ADPLYN\n",
      "OYE\n"
     ]
    }
   ],
   "source": [
    "## 'ENCYCLOPEDIA'\n",
    "a = \"ENCYCLOPEDIA\"\n",
    "print(a[5:9:1])  #LOPE\n",
    "print(a[-3:-8:-1])   #DEPOL\n",
    "print(a[-1:-12:-2])  #ADPLYN\n",
    "print(a[-6::-3])    #OYE"
   ]
  },
  {
   "cell_type": "code",
   "execution_count": 75,
   "id": "4b04949b-319b-4535-b0bb-299002d9886f",
   "metadata": {},
   "outputs": [
    {
     "name": "stdout",
     "output_type": "stream",
     "text": [
      "GRAM\n",
      "THO\n",
      "PORA\n"
     ]
    }
   ],
   "source": [
    "#PYTHON PROGRAMMING\n",
    "b = \"PYTHON PROGRAMMING\"\n",
    "print(b[10:14:1])  #GRAM\n",
    "print(b[2:5:1])  #THO\n",
    "print(b[0:13:4])  #PORA"
   ]
  },
  {
   "cell_type": "markdown",
   "id": "efc4b765-b3b1-43cc-ad84-ebce45f1eaae",
   "metadata": {},
   "source": [
    "# Operators:"
   ]
  },
  {
   "cell_type": "markdown",
   "id": "d3dcfd1c-4bf3-424e-8a29-ae0d9da17cc1",
   "metadata": {
    "jp-MarkdownHeadingCollapsed": true
   },
   "source": [
    "## Operators:\n",
    "#### operators are the symbols which are used to perform operations on values and variables\n",
    "### Types Of Operators in Python :\n",
    "#### *Arthimatic Operators \n",
    "#### *Assignment operators\n",
    "#### *Comparision/Relational Operators\n",
    "#### *Logical Operators \n",
    "#### *Identity Operators \n",
    "#### *Membership Operators"
   ]
  },
  {
   "cell_type": "code",
   "execution_count": null,
   "id": "6d4863c8-3b79-43c0-9ee0-7458b69823af",
   "metadata": {},
   "outputs": [],
   "source": []
  },
  {
   "cell_type": "code",
   "execution_count": 76,
   "id": "8d511924-ed46-4745-9dd5-59ca66f1a1cc",
   "metadata": {},
   "outputs": [
    {
     "name": "stdout",
     "output_type": "stream",
     "text": [
      "0.6666666666666666\n"
     ]
    }
   ],
   "source": [
    "# Signal devision (/) : returns quotient with decimal.\n",
    "x = 2\n",
    "y = 3\n",
    "print(x/y)"
   ]
  },
  {
   "cell_type": "code",
   "execution_count": 78,
   "id": "081d8dc9-a999-4ad3-945d-9395454868d4",
   "metadata": {},
   "outputs": [
    {
     "name": "stdout",
     "output_type": "stream",
     "text": [
      "0\n"
     ]
    }
   ],
   "source": [
    "# flooe division(//) : return quotient without decimal(only integer).\n",
    "x = 2\n",
    "y = 3\n",
    "print(x//y)"
   ]
  },
  {
   "cell_type": "code",
   "execution_count": 79,
   "id": "51c8ebaa-4da1-4896-80e5-ae752a7db8b4",
   "metadata": {},
   "outputs": [
    {
     "name": "stdout",
     "output_type": "stream",
     "text": [
      "2\n"
     ]
    }
   ],
   "source": [
    "#  module(%)\n",
    "x = 2\n",
    "y = 3\n",
    "print(x%y)"
   ]
  },
  {
   "cell_type": "code",
   "execution_count": 80,
   "id": "60120f7b-b042-4e79-9782-ede7cf4c220b",
   "metadata": {},
   "outputs": [
    {
     "name": "stdout",
     "output_type": "stream",
     "text": [
      "8\n"
     ]
    }
   ],
   "source": [
    "# powering(**)\n",
    "x = 2\n",
    "y = 3\n",
    "print(x**y)"
   ]
  },
  {
   "cell_type": "markdown",
   "id": "0431e87c-4306-468c-b48a-ed2b94af134e",
   "metadata": {
    "jp-MarkdownHeadingCollapsed": true
   },
   "source": [
    "## ASSIENMENT-1\n"
   ]
  },
  {
   "cell_type": "code",
   "execution_count": 2,
   "id": "2c5d5d25-e43d-4913-97ed-9e72082b7c7a",
   "metadata": {},
   "outputs": [
    {
     "ename": "NameError",
     "evalue": "name 'b' is not defined",
     "output_type": "error",
     "traceback": [
      "\u001b[1;31m---------------------------------------------------------------------------\u001b[0m",
      "\u001b[1;31mNameError\u001b[0m                                 Traceback (most recent call last)",
      "Cell \u001b[1;32mIn[2], line 3\u001b[0m\n\u001b[0;32m      1\u001b[0m \u001b[38;5;66;03m# Q1. What is the Output of this code.\u001b[39;00m\n\u001b[0;32m      2\u001b[0m a \u001b[38;5;241m=\u001b[39m \u001b[38;5;124m'\u001b[39m\u001b[38;5;124m10\u001b[39m\u001b[38;5;124m'\u001b[39m\n\u001b[1;32m----> 3\u001b[0m b \u001b[38;5;241m=\u001b[39m \u001b[38;5;28mint\u001b[39m(a)\u001b[38;5;241m+\u001b[39m\u001b[38;5;28mfloat\u001b[39m(b)\n\u001b[0;32m      4\u001b[0m \u001b[38;5;28mprint\u001b[39m(b)\n",
      "\u001b[1;31mNameError\u001b[0m: name 'b' is not defined"
     ]
    }
   ],
   "source": [
    "# Q1. What is the Output of this code.\n",
    "a = '10'\n",
    "b = int(a)+float(b)\n",
    "print(b)"
   ]
  },
  {
   "cell_type": "code",
   "execution_count": 36,
   "id": "df076514-38ca-47b8-b817-675a2b8f2bca",
   "metadata": {},
   "outputs": [
    {
     "name": "stdin",
     "output_type": "stream",
     "text": [
      "Enter your name ,dcskbvjchng\n"
     ]
    },
    {
     "name": "stdout",
     "output_type": "stream",
     "text": [
      ",dcskbvjchng\n",
      ",dcskbvjchng\n"
     ]
    }
   ],
   "source": [
    "# Q2. Wapp to enter Your fullname and Print the Surename.\n",
    "# input >> 'Mohandas Karmachand Gandhi'\n",
    "# Output >> 'Gandhi'\n",
    "x = input(\"Enter your name\")\n",
    "print(x)\n",
    "a = x.split()\n",
    "print(a[-1])\n",
    "# b = x.split('Mohandas Karmachand')\n",
    "# print(b)"
   ]
  },
  {
   "cell_type": "code",
   "execution_count": 43,
   "id": "ffa52045-98f2-412f-9450-bcfcb573d551",
   "metadata": {},
   "outputs": [
    {
     "data": {
      "text/plain": [
       "[10, 20, [300, 400, [5000, 6000, 7000], 500], 30, 40]"
      ]
     },
     "execution_count": 43,
     "metadata": {},
     "output_type": "execute_result"
    }
   ],
   "source": [
    "# Q3. Wapp to add 7000 After 6000 in the given list.\n",
    "# Lis[10,20,[300,400[5000,6000],500],30,40]\n",
    "a = [10,20,[300,400,[5000,6000],500],30,40]\n",
    "a1 = a[2]\n",
    "a2 = a1[2]\n",
    "# a3 = a[2][2]\n",
    "# a2.insert(2,7000)\n",
    "# a3.insert(2,7000)\n",
    "a2.append(7000)\n",
    "a"
   ]
  },
  {
   "cell_type": "code",
   "execution_count": 42,
   "id": "5f968d56-d52e-439f-98dc-500408b52850",
   "metadata": {},
   "outputs": [
    {
     "name": "stdout",
     "output_type": "stream",
     "text": [
      "76\n"
     ]
    }
   ],
   "source": [
    "# Q4. Marks obtain by the student are given in a list the student who got 3rd position in the class.\n",
    "marks = [85,86,78,88,89,90,87,65,76,56,98,95]\n",
    "marks.sort()\n",
    "print(marks[2])"
   ]
  },
  {
   "cell_type": "code",
   "execution_count": 67,
   "id": "b66f3c93-e954-4d93-99ff-33a7b8f8493a",
   "metadata": {},
   "outputs": [
    {
     "name": "stdout",
     "output_type": "stream",
     "text": [
      "['cat', 'dog', 'parrot', 'tiger', 'zebra', 'lion']\n",
      "['cat', 'dog', 'bear', 'parrot', 'tiger', 'zebra', 'lion']\n",
      "['cat', 'dog', 'bear', 'parrot', 'tiger', 'zebra', 'lion', 'rabbit', 'horse', 'Tiger']\n",
      "['cat', 'dog', 'bear', 'parrot', 'tiger', 'zebra', 'lion', 'rabbit', 'horse']\n",
      "['cat', 'dog', 'bear', 'parrot', 'tiger', 'zebra', 'lion', 'rabbit', 'horse']\n",
      "9\n"
     ]
    }
   ],
   "source": [
    "# Q5. given list of all animals perform all operations on the list\n",
    "# animals  = ['cat','dog', 'parrot','tiger','zebra']\n",
    "#1.add new animal \"lion\" to the list\n",
    "#2.add 'bear' in between 'dog and 'parrot'.\n",
    "#3. add some more animals like'rabbit','horse'\n",
    "#4. delete the 2nd 'tiger' from the list.\n",
    "#5 . print the final lst of animals.\n",
    "#6. print total no of animals.\n",
    "a  = ['cat','dog', 'parrot','tiger','zebra']\n",
    "#1.add new animal \"lion\" to the list\n",
    "a.append('lion')\n",
    "print(a)\n",
    "#2.add 'bear' in between 'dog and 'parrot'.\n",
    "a.insert(2,'bear')\n",
    "print(a)\n",
    "#3. add some more animals like'rabbit','horse'\n",
    "a.extend(['rabbit','horse','Tiger'])\n",
    "print(a)\n",
    "#4. delete the 2nd 'tiger' from the list.\n",
    "# Question error\n",
    "a.pop()\n",
    "print(a)\n",
    "#5 . print the final lst of animals.\n",
    "print(a)\n",
    "#6. print total no of animals.\n",
    "print(len(a))"
   ]
  },
  {
   "cell_type": "code",
   "execution_count": null,
   "id": "e070e0ed-aa9b-4797-a679-3d87a65502f6",
   "metadata": {},
   "outputs": [],
   "source": []
  },
  {
   "cell_type": "markdown",
   "id": "bb889356-bfa4-47ca-b442-c6586d9666db",
   "metadata": {},
   "source": []
  },
  {
   "cell_type": "code",
   "execution_count": null,
   "id": "5777d17e-9a25-4ce2-81bb-85b3defbe5ef",
   "metadata": {},
   "outputs": [],
   "source": []
  }
 ],
 "metadata": {
  "kernelspec": {
   "display_name": "Python 3 (ipykernel)",
   "language": "python",
   "name": "python3"
  },
  "language_info": {
   "codemirror_mode": {
    "name": "ipython",
    "version": 3
   },
   "file_extension": ".py",
   "mimetype": "text/x-python",
   "name": "python",
   "nbconvert_exporter": "python",
   "pygments_lexer": "ipython3",
   "version": "3.12.7"
  }
 },
 "nbformat": 4,
 "nbformat_minor": 5
}
