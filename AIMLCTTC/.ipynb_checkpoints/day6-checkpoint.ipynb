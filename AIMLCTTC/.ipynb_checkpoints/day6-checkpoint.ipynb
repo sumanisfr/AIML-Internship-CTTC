{
 "cells": [
  {
   "cell_type": "markdown",
   "id": "27098cdc-f423-4816-a395-d2ff621ba46d",
   "metadata": {
    "jp-MarkdownHeadingCollapsed": true
   },
   "source": [
    "### Build in function:-"
   ]
  },
  {
   "cell_type": "code",
   "execution_count": 6,
   "id": "cb8621d5-8bed-42af-b922-99a5e57b28f7",
   "metadata": {
    "scrolled": true
   },
   "outputs": [
    {
     "name": "stdout",
     "output_type": "stream",
     "text": [
      "hello suman\n"
     ]
    }
   ],
   "source": [
    "# 1.print():- To display the output.\n",
    "print('hello suman')"
   ]
  },
  {
   "cell_type": "code",
   "execution_count": 5,
   "id": "1691492f-f400-4030-85bf-948605852669",
   "metadata": {
    "scrolled": true
   },
   "outputs": [
    {
     "data": {
      "text/plain": [
       "9"
      ]
     },
     "execution_count": 5,
     "metadata": {},
     "output_type": "execute_result"
    }
   ],
   "source": [
    "# 2.len():- return no of element in a sequence.\n",
    "len([2,2,5,7,2,9,5,5,89])"
   ]
  },
  {
   "cell_type": "code",
   "execution_count": 8,
   "id": "2425e320-df4c-451e-8293-876d5d5ada48",
   "metadata": {
    "scrolled": true
   },
   "outputs": [
    {
     "data": {
      "text/plain": [
       "126"
      ]
     },
     "execution_count": 8,
     "metadata": {},
     "output_type": "execute_result"
    }
   ],
   "source": [
    "# 3.sum():- return add all element in a sequence.\n",
    "sum([2,2,5,7,2,9,5,5,89])"
   ]
  },
  {
   "cell_type": "code",
   "execution_count": 23,
   "id": "fadd84d0-8721-47c0-ab1b-2446cb8e2a2f",
   "metadata": {
    "scrolled": true
   },
   "outputs": [
    {
     "data": {
      "text/plain": [
       "2"
      ]
     },
     "execution_count": 23,
     "metadata": {},
     "output_type": "execute_result"
    }
   ],
   "source": [
    "# 4.min():- return minimum value element in a sequence.\n",
    "min([2,2,5,7,2,9,5,5,89])"
   ]
  },
  {
   "cell_type": "code",
   "execution_count": 24,
   "id": "caa71f03-21fd-474b-a91a-f3cd758bcff6",
   "metadata": {
    "scrolled": true
   },
   "outputs": [
    {
     "data": {
      "text/plain": [
       "89"
      ]
     },
     "execution_count": 24,
     "metadata": {},
     "output_type": "execute_result"
    }
   ],
   "source": [
    "# 5.max():- return maximum value element in a sequence.\n",
    "max([2,2,5,7,2,9,5,5,89])"
   ]
  },
  {
   "cell_type": "code",
   "execution_count": 25,
   "id": "56ecb15c-ad1f-4121-aac0-0b510fef06ff",
   "metadata": {
    "scrolled": true
   },
   "outputs": [
    {
     "data": {
      "text/plain": [
       "list"
      ]
     },
     "execution_count": 25,
     "metadata": {},
     "output_type": "execute_result"
    }
   ],
   "source": [
    "# 6. type():- rturn the data type of any function.\n",
    "type([2,2,5,7,2,9,5,5,89])"
   ]
  },
  {
   "cell_type": "code",
   "execution_count": 26,
   "id": "ece796c7-0686-4f7f-923d-d094386e5213",
   "metadata": {
    "scrolled": true
   },
   "outputs": [
    {
     "data": {
      "text/plain": [
       "89"
      ]
     },
     "execution_count": 26,
     "metadata": {},
     "output_type": "execute_result"
    }
   ],
   "source": [
    "# 6. id():- return the address location of any function.\n",
    "max([2,2,5,7,2,9,5,5,89])"
   ]
  },
  {
   "cell_type": "code",
   "execution_count": 31,
   "id": "738741cd-1643-448d-b83c-6703a82f5f2b",
   "metadata": {},
   "outputs": [
    {
     "ename": "TypeError",
     "evalue": "'set' object cannot be interpreted as an integer",
     "output_type": "error",
     "traceback": [
      "\u001b[1;31m---------------------------------------------------------------------------\u001b[0m",
      "\u001b[1;31mTypeError\u001b[0m                                 Traceback (most recent call last)",
      "Cell \u001b[1;32mIn[31], line 2\u001b[0m\n\u001b[0;32m      1\u001b[0m \u001b[38;5;66;03m# 6. range():- return the data type of a function\u001b[39;00m\n\u001b[1;32m----> 2\u001b[0m \u001b[38;5;28mrange\u001b[39m({\u001b[38;5;241m3\u001b[39m,\u001b[38;5;241m7\u001b[39m})\n",
      "\u001b[1;31mTypeError\u001b[0m: 'set' object cannot be interpreted as an integer"
     ]
    }
   ],
   "source": [
    "# 6. range():- return the data type of a function\n",
    "range({3,7})"
   ]
  },
  {
   "cell_type": "code",
   "execution_count": 30,
   "id": "61ff3729-670a-4fe0-be4c-9d73621f5d40",
   "metadata": {
    "scrolled": true
   },
   "outputs": [
    {
     "data": {
      "text/plain": [
       "97"
      ]
     },
     "execution_count": 30,
     "metadata": {},
     "output_type": "execute_result"
    }
   ],
   "source": [
    "# ord(character):- return ascii value of the character.\n",
    "ord('a')"
   ]
  },
  {
   "cell_type": "code",
   "execution_count": 16,
   "id": "8d091866-0711-446b-89a7-61527e01b09c",
   "metadata": {
    "scrolled": true
   },
   "outputs": [
    {
     "data": {
      "text/plain": [
       "'!'"
      ]
     },
     "execution_count": 16,
     "metadata": {},
     "output_type": "execute_result"
    }
   ],
   "source": [
    "# chr(ascii_value):return character associate with ascii_value.\n",
    "chr(33)"
   ]
  },
  {
   "cell_type": "code",
   "execution_count": 15,
   "id": "5e011906-eb02-4fd8-ac4c-3b58517ccee5",
   "metadata": {
    "scrolled": true
   },
   "outputs": [
    {
     "data": {
      "text/plain": [
       "625"
      ]
     },
     "execution_count": 15,
     "metadata": {},
     "output_type": "execute_result"
    }
   ],
   "source": [
    "# pow(base,expo):- Return power of the function\n",
    "pow(5,4)"
   ]
  },
  {
   "cell_type": "markdown",
   "id": "c8e9d6a5-b249-4f57-b817-56e9114ed069",
   "metadata": {
    "jp-MarkdownHeadingCollapsed": true
   },
   "source": [
    "# Numpy:- Numerical python\n",
    "<pre>Numpy is library of python that helps us to deals with arrays and to do various mathematical operation on it</pre>\n",
    "<pre>Array is a collection of homogenous value(having similar datatypes),mutablr(can be modified/changed),ehich is declrear using []. arrays are an ordered sequence(have fixed index position)</pre>\n"
   ]
  },
  {
   "cell_type": "code",
   "execution_count": 3,
   "id": "9d72f44e-f8cb-4bbb-bc1e-fd535513e407",
   "metadata": {},
   "outputs": [],
   "source": [
    "# importing the library to our environment.\n",
    "import numpy as np"
   ]
  },
  {
   "cell_type": "code",
   "execution_count": 4,
   "id": "e2266d7e-70f5-4410-a56d-14d886559fe8",
   "metadata": {
    "scrolled": true
   },
   "outputs": [
    {
     "data": {
      "text/plain": [
       "'2.2.3'"
      ]
     },
     "execution_count": 4,
     "metadata": {},
     "output_type": "execute_result"
    }
   ],
   "source": [
    "# to check the version of numpy:-\n",
    "np.__version__"
   ]
  },
  {
   "cell_type": "code",
   "execution_count": 37,
   "id": "d2498446-96e5-428e-b7b9-bb775a9023d0",
   "metadata": {
    "scrolled": true
   },
   "outputs": [
    {
     "data": {
      "text/plain": [
       "array([1, 2, 3, 4, 5])"
      ]
     },
     "execution_count": 37,
     "metadata": {},
     "output_type": "execute_result"
    }
   ],
   "source": [
    "# creating a 1D array:\n",
    "a = np.array([1,2,3,4,5])\n",
    "a"
   ]
  },
  {
   "cell_type": "code",
   "execution_count": 38,
   "id": "a16cb873-1319-4bb5-8f81-fade17c087b9",
   "metadata": {
    "scrolled": true
   },
   "outputs": [
    {
     "data": {
      "text/plain": [
       "numpy.ndarray"
      ]
     },
     "execution_count": 38,
     "metadata": {},
     "output_type": "execute_result"
    }
   ],
   "source": [
    "# type():\n",
    "type(a)"
   ]
  },
  {
   "cell_type": "code",
   "execution_count": 42,
   "id": "cd12e811-1f31-4997-bb88-7fd49e3437c6",
   "metadata": {
    "scrolled": true
   },
   "outputs": [
    {
     "data": {
      "text/plain": [
       "(1, 55, 77, 33, 88)"
      ]
     },
     "execution_count": 42,
     "metadata": {},
     "output_type": "execute_result"
    }
   ],
   "source": [
    "# creating an array from tuple:\n",
    "tup = (1,55,77,33,88)\n",
    "tup"
   ]
  },
  {
   "cell_type": "code",
   "execution_count": 46,
   "id": "3435dddd-7405-4bdf-be95-75d01aa054ea",
   "metadata": {
    "scrolled": true
   },
   "outputs": [
    {
     "data": {
      "text/plain": [
       "array([ 1, 55, 77, 33, 88])"
      ]
     },
     "execution_count": 46,
     "metadata": {},
     "output_type": "execute_result"
    }
   ],
   "source": [
    "b = np.array(tup)\n",
    "b"
   ]
  },
  {
   "cell_type": "code",
   "execution_count": 55,
   "id": "91fd3a6a-7882-4968-a6af-dbb0ce020ada",
   "metadata": {
    "scrolled": true
   },
   "outputs": [
    {
     "data": {
      "text/plain": [
       "array(['1', '2', '3', 'apple'], dtype='<U21')"
      ]
     },
     "execution_count": 55,
     "metadata": {},
     "output_type": "execute_result"
    }
   ],
   "source": [
    "c = np.array((1,2,3,'apple'))\n",
    "c"
   ]
  },
  {
   "cell_type": "code",
   "execution_count": 58,
   "id": "86b4216a-f221-42da-895b-3dc7b1d6ed50",
   "metadata": {
    "scrolled": true
   },
   "outputs": [
    {
     "data": {
      "text/plain": [
       "array(['1', '2', '3', 'apple', 'suman'], dtype='<U21')"
      ]
     },
     "execution_count": 58,
     "metadata": {},
     "output_type": "execute_result"
    }
   ],
   "source": [
    "e = np.array((1,2,3,'apple','suman'))\n",
    "e     # so, can not be changed uncode"
   ]
  },
  {
   "cell_type": "code",
   "execution_count": 61,
   "id": "2b0d2459-6c71-4a5f-beda-7a8829ab76e2",
   "metadata": {
    "scrolled": true
   },
   "outputs": [
    {
     "data": {
      "text/plain": [
       "array({1: 22, 2: 43, 7: 32}, dtype=object)"
      ]
     },
     "execution_count": 61,
     "metadata": {},
     "output_type": "execute_result"
    }
   ],
   "source": [
    "# creating an array from dictionary:\n",
    "dic = {1:22,2:43,7:32}\n",
    "b = np.array(dic)\n",
    "b"
   ]
  },
  {
   "cell_type": "code",
   "execution_count": 63,
   "id": "611c89c2-c66e-403c-8b0e-df362a152609",
   "metadata": {
    "scrolled": true
   },
   "outputs": [
    {
     "data": {
      "text/plain": [
       "array({1, 33, 55, 88, 77}, dtype=object)"
      ]
     },
     "execution_count": 63,
     "metadata": {},
     "output_type": "execute_result"
    }
   ],
   "source": [
    "# creating an array from set:\n",
    "set = {1,55,77,33,88}\n",
    "x = np.array(set)\n",
    "x"
   ]
  },
  {
   "cell_type": "code",
   "execution_count": 66,
   "id": "b7475f1d-f37c-4caa-955e-620809005487",
   "metadata": {},
   "outputs": [
    {
     "name": "stdout",
     "output_type": "stream",
     "text": [
      "2nd element on 1st row:  2\n"
     ]
    }
   ],
   "source": [
    "# 2D Array :-\n",
    "# creating a 2D array:-\n",
    "arr = np.array([[1,2,3,4], [5,6,7,8]])\n",
    "print('2nd element on 1st row: ', arr[0, 1])"
   ]
  },
  {
   "cell_type": "code",
   "execution_count": 75,
   "id": "4fd340f4-e290-481b-ad10-0e50c9dbfa5b",
   "metadata": {
    "scrolled": true
   },
   "outputs": [
    {
     "name": "stdout",
     "output_type": "stream",
     "text": [
      "[[ 8  9 10 11]\n",
      " [ 1  2  3  4]\n",
      " [ 6  7 12 13]\n",
      " [14 15 16 17]]\n",
      "2nd element on 1st row:  9\n",
      "3rd element on 4th row:  17\n"
     ]
    }
   ],
   "source": [
    "d2 = np.array([[8,9,10,11],[1,2,3,4],[6,7,12,13],[14,15,16,17]])\n",
    "print(d2)\n",
    "print('2nd element on 1st row: ', d2[0, 1])\n",
    "print('3rd element on 4th row: ', d2[3, 3])"
   ]
  },
  {
   "cell_type": "code",
   "execution_count": 78,
   "id": "f7581b20-60ae-4e77-af55-c4365e3518db",
   "metadata": {
    "scrolled": true
   },
   "outputs": [
    {
     "data": {
      "text/plain": [
       "array([[ 8,  9, 10, 11],\n",
       "       [ 1,  2,  3,  4],\n",
       "       [ 6,  7, 12, 13]])"
      ]
     },
     "execution_count": 78,
     "metadata": {},
     "output_type": "execute_result"
    }
   ],
   "source": [
    "# 3x3 matrix using tuple:-\n",
    "np.array([(8,9,10,11),(1,2,3,4),(6,7,12,13)])"
   ]
  },
  {
   "cell_type": "code",
   "execution_count": 188,
   "id": "dfdc54e3-5a36-4a88-b97c-bcf8556ae9a0",
   "metadata": {
    "scrolled": true
   },
   "outputs": [
    {
     "data": {
      "text/plain": [
       "array([[ 8,  9, 10, 11],\n",
       "       [ 1,  2,  3,  4]])"
      ]
     },
     "execution_count": 188,
     "metadata": {},
     "output_type": "execute_result"
    }
   ],
   "source": [
    "# 2x2 matrix using list:-\n",
    "np.array([[8,9,10,11],[1,2,3,4]])"
   ]
  },
  {
   "cell_type": "code",
   "execution_count": 84,
   "id": "67df27f0-8d40-48d7-9ac8-7fb9d49c4f56",
   "metadata": {
    "scrolled": true
   },
   "outputs": [
    {
     "data": {
      "text/plain": [
       "array([[ 8,  9, 10, 11],\n",
       "       [ 6,  7, 12, 13]])"
      ]
     },
     "execution_count": 84,
     "metadata": {},
     "output_type": "execute_result"
    }
   ],
   "source": [
    "# 2x2 matrix using tuple and list:-\n",
    "np.array([(8,9,10,11),[6,7,12,13]])"
   ]
  },
  {
   "cell_type": "code",
   "execution_count": 85,
   "id": "5d497176-8a56-42c1-8140-0aa311b1470a",
   "metadata": {
    "scrolled": true
   },
   "outputs": [
    {
     "data": {
      "text/plain": [
       "(2, 4)"
      ]
     },
     "execution_count": 85,
     "metadata": {},
     "output_type": "execute_result"
    }
   ],
   "source": [
    "# array attribute\n",
    "# to find the shape\n",
    "x = np.array([(8,9,10,11),[6,7,12,13]])\n",
    "x.shape"
   ]
  },
  {
   "cell_type": "code",
   "execution_count": 86,
   "id": "cbf2f6fa-35f0-42c2-963d-63bd7317b30a",
   "metadata": {
    "scrolled": true
   },
   "outputs": [
    {
     "data": {
      "text/plain": [
       "8"
      ]
     },
     "execution_count": 86,
     "metadata": {},
     "output_type": "execute_result"
    }
   ],
   "source": [
    "# to find the size of an array\n",
    "x = np.array([(8,9,10,11),[6,7,12,13]])\n",
    "x.size"
   ]
  },
  {
   "cell_type": "code",
   "execution_count": 88,
   "id": "ee6c6430-9e0b-434c-a66b-d8ee1265b6c9",
   "metadata": {
    "scrolled": true
   },
   "outputs": [
    {
     "data": {
      "text/plain": [
       "2"
      ]
     },
     "execution_count": 88,
     "metadata": {},
     "output_type": "execute_result"
    }
   ],
   "source": [
    "# to find the dimension of an array.\n",
    "x = np.array([(8,9,10,11),[6,7,12,13]])\n",
    "x.ndim"
   ]
  },
  {
   "cell_type": "code",
   "execution_count": 1,
   "id": "3632deab-2df2-4799-8057-c5ca9be7a3b3",
   "metadata": {},
   "outputs": [
    {
     "ename": "NameError",
     "evalue": "name 'np' is not defined",
     "output_type": "error",
     "traceback": [
      "\u001b[1;31m---------------------------------------------------------------------------\u001b[0m",
      "\u001b[1;31mNameError\u001b[0m                                 Traceback (most recent call last)",
      "Cell \u001b[1;32mIn[1], line 2\u001b[0m\n\u001b[0;32m      1\u001b[0m \u001b[38;5;66;03m# creating an array of diff. lengths.\u001b[39;00m\n\u001b[1;32m----> 2\u001b[0m x \u001b[38;5;241m=\u001b[39m np\u001b[38;5;241m.\u001b[39marray([[\u001b[38;5;241m8\u001b[39m,\u001b[38;5;241m9\u001b[39m,\u001b[38;5;241m10\u001b[39m,\u001b[38;5;241m11\u001b[39m],[\u001b[38;5;241m1\u001b[39m,\u001b[38;5;241m2\u001b[39m,\u001b[38;5;241m3\u001b[39m,\u001b[38;5;241m4\u001b[39m],[\u001b[38;5;241m6\u001b[39m,\u001b[38;5;241m7\u001b[39m,\u001b[38;5;241m12\u001b[39m]])\n\u001b[0;32m      3\u001b[0m x\n",
      "\u001b[1;31mNameError\u001b[0m: name 'np' is not defined"
     ]
    }
   ],
   "source": [
    "# creating an array of diff. lengths.\n",
    "x = np.array([[8,9,10,11],[1,2,3,4],[6,7,12]])\n",
    "x"
   ]
  },
  {
   "cell_type": "code",
   "execution_count": 94,
   "id": "4a82c43c-ec28-47c3-8c12-18cdc4c3c399",
   "metadata": {},
   "outputs": [
    {
     "data": {
      "text/plain": [
       "array([ 1,  2,  3,  4,  5,  6,  7,  8,  9, 10])"
      ]
     },
     "execution_count": 94,
     "metadata": {},
     "output_type": "execute_result"
    }
   ],
   "source": [
    "# arange(): generates numbers between the given interval\n",
    "np.arange(1,11)"
   ]
  },
  {
   "cell_type": "code",
   "execution_count": 99,
   "id": "8c69f48c-6882-4ca2-b914-07350c8df5dd",
   "metadata": {},
   "outputs": [
    {
     "data": {
      "text/plain": [
       "array([[0, 0],\n",
       "       [0, 0],\n",
       "       [0, 0]])"
      ]
     },
     "execution_count": 99,
     "metadata": {},
     "output_type": "execute_result"
    }
   ],
   "source": [
    "# create an array of 3x2 where all values are 0.\n",
    "x = np.array([[0,0],[0,0],[0,0]])\n",
    "x"
   ]
  },
  {
   "cell_type": "code",
   "execution_count": 97,
   "id": "d26b4a46-349e-486a-a1d5-602b61ccdec2",
   "metadata": {
    "scrolled": true
   },
   "outputs": [
    {
     "data": {
      "text/plain": [
       "array([0., 0., 0., 0.])"
      ]
     },
     "execution_count": 97,
     "metadata": {},
     "output_type": "execute_result"
    }
   ],
   "source": [
    "# np.zeros:- ti generates an 0's array.\n",
    "np.zeros(4)"
   ]
  },
  {
   "cell_type": "code",
   "execution_count": 114,
   "id": "8b1565bc-ac30-4518-b4b2-d04423b10de4",
   "metadata": {
    "scrolled": true
   },
   "outputs": [
    {
     "data": {
      "text/plain": [
       "array([[0., 0., 0.],\n",
       "       [0., 0., 0.],\n",
       "       [0., 0., 0.],\n",
       "       [0., 0., 0.]])"
      ]
     },
     "execution_count": 114,
     "metadata": {},
     "output_type": "execute_result"
    }
   ],
   "source": [
    "z = np.zeros((4,3))\n",
    "z"
   ]
  },
  {
   "cell_type": "code",
   "execution_count": 112,
   "id": "5952b12e-3319-4672-845a-699f6b45e43b",
   "metadata": {},
   "outputs": [
    {
     "ename": "TypeError",
     "evalue": "'numpy.dtypes.Float64DType' object is not callable",
     "output_type": "error",
     "traceback": [
      "\u001b[1;31m---------------------------------------------------------------------------\u001b[0m",
      "\u001b[1;31mTypeError\u001b[0m                                 Traceback (most recent call last)",
      "Cell \u001b[1;32mIn[112], line 1\u001b[0m\n\u001b[1;32m----> 1\u001b[0m z\u001b[38;5;241m.\u001b[39mdtype()\n",
      "\u001b[1;31mTypeError\u001b[0m: 'numpy.dtypes.Float64DType' object is not callable"
     ]
    }
   ],
   "source": [
    "z.dtype()"
   ]
  },
  {
   "cell_type": "code",
   "execution_count": 104,
   "id": "5c48fc06-d8d3-452c-96cc-47f20afb65d0",
   "metadata": {
    "scrolled": true
   },
   "outputs": [
    {
     "data": {
      "text/plain": [
       "array([[0, 0, 0],\n",
       "       [0, 0, 0],\n",
       "       [0, 0, 0],\n",
       "       [0, 0, 0]])"
      ]
     },
     "execution_count": 104,
     "metadata": {},
     "output_type": "execute_result"
    }
   ],
   "source": [
    "np.zeros((4,3),dtype='int')"
   ]
  },
  {
   "cell_type": "code",
   "execution_count": 105,
   "id": "bfc093a1-31d1-4f2b-b489-1176c7a5062b",
   "metadata": {
    "scrolled": true
   },
   "outputs": [
    {
     "data": {
      "text/plain": [
       "array([[0, 0, 0],\n",
       "       [0, 0, 0],\n",
       "       [0, 0, 0],\n",
       "       [0, 0, 0]])"
      ]
     },
     "execution_count": 105,
     "metadata": {},
     "output_type": "execute_result"
    }
   ],
   "source": [
    "np.zeros((4,3),dtype=int)"
   ]
  },
  {
   "cell_type": "code",
   "execution_count": 109,
   "id": "db01c9b2-6d8c-45f2-acb9-0c121b641ebe",
   "metadata": {
    "scrolled": true
   },
   "outputs": [
    {
     "data": {
      "text/plain": [
       "array([[0., 0., 0.],\n",
       "       [0., 0., 0.],\n",
       "       [0., 0., 0.],\n",
       "       [0., 0., 0.]])"
      ]
     },
     "execution_count": 109,
     "metadata": {},
     "output_type": "execute_result"
    }
   ],
   "source": [
    "np.zeros((4,3),dtype='double')"
   ]
  },
  {
   "cell_type": "code",
   "execution_count": 111,
   "id": "35f1461c-a3a3-422f-b366-de1c99ff65b6",
   "metadata": {
    "scrolled": true
   },
   "outputs": [
    {
     "data": {
      "text/plain": [
       "array([[0, 0, 0],\n",
       "       [0, 0, 0],\n",
       "       [0, 0, 0],\n",
       "       [0, 0, 0]])"
      ]
     },
     "execution_count": 111,
     "metadata": {},
     "output_type": "execute_result"
    }
   ],
   "source": [
    "x = np.zeros((4,3))\n",
    "x.astype(int)"
   ]
  },
  {
   "cell_type": "code",
   "execution_count": 116,
   "id": "a7f19be6-f2df-4d5a-94e6-e2b6c7738090",
   "metadata": {
    "scrolled": true
   },
   "outputs": [
    {
     "data": {
      "text/plain": [
       "array([1., 1., 1., 1., 1., 1., 1.])"
      ]
     },
     "execution_count": 116,
     "metadata": {},
     "output_type": "execute_result"
    }
   ],
   "source": [
    "# one :- cretes an array with all values as 1.\n",
    "np.ones(7)"
   ]
  },
  {
   "cell_type": "code",
   "execution_count": 117,
   "id": "85b8b4ee-75d0-42d4-9ba4-502f3484a759",
   "metadata": {
    "scrolled": true
   },
   "outputs": [
    {
     "data": {
      "text/plain": [
       "array([[1, 1, 1, 1, 1, 1],\n",
       "       [1, 1, 1, 1, 1, 1],\n",
       "       [1, 1, 1, 1, 1, 1],\n",
       "       [1, 1, 1, 1, 1, 1],\n",
       "       [1, 1, 1, 1, 1, 1],\n",
       "       [1, 1, 1, 1, 1, 1]])"
      ]
     },
     "execution_count": 117,
     "metadata": {},
     "output_type": "execute_result"
    }
   ],
   "source": [
    "np.ones((6,6),dtype=int)"
   ]
  },
  {
   "cell_type": "code",
   "execution_count": 119,
   "id": "ab83bd2f-31d6-48dc-afab-91127a543977",
   "metadata": {
    "scrolled": true
   },
   "outputs": [
    {
     "data": {
      "text/plain": [
       "array([[50, 50, 50, 50, 50],\n",
       "       [50, 50, 50, 50, 50],\n",
       "       [50, 50, 50, 50, 50],\n",
       "       [50, 50, 50, 50, 50],\n",
       "       [50, 50, 50, 50, 50]])"
      ]
     },
     "execution_count": 119,
     "metadata": {},
     "output_type": "execute_result"
    }
   ],
   "source": [
    "# full():- creates an array where values are specific.\n",
    "np.full((5,5),50)"
   ]
  },
  {
   "cell_type": "code",
   "execution_count": 121,
   "id": "31ef1a63-b3c2-41e5-8b0f-7fd08fa204f5",
   "metadata": {
    "scrolled": true
   },
   "outputs": [
    {
     "data": {
      "text/plain": [
       "array([['❌❌✅', '❌❌✅', '❌❌✅', '❌❌✅', '❌❌✅'],\n",
       "       ['❌❌✅', '❌❌✅', '❌❌✅', '❌❌✅', '❌❌✅'],\n",
       "       ['❌❌✅', '❌❌✅', '❌❌✅', '❌❌✅', '❌❌✅'],\n",
       "       ['❌❌✅', '❌❌✅', '❌❌✅', '❌❌✅', '❌❌✅'],\n",
       "       ['❌❌✅', '❌❌✅', '❌❌✅', '❌❌✅', '❌❌✅']], dtype='<U3')"
      ]
     },
     "execution_count": 121,
     "metadata": {},
     "output_type": "execute_result"
    }
   ],
   "source": [
    "np.full((5,5),'❌❌✅')"
   ]
  },
  {
   "cell_type": "code",
   "execution_count": 122,
   "id": "cd212438-deef-49f5-9b5c-fb77186416bf",
   "metadata": {
    "scrolled": true
   },
   "outputs": [
    {
     "data": {
      "text/plain": [
       "array([  1.,  12.,  23.,  34.,  45.,  56.,  67.,  78.,  89., 100.])"
      ]
     },
     "execution_count": 122,
     "metadata": {},
     "output_type": "execute_result"
    }
   ],
   "source": [
    "# linspace() :- generates equally distributed values.\n",
    "np.linspace(1,100,10)"
   ]
  },
  {
   "cell_type": "code",
   "execution_count": 123,
   "id": "70264bb6-dee9-480b-9205-36a38b8da184",
   "metadata": {
    "scrolled": true
   },
   "outputs": [
    {
     "data": {
      "text/plain": [
       "array([  1. ,   2.8,   4.6,   6.4,   8.2,  10. ,  11.8,  13.6,  15.4,\n",
       "        17.2,  19. ,  20.8,  22.6,  24.4,  26.2,  28. ,  29.8,  31.6,\n",
       "        33.4,  35.2,  37. ,  38.8,  40.6,  42.4,  44.2,  46. ,  47.8,\n",
       "        49.6,  51.4,  53.2,  55. ,  56.8,  58.6,  60.4,  62.2,  64. ,\n",
       "        65.8,  67.6,  69.4,  71.2,  73. ,  74.8,  76.6,  78.4,  80.2,\n",
       "        82. ,  83.8,  85.6,  87.4,  89.2,  91. ,  92.8,  94.6,  96.4,\n",
       "        98.2, 100. ])"
      ]
     },
     "execution_count": 123,
     "metadata": {},
     "output_type": "execute_result"
    }
   ],
   "source": [
    "np.linspace(1,100,56)"
   ]
  },
  {
   "cell_type": "code",
   "execution_count": 125,
   "id": "83551d08-cd45-42de-a648-d8cd24d9ab3c",
   "metadata": {
    "scrolled": true
   },
   "outputs": [
    {
     "data": {
      "text/plain": [
       "array([  1.        ,   6.04040404,  11.08080808,  16.12121212,\n",
       "        21.16161616,  26.2020202 ,  31.24242424,  36.28282828,\n",
       "        41.32323232,  46.36363636,  51.4040404 ,  56.44444444,\n",
       "        61.48484848,  66.52525253,  71.56565657,  76.60606061,\n",
       "        81.64646465,  86.68686869,  91.72727273,  96.76767677,\n",
       "       101.80808081, 106.84848485, 111.88888889, 116.92929293,\n",
       "       121.96969697, 127.01010101, 132.05050505, 137.09090909,\n",
       "       142.13131313, 147.17171717, 152.21212121, 157.25252525,\n",
       "       162.29292929, 167.33333333, 172.37373737, 177.41414141,\n",
       "       182.45454545, 187.49494949, 192.53535354, 197.57575758,\n",
       "       202.61616162, 207.65656566, 212.6969697 , 217.73737374,\n",
       "       222.77777778, 227.81818182, 232.85858586, 237.8989899 ,\n",
       "       242.93939394, 247.97979798, 253.02020202, 258.06060606,\n",
       "       263.1010101 , 268.14141414, 273.18181818, 278.22222222,\n",
       "       283.26262626, 288.3030303 , 293.34343434, 298.38383838,\n",
       "       303.42424242, 308.46464646, 313.50505051, 318.54545455,\n",
       "       323.58585859, 328.62626263, 333.66666667, 338.70707071,\n",
       "       343.74747475, 348.78787879, 353.82828283, 358.86868687,\n",
       "       363.90909091, 368.94949495, 373.98989899, 379.03030303,\n",
       "       384.07070707, 389.11111111, 394.15151515, 399.19191919,\n",
       "       404.23232323, 409.27272727, 414.31313131, 419.35353535,\n",
       "       424.39393939, 429.43434343, 434.47474747, 439.51515152,\n",
       "       444.55555556, 449.5959596 , 454.63636364, 459.67676768,\n",
       "       464.71717172, 469.75757576, 474.7979798 , 479.83838384,\n",
       "       484.87878788, 489.91919192, 494.95959596, 500.        ])"
      ]
     },
     "execution_count": 125,
     "metadata": {},
     "output_type": "execute_result"
    }
   ],
   "source": [
    "# np.linspace(startrange,endrange,no.of values)\n",
    "np.linspace(1,500,100)"
   ]
  },
  {
   "cell_type": "code",
   "execution_count": 128,
   "id": "18463820-6af7-49cc-8c96-1332a9108312",
   "metadata": {
    "scrolled": true
   },
   "outputs": [
    {
     "data": {
      "text/plain": [
       "array([[1, 0, 0, 0, 0, 0],\n",
       "       [0, 1, 0, 0, 0, 0],\n",
       "       [0, 0, 1, 0, 0, 0],\n",
       "       [0, 0, 0, 1, 0, 0],\n",
       "       [0, 0, 0, 0, 1, 0],\n",
       "       [0, 0, 0, 0, 0, 1]])"
      ]
     },
     "execution_count": 128,
     "metadata": {},
     "output_type": "execute_result"
    }
   ],
   "source": [
    "#identity matrix :-\n",
    "np.eye(6,dtype='int')"
   ]
  },
  {
   "cell_type": "code",
   "execution_count": 129,
   "id": "1089d7e6-83fa-4ccf-9536-97a67581e5ec",
   "metadata": {
    "scrolled": true
   },
   "outputs": [
    {
     "data": {
      "text/plain": [
       "array([[1, 0, 0, 0, 0, 0, 0],\n",
       "       [0, 1, 0, 0, 0, 0, 0],\n",
       "       [0, 0, 1, 0, 0, 0, 0],\n",
       "       [0, 0, 0, 1, 0, 0, 0],\n",
       "       [0, 0, 0, 0, 1, 0, 0],\n",
       "       [0, 0, 0, 0, 0, 1, 0],\n",
       "       [0, 0, 0, 0, 0, 0, 1]])"
      ]
     },
     "execution_count": 129,
     "metadata": {},
     "output_type": "execute_result"
    }
   ],
   "source": [
    "#identity matrix :-\n",
    "np.identity(7,dtype='int')"
   ]
  },
  {
   "cell_type": "code",
   "execution_count": 186,
   "id": "2bfefc24-e69f-46c0-ac99-3033d58a8fc7",
   "metadata": {
    "scrolled": true
   },
   "outputs": [
    {
     "data": {
      "text/plain": [
       "0.2441452257659409"
      ]
     },
     "execution_count": 186,
     "metadata": {},
     "output_type": "execute_result"
    }
   ],
   "source": [
    "# Random Number in an array.\n",
    "# Random.rand():-generate a random number between 0~1.\n",
    "np.random.rand()"
   ]
  },
  {
   "cell_type": "code",
   "execution_count": 174,
   "id": "ca6a30f2-4f1c-4bfb-973e-f589d8d3fa9d",
   "metadata": {
    "scrolled": true
   },
   "outputs": [
    {
     "data": {
      "text/plain": [
       "array([0.67772682, 0.37750892, 0.9256709 , 0.96749146, 0.5869871 ,\n",
       "       0.51816708])"
      ]
     },
     "execution_count": 174,
     "metadata": {},
     "output_type": "execute_result"
    }
   ],
   "source": [
    "# creating a 1d array \n",
    "np.random.rand(6)"
   ]
  },
  {
   "cell_type": "code",
   "execution_count": 131,
   "id": "c474cbbf-b93f-405f-b47b-ffea379e1cc3",
   "metadata": {
    "scrolled": true
   },
   "outputs": [
    {
     "data": {
      "text/plain": [
       "array([[0.37355461, 0.79039889, 0.27331683, 0.92056354],\n",
       "       [0.81005015, 0.02764154, 0.53859661, 0.86269137],\n",
       "       [0.48501686, 0.90108724, 0.18058534, 0.89499746]])"
      ]
     },
     "execution_count": 131,
     "metadata": {},
     "output_type": "execute_result"
    }
   ],
   "source": [
    "np.random.rand(3,4)"
   ]
  },
  {
   "cell_type": "code",
   "execution_count": 134,
   "id": "ff06b1a6-3f0b-42a3-b2a7-e967ba62ac8a",
   "metadata": {
    "scrolled": true
   },
   "outputs": [
    {
     "data": {
      "text/plain": [
       "19"
      ]
     },
     "execution_count": 134,
     "metadata": {},
     "output_type": "execute_result"
    }
   ],
   "source": [
    "# random.randint(): generate random integer value.\n",
    "np.random.randint(1,20)"
   ]
  },
  {
   "cell_type": "code",
   "execution_count": 137,
   "id": "e16d09ea-b70b-41c9-8267-3cd1cb8124ed",
   "metadata": {
    "scrolled": true
   },
   "outputs": [
    {
     "data": {
      "text/plain": [
       "array([[ 8,  3, 11, 19, 19, 11],\n",
       "       [17, 16, 16, 10,  7, 13],\n",
       "       [12, 12,  7,  8,  4, 13],\n",
       "       [ 8, 19, 16,  1,  4, 17]], dtype=int32)"
      ]
     },
     "execution_count": 137,
     "metadata": {},
     "output_type": "execute_result"
    }
   ],
   "source": [
    "np.random.randint(1,20,(4,6))"
   ]
  },
  {
   "cell_type": "code",
   "execution_count": 139,
   "id": "1e4da854-68e5-4110-97b5-d14f4424f890",
   "metadata": {
    "scrolled": true
   },
   "outputs": [
    {
     "name": "stdout",
     "output_type": "stream",
     "text": [
      "[ 2 22  4  5  6]\n",
      "[24  2 44 56  6]\n"
     ]
    }
   ],
   "source": [
    "# mathematical operations on array:-\n",
    "a = np.array([2,22,4,5,6])\n",
    "b = np.array([24,2,44,56,6])\n",
    "print(a)\n",
    "print(b)"
   ]
  },
  {
   "cell_type": "code",
   "execution_count": 142,
   "id": "46776660-6734-40a9-96f5-1ac9ba2e3551",
   "metadata": {
    "scrolled": true
   },
   "outputs": [
    {
     "name": "stdout",
     "output_type": "stream",
     "text": [
      "[ 2 22  4  5  6]\n",
      "[24  2 44 56  6  4]\n"
     ]
    }
   ],
   "source": [
    "# cann not be perform bcz differnt length\n",
    "a = np.array([2,22,4,5,6])\n",
    "b = np.array([24,2,44,56,6,4])\n",
    "print(a)\n",
    "print(b)"
   ]
  },
  {
   "cell_type": "code",
   "execution_count": 140,
   "id": "cdcbe158-7a63-4944-be4d-f45a22b54041",
   "metadata": {
    "scrolled": true
   },
   "outputs": [
    {
     "data": {
      "text/plain": [
       "array([26, 24, 48, 61, 12])"
      ]
     },
     "execution_count": 140,
     "metadata": {},
     "output_type": "execute_result"
    }
   ],
   "source": [
    "# add():\n",
    "np.add(a,b)"
   ]
  },
  {
   "cell_type": "code",
   "execution_count": 187,
   "id": "136f888b-60af-4688-a83f-774b4ef8afbb",
   "metadata": {
    "scrolled": true
   },
   "outputs": [
    {
     "data": {
      "text/plain": [
       "array([ 1, 20,  1,  1,  1])"
      ]
     },
     "execution_count": 187,
     "metadata": {},
     "output_type": "execute_result"
    }
   ],
   "source": [
    "# subtract():\n",
    "np.subtract(a,b)"
   ]
  },
  {
   "cell_type": "code",
   "execution_count": 144,
   "id": "eae8cf0f-b9d1-4563-beae-9e59d8ed9e8f",
   "metadata": {
    "scrolled": true
   },
   "outputs": [
    {
     "data": {
      "text/plain": [
       "array([ 48,  44, 176, 280,  36])"
      ]
     },
     "execution_count": 144,
     "metadata": {},
     "output_type": "execute_result"
    }
   ],
   "source": [
    "a = np.array([2,22,4,5,6])\n",
    "b = np.array([24,2,44,56,6])\n",
    "np.multiply(a,b)"
   ]
  },
  {
   "cell_type": "code",
   "execution_count": 147,
   "id": "958f82fe-d1f2-4384-9960-c70510a199f8",
   "metadata": {
    "scrolled": true
   },
   "outputs": [
    {
     "data": {
      "text/plain": [
       "array([ 0.08333333, 11.        ,  0.09090909,  0.08928571,  1.        ])"
      ]
     },
     "execution_count": 147,
     "metadata": {},
     "output_type": "execute_result"
    }
   ],
   "source": [
    "# divide() :- return quotient value\n",
    "a = np.array([2,22,4,5,6])\n",
    "b = np.array([24,2,44,56,6])\n",
    "np.divide(a,b)"
   ]
  },
  {
   "cell_type": "code",
   "execution_count": 148,
   "id": "087c3062-47c3-423a-b95a-26fad2931ad0",
   "metadata": {
    "scrolled": true
   },
   "outputs": [
    {
     "data": {
      "text/plain": [
       "array([ 0, 11,  0,  0,  1])"
      ]
     },
     "execution_count": 148,
     "metadata": {},
     "output_type": "execute_result"
    }
   ],
   "source": [
    "# floor_divide() :- return int value\n",
    "a = np.array([2,22,4,5,6])\n",
    "b = np.array([24,2,44,56,6])\n",
    "np.floor_divide(a,b)"
   ]
  },
  {
   "cell_type": "code",
   "execution_count": 151,
   "id": "f8865c27-7d6d-41e2-8f6a-ce56a5ad47b1",
   "metadata": {
    "scrolled": true
   },
   "outputs": [
    {
     "data": {
      "text/plain": [
       "array([2, 0, 4, 5, 0])"
      ]
     },
     "execution_count": 151,
     "metadata": {},
     "output_type": "execute_result"
    }
   ],
   "source": [
    "#mod()\n",
    "np.mod(a,b)"
   ]
  },
  {
   "cell_type": "code",
   "execution_count": 152,
   "id": "4daae2ac-6a9f-4f40-ad1e-fd50752e6184",
   "metadata": {
    "scrolled": true
   },
   "outputs": [
    {
     "data": {
      "text/plain": [
       "(array([ 0, 11,  0,  0,  1]), array([2, 0, 4, 5, 0]))"
      ]
     },
     "execution_count": 152,
     "metadata": {},
     "output_type": "execute_result"
    }
   ],
   "source": [
    "#divmod()\n",
    "np.divmod(a,b)"
   ]
  },
  {
   "cell_type": "code",
   "execution_count": 154,
   "id": "b29d75d1-845d-4cf4-b586-1f668c1c5f6a",
   "metadata": {
    "scrolled": true
   },
   "outputs": [
    {
     "data": {
      "text/plain": [
       "array([1.41421356, 4.69041576, 2.        , 2.23606798, 2.44948974])"
      ]
     },
     "execution_count": 154,
     "metadata": {},
     "output_type": "execute_result"
    }
   ],
   "source": [
    "#sqrt() \n",
    "np.sqrt(a)"
   ]
  },
  {
   "cell_type": "code",
   "execution_count": 155,
   "id": "a27e8440-852b-4f3a-b886-2206929fe74f",
   "metadata": {
    "scrolled": true
   },
   "outputs": [
    {
     "data": {
      "text/plain": [
       "array([ 576,    4, 1936, 3136,   36])"
      ]
     },
     "execution_count": 155,
     "metadata": {},
     "output_type": "execute_result"
    }
   ],
   "source": [
    "#power(array,exponent)\n",
    "np.power(b,2)"
   ]
  },
  {
   "cell_type": "code",
   "execution_count": 156,
   "id": "fa36c97e-2198-4d77-9ed9-688f88b9c3d6",
   "metadata": {
    "scrolled": true
   },
   "outputs": [
    {
     "data": {
      "text/plain": [
       "array([0.69314718, 3.09104245, 1.38629436, 1.60943791, 1.79175947])"
      ]
     },
     "execution_count": 156,
     "metadata": {},
     "output_type": "execute_result"
    }
   ],
   "source": [
    "#log()\n",
    "np.log(a)"
   ]
  },
  {
   "cell_type": "code",
   "execution_count": 157,
   "id": "cf8bd753-a825-4a59-8507-9def88ed721c",
   "metadata": {
    "scrolled": true
   },
   "outputs": [
    {
     "data": {
      "text/plain": [
       "array([ 0.90929743, -0.00885131, -0.7568025 , -0.95892427, -0.2794155 ])"
      ]
     },
     "execution_count": 157,
     "metadata": {},
     "output_type": "execute_result"
    }
   ],
   "source": [
    "#sin()\n",
    "np.sin(a)"
   ]
  },
  {
   "cell_type": "code",
   "execution_count": 158,
   "id": "87ce6764-919b-4fd2-ad83-2214b669e75d",
   "metadata": {
    "scrolled": true
   },
   "outputs": [
    {
     "data": {
      "text/plain": [
       "array([-0.41614684, -0.99996083, -0.65364362,  0.28366219,  0.96017029])"
      ]
     },
     "execution_count": 158,
     "metadata": {},
     "output_type": "execute_result"
    }
   ],
   "source": [
    "#cos()\n",
    "np.cos(a)"
   ]
  },
  {
   "cell_type": "code",
   "execution_count": 159,
   "id": "e4938cb1-e865-402f-9c42-ee7720d5787d",
   "metadata": {
    "scrolled": true
   },
   "outputs": [
    {
     "data": {
      "text/plain": [
       "array([-2.18503986,  0.00885166,  1.15782128, -3.38051501, -0.29100619])"
      ]
     },
     "execution_count": 159,
     "metadata": {},
     "output_type": "execute_result"
    }
   ],
   "source": [
    "#tan()\n",
    "np.tan(a)"
   ]
  },
  {
   "cell_type": "code",
   "execution_count": 160,
   "id": "31e7c4a0-c996-47d1-b7a1-72285f338766",
   "metadata": {
    "scrolled": true
   },
   "outputs": [
    {
     "data": {
      "text/plain": [
       "array([7.38905610e+00, 3.58491285e+09, 5.45981500e+01, 1.48413159e+02,\n",
       "       4.03428793e+02])"
      ]
     },
     "execution_count": 160,
     "metadata": {},
     "output_type": "execute_result"
    }
   ],
   "source": [
    "# exp():\n",
    "np.exp(a)"
   ]
  },
  {
   "cell_type": "code",
   "execution_count": 162,
   "id": "95d19dfa-cf0b-4b10-92de-f5bedf9c3ad7",
   "metadata": {
    "scrolled": true
   },
   "outputs": [
    {
     "data": {
      "text/plain": [
       "array([1, 2, 3, 4, 5])"
      ]
     },
     "execution_count": 162,
     "metadata": {},
     "output_type": "execute_result"
    }
   ],
   "source": [
    "# Statistical Operation on array.\n",
    "b = np.array([1,2,3,4,5])\n",
    "b"
   ]
  },
  {
   "cell_type": "code",
   "execution_count": 164,
   "id": "f4c075a3-17cf-4380-b6f4-e3521cfb643b",
   "metadata": {
    "scrolled": true
   },
   "outputs": [
    {
     "data": {
      "text/plain": [
       "np.int64(5)"
      ]
     },
     "execution_count": 164,
     "metadata": {},
     "output_type": "execute_result"
    }
   ],
   "source": [
    "# max()\n",
    "np.max(b)"
   ]
  },
  {
   "cell_type": "code",
   "execution_count": 165,
   "id": "cad076bc-baca-43b1-adcd-7493abf2ddab",
   "metadata": {
    "scrolled": true
   },
   "outputs": [
    {
     "data": {
      "text/plain": [
       "np.int64(1)"
      ]
     },
     "execution_count": 165,
     "metadata": {},
     "output_type": "execute_result"
    }
   ],
   "source": [
    "#min()\n",
    "np.min(b)"
   ]
  },
  {
   "cell_type": "code",
   "execution_count": 166,
   "id": "71316bec-617c-4600-9abc-589ab19d93b2",
   "metadata": {
    "scrolled": true
   },
   "outputs": [
    {
     "data": {
      "text/plain": [
       "np.float64(3.0)"
      ]
     },
     "execution_count": 166,
     "metadata": {},
     "output_type": "execute_result"
    }
   ],
   "source": [
    "# mean(): avg\n",
    "np.mean(b)"
   ]
  },
  {
   "cell_type": "code",
   "execution_count": 167,
   "id": "1a4f0d93-0767-4bc2-97c6-6d7e7b0e4735",
   "metadata": {
    "scrolled": true
   },
   "outputs": [
    {
     "data": {
      "text/plain": [
       "np.float64(3.0)"
      ]
     },
     "execution_count": 167,
     "metadata": {},
     "output_type": "execute_result"
    }
   ],
   "source": [
    "# median():\n",
    "np.median(b)"
   ]
  },
  {
   "cell_type": "code",
   "execution_count": 168,
   "id": "34ff4441-4ab1-44bb-a78d-349c2e064efa",
   "metadata": {
    "scrolled": true
   },
   "outputs": [
    {
     "data": {
      "text/plain": [
       "np.int64(4)"
      ]
     },
     "execution_count": 168,
     "metadata": {},
     "output_type": "execute_result"
    }
   ],
   "source": [
    "# argmax(): return the index of maximum value\n",
    "np.argmax(b)"
   ]
  },
  {
   "cell_type": "code",
   "execution_count": 169,
   "id": "c80dc70b-3dab-48a8-9f52-bc0e47c4fadb",
   "metadata": {
    "scrolled": true
   },
   "outputs": [
    {
     "data": {
      "text/plain": [
       "np.int64(0)"
      ]
     },
     "execution_count": 169,
     "metadata": {},
     "output_type": "execute_result"
    }
   ],
   "source": [
    "# argmin(): return the index of minmum value in your array\n",
    "np.argmin(b)"
   ]
  },
  {
   "cell_type": "code",
   "execution_count": 170,
   "id": "c5254c0d-2154-4693-9949-65068b7d1df1",
   "metadata": {
    "scrolled": true
   },
   "outputs": [
    {
     "data": {
      "text/plain": [
       "np.float64(1.4142135623730951)"
      ]
     },
     "execution_count": 170,
     "metadata": {},
     "output_type": "execute_result"
    }
   ],
   "source": [
    "# std(): standard deviation \n",
    "np.std(b)"
   ]
  },
  {
   "cell_type": "code",
   "execution_count": 173,
   "id": "b2620956-18be-4a3a-b04e-b40c86b41052",
   "metadata": {
    "scrolled": true
   },
   "outputs": [
    {
     "data": {
      "text/plain": [
       "array([ 1,  3,  6, 10, 15])"
      ]
     },
     "execution_count": 173,
     "metadata": {},
     "output_type": "execute_result"
    }
   ],
   "source": [
    "#cumsum: cummulative summation\n",
    "b = np.array([1,2,3,4,5])\n",
    "np.cumsum(b)"
   ]
  },
  {
   "cell_type": "code",
   "execution_count": 175,
   "id": "ee9a5fdf-79f7-40a4-97f7-5bf47ca48661",
   "metadata": {
    "scrolled": true
   },
   "outputs": [
    {
     "data": {
      "text/plain": [
       "array([  1,   2,   6,  24, 120])"
      ]
     },
     "execution_count": 175,
     "metadata": {},
     "output_type": "execute_result"
    }
   ],
   "source": [
    "#cumprod: cummulative product\n",
    "b = np.array([1,2,3,4,5])\n",
    "np.cumprod(b)"
   ]
  },
  {
   "cell_type": "code",
   "execution_count": 176,
   "id": "bc3c97f8-6220-43df-b41c-bd5afe824235",
   "metadata": {
    "scrolled": true
   },
   "outputs": [
    {
     "ename": "AttributeError",
     "evalue": "module 'numpy' has no attribute 'cumproduct'",
     "output_type": "error",
     "traceback": [
      "\u001b[1;31m---------------------------------------------------------------------------\u001b[0m",
      "\u001b[1;31mAttributeError\u001b[0m                            Traceback (most recent call last)",
      "Cell \u001b[1;32mIn[176], line 3\u001b[0m\n\u001b[0;32m      1\u001b[0m \u001b[38;5;66;03m#cumproduct: cummulative product\u001b[39;00m\n\u001b[0;32m      2\u001b[0m b \u001b[38;5;241m=\u001b[39m np\u001b[38;5;241m.\u001b[39marray([\u001b[38;5;241m1\u001b[39m,\u001b[38;5;241m2\u001b[39m,\u001b[38;5;241m3\u001b[39m,\u001b[38;5;241m4\u001b[39m,\u001b[38;5;241m5\u001b[39m])\n\u001b[1;32m----> 3\u001b[0m np\u001b[38;5;241m.\u001b[39mcumproduct(b)\n",
      "File \u001b[1;32m~\\AppData\\Roaming\\Python\\Python312\\site-packages\\numpy\\__init__.py:427\u001b[0m, in \u001b[0;36m__getattr__\u001b[1;34m(attr)\u001b[0m\n\u001b[0;32m    424\u001b[0m     \u001b[38;5;28;01mimport\u001b[39;00m \u001b[38;5;21;01mnumpy\u001b[39;00m\u001b[38;5;21;01m.\u001b[39;00m\u001b[38;5;21;01mchar\u001b[39;00m \u001b[38;5;28;01mas\u001b[39;00m \u001b[38;5;21;01mchar\u001b[39;00m\n\u001b[0;32m    425\u001b[0m     \u001b[38;5;28;01mreturn\u001b[39;00m char\u001b[38;5;241m.\u001b[39mchararray\n\u001b[1;32m--> 427\u001b[0m \u001b[38;5;28;01mraise\u001b[39;00m \u001b[38;5;167;01mAttributeError\u001b[39;00m(\u001b[38;5;124m\"\u001b[39m\u001b[38;5;124mmodule \u001b[39m\u001b[38;5;132;01m{!r}\u001b[39;00m\u001b[38;5;124m has no attribute \u001b[39m\u001b[38;5;124m\"\u001b[39m\n\u001b[0;32m    428\u001b[0m                      \u001b[38;5;124m\"\u001b[39m\u001b[38;5;132;01m{!r}\u001b[39;00m\u001b[38;5;124m\"\u001b[39m\u001b[38;5;241m.\u001b[39mformat(\u001b[38;5;18m__name__\u001b[39m, attr))\n",
      "\u001b[1;31mAttributeError\u001b[0m: module 'numpy' has no attribute 'cumproduct'"
     ]
    }
   ],
   "source": [
    "#cumproduct: cummulative product\n",
    "b = np.array([1,2,3,4,5])\n",
    "np.cumproduct(b)"
   ]
  },
  {
   "cell_type": "code",
   "execution_count": 178,
   "id": "d8aabde9-f1a5-433d-b71b-73e287e825b8",
   "metadata": {
    "scrolled": true
   },
   "outputs": [
    {
     "data": {
      "text/plain": [
       "array([1, 1, 1, 2, 2, 2, 3, 3, 3, 4, 4, 4, 5, 5, 5])"
      ]
     },
     "execution_count": 178,
     "metadata": {},
     "output_type": "execute_result"
    }
   ],
   "source": [
    "# repeat():- repeats each element for the given array\n",
    "np.repeat(b,3)"
   ]
  },
  {
   "cell_type": "code",
   "execution_count": 179,
   "id": "16b7961d-8ede-4584-94e5-a66580c00a88",
   "metadata": {
    "scrolled": true
   },
   "outputs": [
    {
     "data": {
      "text/plain": [
       "array([1, 1, 2, 2, 3, 3, 4, 4, 5, 5])"
      ]
     },
     "execution_count": 179,
     "metadata": {},
     "output_type": "execute_result"
    }
   ],
   "source": [
    "# repeat()\n",
    "np.repeat(b,2)"
   ]
  },
  {
   "cell_type": "code",
   "execution_count": 182,
   "id": "86baea55-9961-459e-8664-465b4c41f607",
   "metadata": {
    "scrolled": true
   },
   "outputs": [
    {
     "data": {
      "text/plain": [
       "array([1, 2, 3, 4, 5, 1, 2, 3, 4, 5, 1, 2, 3, 4, 5])"
      ]
     },
     "execution_count": 182,
     "metadata": {},
     "output_type": "execute_result"
    }
   ],
   "source": [
    "# tile() :- repeats the whole sequence for given array\n",
    "np.tile(b,3)"
   ]
  },
  {
   "cell_type": "code",
   "execution_count": 185,
   "id": "94176f5e-bce7-42b7-b914-703222d48ef2",
   "metadata": {
    "scrolled": true
   },
   "outputs": [
    {
     "data": {
      "text/plain": [
       "(array([ 2,  3,  7, 13]),)"
      ]
     },
     "execution_count": 185,
     "metadata": {},
     "output_type": "execute_result"
    }
   ],
   "source": [
    "# where():returns the index of specific elements .\n",
    "x = np.array([1,2,3,3,6,2,7,3,8,7,9,5,5,3,5])\n",
    "np.where(x==3)  #print index position"
   ]
  },
  {
   "cell_type": "code",
   "execution_count": null,
   "id": "8eaabe4a-4a33-4910-831f-24b78ec3b25d",
   "metadata": {},
   "outputs": [],
   "source": []
  },
  {
   "cell_type": "code",
   "execution_count": null,
   "id": "8bdb6391-0642-42e7-bdf3-362211956e02",
   "metadata": {},
   "outputs": [],
   "source": []
  }
 ],
 "metadata": {
  "kernelspec": {
   "display_name": "Python 3 (ipykernel)",
   "language": "python",
   "name": "python3"
  },
  "language_info": {
   "codemirror_mode": {
    "name": "ipython",
    "version": 3
   },
   "file_extension": ".py",
   "mimetype": "text/x-python",
   "name": "python",
   "nbconvert_exporter": "python",
   "pygments_lexer": "ipython3",
   "version": "3.12.7"
  }
 },
 "nbformat": 4,
 "nbformat_minor": 5
}
