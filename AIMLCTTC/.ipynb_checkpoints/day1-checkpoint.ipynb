{
 "cells": [
  {
   "cell_type": "markdown",
   "id": "e654347c-9787-4bb1-a522-ed864390fcc5",
   "metadata": {},
   "source": [
    "# Day1 \n"
   ]
  },
  {
   "cell_type": "markdown",
   "id": "48a58618-a4f0-4d9a-b8d7-53ca7d94301f",
   "metadata": {},
   "source": [
    "# Basic Components of Python :-\n",
    "### 1. comments \n",
    "### 2. keywords\n",
    "### 3. Identifiers \n",
    "### 4. Variables \n",
    "### 5. Datatypes\n",
    "### 6. operators"
   ]
  },
  {
   "cell_type": "markdown",
   "id": "9e97415f-fb90-4d6d-a116-f15b31690303",
   "metadata": {
    "jp-MarkdownHeadingCollapsed": true
   },
   "source": [
    "## 1. Comments:-"
   ]
  },
  {
   "cell_type": "code",
   "execution_count": 5,
   "id": "d82b2d32-5a3a-433c-b432-8726f00e1149",
   "metadata": {},
   "outputs": [],
   "source": [
    "#This is a single line comments"
   ]
  },
  {
   "cell_type": "code",
   "execution_count": 7,
   "id": "f21b72a3-3115-4c13-b535-667b7e4c7573",
   "metadata": {},
   "outputs": [
    {
     "data": {
      "text/plain": [
       "' This\\nis\\na \\nmultiline comments\\n'"
      ]
     },
     "execution_count": 7,
     "metadata": {},
     "output_type": "execute_result"
    }
   ],
   "source": [
    "\"\"\" This\n",
    "is\n",
    "a \n",
    "multiline comments\n",
    "\"\"\"\n"
   ]
  },
  {
   "cell_type": "code",
   "execution_count": 8,
   "id": "6974896c-c604-4f93-8281-fc62f1bbc0f9",
   "metadata": {},
   "outputs": [
    {
     "data": {
      "text/plain": [
       "179"
      ]
     },
     "execution_count": 8,
     "metadata": {},
     "output_type": "execute_result"
    }
   ],
   "source": [
    "90+89\n"
   ]
  },
  {
   "cell_type": "code",
   "execution_count": null,
   "id": "67eef700-84ee-4899-990e-3f7bd67106ac",
   "metadata": {},
   "outputs": [],
   "source": []
  },
  {
   "cell_type": "markdown",
   "id": "373d5708-3a39-4ece-bfce-e5d64e669e51",
   "metadata": {},
   "source": [
    "## 2.Keyword :- Reserved Words\n",
    "#### In python there are 35+ keywords"
   ]
  },
  {
   "cell_type": "code",
   "execution_count": 9,
   "id": "d3a938ce-0682-4d19-8280-f17a297b4010",
   "metadata": {},
   "outputs": [
    {
     "name": "stdout",
     "output_type": "stream",
     "text": [
      "\n",
      "Here is a list of the Python keywords.  Enter any keyword to get more help.\n",
      "\n",
      "False               class               from                or\n",
      "None                continue            global              pass\n",
      "True                def                 if                  raise\n",
      "and                 del                 import              return\n",
      "as                  elif                in                  try\n",
      "assert              else                is                  while\n",
      "async               except              lambda              with\n",
      "await               finally             nonlocal            yield\n",
      "break               for                 not                 \n",
      "\n"
     ]
    }
   ],
   "source": [
    "help('keywords')"
   ]
  },
  {
   "cell_type": "markdown",
   "id": "364e463e-3a67-4a8a-955a-7fa351537e2a",
   "metadata": {},
   "source": [
    "finally #words which are green and bold are keywords\n",
    "print() # words which are green and have () are predefined functions.\n",
    "var # words which are black are variables.\n",
    "'hii' # words whose color is red are valid strings.\n",
    "\"Hello\"\n",
    "'''suman'''\n",
    "\"\"\" Sumanisfr \"\"\""
   ]
  },
  {
   "cell_type": "markdown",
   "id": "5e7a32ee-86d4-4097-b64d-f6887e814d53",
   "metadata": {
    "jp-MarkdownHeadingCollapsed": true
   },
   "source": [
    "## 3. Identifiers:- are the name we used give to the variables,fuction inorder to identify\n",
    "#### Rules of Naming an identifiers:-\"Identifierd's Rule\""
   ]
  },
  {
   "cell_type": "code",
   "execution_count": 2,
   "id": "180fd404-d39e-4f05-8a25-62a8ccda307e",
   "metadata": {},
   "outputs": [
    {
     "ename": "SyntaxError",
     "evalue": "invalid syntax (1767419929.py, line 2)",
     "output_type": "error",
     "traceback": [
      "\u001b[1;36m  Cell \u001b[1;32mIn[2], line 2\u001b[1;36m\u001b[0m\n\u001b[1;33m    except = 100\u001b[0m\n\u001b[1;37m    ^\u001b[0m\n\u001b[1;31mSyntaxError\u001b[0m\u001b[1;31m:\u001b[0m invalid syntax\n"
     ]
    }
   ],
   "source": [
    " # 1. We cannot use keywords are identifier's name.\n",
    " except = 100"
   ]
  },
  {
   "cell_type": "code",
   "execution_count": 3,
   "id": "11f57d91-e25f-41c8-bb55-9ccc5d05ea0e",
   "metadata": {},
   "outputs": [
    {
     "ename": "IndentationError",
     "evalue": "unexpected indent (1214249817.py, line 2)",
     "output_type": "error",
     "traceback": [
      "\u001b[1;36m  Cell \u001b[1;32mIn[3], line 2\u001b[1;36m\u001b[0m\n\u001b[1;33m    12var = 'apple\u001b[0m\n\u001b[1;37m    ^\u001b[0m\n\u001b[1;31mIndentationError\u001b[0m\u001b[1;31m:\u001b[0m unexpected indent\n"
     ]
    }
   ],
   "source": [
    "# 2. We cannot use digits as the first character of an identifier's name.\n",
    " 12var = 'apple"
   ]
  },
  {
   "cell_type": "code",
   "execution_count": 4,
   "id": "d0d19395-b36f-45a5-a6fd-7125aa195624",
   "metadata": {},
   "outputs": [
    {
     "ename": "SyntaxError",
     "evalue": "invalid syntax (2765923115.py, line 2)",
     "output_type": "error",
     "traceback": [
      "\u001b[1;36m  Cell \u001b[1;32mIn[4], line 2\u001b[1;36m\u001b[0m\n\u001b[1;33m    var one = 'apple'\u001b[0m\n\u001b[1;37m        ^\u001b[0m\n\u001b[1;31mSyntaxError\u001b[0m\u001b[1;31m:\u001b[0m invalid syntax\n"
     ]
    }
   ],
   "source": [
    " # 3. We cannot have spaces in between identifier's name.\n",
    " var one = 'apple'\n"
   ]
  },
  {
   "cell_type": "code",
   "execution_count": 5,
   "id": "a737aa6a-92fb-4e68-ae54-3af9c4557c82",
   "metadata": {},
   "outputs": [
    {
     "ename": "NameError",
     "evalue": "name 'var' is not defined",
     "output_type": "error",
     "traceback": [
      "\u001b[1;31m---------------------------------------------------------------------------\u001b[0m",
      "\u001b[1;31mNameError\u001b[0m                                 Traceback (most recent call last)",
      "Cell \u001b[1;32mIn[5], line 2\u001b[0m\n\u001b[0;32m      1\u001b[0m \u001b[38;5;66;03m# 4. We cannot use any special characters except an underscore.\u001b[39;00m\n\u001b[1;32m----> 2\u001b[0m var\n",
      "\u001b[1;31mNameError\u001b[0m: name 'var' is not defined"
     ]
    }
   ],
   "source": [
    " # 4. We cannot use any special characters except an underscore.\n",
    " var#1 = 'apple'"
   ]
  },
  {
   "cell_type": "code",
   "execution_count": 6,
   "id": "ba9cb860-da78-4812-bb3d-e019a72ac281",
   "metadata": {},
   "outputs": [],
   "source": [
    " var_1 = 'cat'"
   ]
  },
  {
   "cell_type": "code",
   "execution_count": 7,
   "id": "50cdf10f-a1ad-4423-8df2-d1edf42c2f60",
   "metadata": {},
   "outputs": [
    {
     "ename": "NameError",
     "evalue": "name 'V' is not defined",
     "output_type": "error",
     "traceback": [
      "\u001b[1;31m---------------------------------------------------------------------------\u001b[0m",
      "\u001b[1;31mNameError\u001b[0m                                 Traceback (most recent call last)",
      "Cell \u001b[1;32mIn[7], line 3\u001b[0m\n\u001b[0;32m      1\u001b[0m \u001b[38;5;66;03m# 5. python is a case-sensitive language i.e: 'a' != 'A'.\u001b[39;00m\n\u001b[0;32m      2\u001b[0m v \u001b[38;5;241m=\u001b[39m \u001b[38;5;124m'\u001b[39m\u001b[38;5;124mcat\u001b[39m\u001b[38;5;124m'\u001b[39m\n\u001b[1;32m----> 3\u001b[0m \u001b[38;5;28mprint\u001b[39m(V)\n",
      "\u001b[1;31mNameError\u001b[0m: name 'V' is not defined"
     ]
    }
   ],
   "source": [
    " # 5. python is a case-sensitive language i.e: 'a' != 'A'.\n",
    " v = 'cat'\n",
    " print(V)"
   ]
  },
  {
   "cell_type": "code",
   "execution_count": 8,
   "id": "bd0e408f-d006-4e33-9a38-777b60ed8784",
   "metadata": {},
   "outputs": [],
   "source": [
    " var_one = 'pine'"
   ]
  },
  {
   "cell_type": "markdown",
   "id": "132e3de2-590c-4cbc-90e4-1cc8ce268f1f",
   "metadata": {
    "jp-MarkdownHeadingCollapsed": true
   },
   "source": [
    "## 5. VARIABLES:\n",
    "### Variables are like container which helps to store certain values which is also used for memory allocation.\n",
    "#### Variables always follows the identifier rules while naming."
   ]
  },
  {
   "cell_type": "code",
   "execution_count": 9,
   "id": "615b5a14-9136-4fb1-8eee-54cd04c67f25",
   "metadata": {},
   "outputs": [],
   "source": [
    "var = 1000"
   ]
  },
  {
   "cell_type": "code",
   "execution_count": 10,
   "id": "cbab4a76-978d-4170-927d-926fb5d3fead",
   "metadata": {},
   "outputs": [
    {
     "name": "stdout",
     "output_type": "stream",
     "text": [
      "1000\n"
     ]
    }
   ],
   "source": [
    "print(var)"
   ]
  },
  {
   "cell_type": "markdown",
   "id": "b1e8313c-4153-40df-93d5-c8b01ba691a6",
   "metadata": {
    "jp-MarkdownHeadingCollapsed": true
   },
   "source": [
    "## 5. Datatypes:-\n",
    "####Primary Data Types\n",
    " •\n",
    " 1. Numeric Data Types\n",
    " Integer (INT) \n",
    "○\n",
    " Example: 1, -5, 42\n",
    " ○\n",
    " Whole numbers without decimal points\n",
    " •\n",
    " Float (Floating Point) \n",
    "○\n",
    " Example: 23.67, -3.14, 0.001\n",
    " ○\n",
    " Numbers with decimal points\n",
    " •\n",
    " Complex \n",
    "○\n",
    " Example: 24+62j, 3-4j, 5+0j\n",
    " ○\n",
    " Numbers with real and imaginary parts\n",
    " •\n",
    " 2. Non-Numeric Data Types\n",
    " String \n",
    "○\n",
    " Example: \"hello\", 'world', \"123\"\n",
    " ○\n",
    " Text data enclosed in quotes\n",
    " •\n",
    " Boolean \n",
    "○\n",
    " Example: True, False\n",
    " ○\n",
    " Logical values representing true or false states\n",
    " Sequential Data Types\n",
    " 1. Ordered Collections\n",
    " •\n",
    " •\n",
    " ○\n",
    " List :- sequence of elements present within [, , ,].\n",
    " Example: [1, 2, 3], [\"apple\", \"banana\"]\n",
    " ○\n",
    " Mutable, ordered collection of items\n",
    " ○\n",
    " Tuple :- sequence of elements within (, , , ,).\n",
    " Example: (1, 2, 3), (\"x\", \"y\")\n",
    " ○\n",
    " Immutable, ordered collection of items\n",
    " 2. Unordered Collections\n",
    " •\n",
    " •\n",
    " Dictionary :- It has key and value pair enclosed with { , , , }.\n",
    " •\n",
    " ○\n",
    " Set :- sequence of characters enclosed in { , , ,}.\n",
    " Example: {1, 2, 3}, {\"apple\", \"banana\"}\n",
    " ○\n",
    " Unordered collection of unique items\n",
    " ○\n",
    " Key is primary data type and value can be of any data type.\n",
    " Example: {\"name\": \"John\", \"age\": 30}\n",
    " ○\n",
    " Key-value pairs, unordered mapping"
   ]
  },
  {
   "cell_type": "code",
   "execution_count": 12,
   "id": "48769524-d6af-4b4c-8dd5-f241de914ea3",
   "metadata": {},
   "outputs": [
    {
     "data": {
      "text/plain": [
       "int"
      ]
     },
     "execution_count": 12,
     "metadata": {},
     "output_type": "execute_result"
    }
   ],
   "source": [
    "# 1. int:\n",
    "var1 = 2189734979743789\n",
    "type(var1)"
   ]
  },
  {
   "cell_type": "code",
   "execution_count": 13,
   "id": "729ae444-71c6-41db-b454-59917019551b",
   "metadata": {},
   "outputs": [
    {
     "data": {
      "text/plain": [
       "float"
      ]
     },
     "execution_count": 13,
     "metadata": {},
     "output_type": "execute_result"
    }
   ],
   "source": [
    " # 2. float:\n",
    "var2 = 6778789.99\n",
    "type(var2)"
   ]
  },
  {
   "cell_type": "code",
   "execution_count": 14,
   "id": "a9d1ad50-39a5-4dc9-bcce-c4c9a59235c0",
   "metadata": {},
   "outputs": [
    {
     "data": {
      "text/plain": [
       "complex"
      ]
     },
     "execution_count": 14,
     "metadata": {},
     "output_type": "execute_result"
    }
   ],
   "source": [
    " # 3. complex:\n",
    "var3 = 678+77j\n",
    "type(var3)"
   ]
  },
  {
   "cell_type": "code",
   "execution_count": 15,
   "id": "b2024c79-ed05-4422-b130-c726f1dc07ad",
   "metadata": {},
   "outputs": [
    {
     "ename": "SyntaxError",
     "evalue": "invalid decimal literal (26015673.py, line 1)",
     "output_type": "error",
     "traceback": [
      "\u001b[1;36m  Cell \u001b[1;32mIn[15], line 1\u001b[1;36m\u001b[0m\n\u001b[1;33m    var4 = 88+89i\u001b[0m\n\u001b[1;37m               ^\u001b[0m\n\u001b[1;31mSyntaxError\u001b[0m\u001b[1;31m:\u001b[0m invalid decimal literal\n"
     ]
    }
   ],
   "source": [
    "var4 = 88+89i\n",
    "type(var4)"
   ]
  },
  {
   "cell_type": "code",
   "execution_count": 16,
   "id": "50364972-b6cf-4cab-a37a-7005b500f389",
   "metadata": {},
   "outputs": [
    {
     "data": {
      "text/plain": [
       "bool"
      ]
     },
     "execution_count": 16,
     "metadata": {},
     "output_type": "execute_result"
    }
   ],
   "source": [
    " # 4. bool:\n",
    "var5 = True\n",
    "type(var5)"
   ]
  },
  {
   "cell_type": "code",
   "execution_count": 17,
   "id": "b1373a9c-5157-45a4-8646-eeaddc17cea4",
   "metadata": {},
   "outputs": [
    {
     "data": {
      "text/plain": [
       "str"
      ]
     },
     "execution_count": 17,
     "metadata": {},
     "output_type": "execute_result"
    }
   ],
   "source": [
    " # 5. string:\n",
    "var6 = 'hello'\n",
    "type(var6)"
   ]
  },
  {
   "cell_type": "code",
   "execution_count": 18,
   "id": "eff025b5-2222-4963-bdb0-7227de5037d7",
   "metadata": {},
   "outputs": [
    {
     "data": {
      "text/plain": [
       "str"
      ]
     },
     "execution_count": 18,
     "metadata": {},
     "output_type": "execute_result"
    }
   ],
   "source": [
    " var7 = \"A\"\n",
    " type(var7)"
   ]
  },
  {
   "cell_type": "code",
   "execution_count": 19,
   "id": "5397033c-f663-474a-b757-08203b710df1",
   "metadata": {},
   "outputs": [
    {
     "data": {
      "text/plain": [
       "str"
      ]
     },
     "execution_count": 19,
     "metadata": {},
     "output_type": "execute_result"
    }
   ],
   "source": [
    "var8 = '''world'''\n",
    "type(var8)"
   ]
  },
  {
   "cell_type": "code",
   "execution_count": 20,
   "id": "41924a1f-aee8-4eba-9779-ac4b6396e16e",
   "metadata": {},
   "outputs": [
    {
     "data": {
      "text/plain": [
       "str"
      ]
     },
     "execution_count": 20,
     "metadata": {},
     "output_type": "execute_result"
    }
   ],
   "source": [
    " var9 = \"\"\"hello\n",
    " world\"\"\"\n",
    " type(var9)\n"
   ]
  },
  {
   "cell_type": "code",
   "execution_count": 22,
   "id": "2a8b8389-4c33-4994-8389-f46ff61214a9",
   "metadata": {},
   "outputs": [
    {
     "data": {
      "text/plain": [
       "list"
      ]
     },
     "execution_count": 22,
     "metadata": {},
     "output_type": "execute_result"
    }
   ],
   "source": [
    "# Sequential datatype:\n",
    "# 1. list:- are sequence of elements present within [ , , ,].\n",
    "var10 = [1,2,3,4,5,76]\n",
    "type(var10)"
   ]
  },
  {
   "cell_type": "code",
   "execution_count": 23,
   "id": "30ac3ef3-5f16-41df-a068-9b2bd83e863b",
   "metadata": {},
   "outputs": [
    {
     "data": {
      "text/plain": [
       "list"
      ]
     },
     "execution_count": 23,
     "metadata": {},
     "output_type": "execute_result"
    }
   ],
   "source": [
    "var11 = ['apple',78,True, 78+8j]\n",
    "type(var11)"
   ]
  },
  {
   "cell_type": "code",
   "execution_count": 24,
   "id": "e7d694d7-263c-4b4e-89be-32206d29b050",
   "metadata": {},
   "outputs": [
    {
     "data": {
      "text/plain": [
       "tuple"
      ]
     },
     "execution_count": 24,
     "metadata": {},
     "output_type": "execute_result"
    }
   ],
   "source": [
    " # 2. tuple:- are sequence of elements within (, , ,).\n",
    " var12 = ('apple','bat', 'van')\n",
    " type(var12)"
   ]
  },
  {
   "cell_type": "code",
   "execution_count": 25,
   "id": "36af0411-90f6-41af-9ccd-db7ad4e96db0",
   "metadata": {},
   "outputs": [
    {
     "data": {
      "text/plain": [
       "tuple"
      ]
     },
     "execution_count": 25,
     "metadata": {},
     "output_type": "execute_result"
    }
   ],
   "source": [
    " var13 = ('Van', 12, 90.99,False)\n",
    " type(var13)"
   ]
  },
  {
   "cell_type": "code",
   "execution_count": 26,
   "id": "d89ffdd9-d761-44d3-9031-fe2d45a218db",
   "metadata": {},
   "outputs": [
    {
     "data": {
      "text/plain": [
       "set"
      ]
     },
     "execution_count": 26,
     "metadata": {},
     "output_type": "execute_result"
    }
   ],
   "source": [
    " # 3. set :- are sequence of elements within {, , ,}.\n",
    " s1 = {1,23,4,6,7}\n",
    " type(s1)"
   ]
  },
  {
   "cell_type": "code",
   "execution_count": 27,
   "id": "c843111b-d001-458b-9cb4-c3ec0786f538",
   "metadata": {},
   "outputs": [
    {
     "data": {
      "text/plain": [
       "set"
      ]
     },
     "execution_count": 27,
     "metadata": {},
     "output_type": "execute_result"
    }
   ],
   "source": [
    " s2 = {'world' , 67, 89.44, True, 90+34j}\n",
    " type(s2)"
   ]
  },
  {
   "cell_type": "code",
   "execution_count": 28,
   "id": "72826a80-6296-44a2-a506-bf2004ce4e31",
   "metadata": {},
   "outputs": [
    {
     "data": {
      "text/plain": [
       "dict"
      ]
     },
     "execution_count": 28,
     "metadata": {},
     "output_type": "execute_result"
    }
   ],
   "source": [
    " # 4. dictionary:- are collections of paired element denoted with {}.\n",
    " # d = {keyname : value, keyname : value}\n",
    " # keynames can be made using any primary datatypes\n",
    " # values can be made using any primary or sequential datatypes.\n",
    " d = {1:'apple',67.99:[3,4,6,78],90+7j:True}\n",
    " type(d)"
   ]
  },
  {
   "cell_type": "markdown",
   "id": "065b4bee-81ba-46c1-a36e-01e6cfc92dbb",
   "metadata": {},
   "source": [
    "# 5. Inputs are used to make our program interactive and to check the correctness of our program.\n",
    "### We use input funtion."
   ]
  },
  {
   "cell_type": "code",
   "execution_count": 30,
   "id": "aa6219f8-c4be-4ec7-9449-0908b18ca73b",
   "metadata": {},
   "outputs": [
    {
     "name": "stdout",
     "output_type": "stream",
     "text": [
      "Enter your name:  Suman\n"
     ]
    }
   ],
   "source": [
    "name = input(\"Enter your name: \")"
   ]
  },
  {
   "cell_type": "code",
   "execution_count": 31,
   "id": "1368d4d1-93d1-496e-9ed2-688f09d19173",
   "metadata": {},
   "outputs": [
    {
     "data": {
      "text/plain": [
       "'Suman'"
      ]
     },
     "execution_count": 31,
     "metadata": {},
     "output_type": "execute_result"
    }
   ],
   "source": [
    "name"
   ]
  },
  {
   "cell_type": "code",
   "execution_count": 32,
   "id": "bd08d6b2-7697-44cd-a1d9-71123b328d2e",
   "metadata": {},
   "outputs": [
    {
     "name": "stdout",
     "output_type": "stream",
     "text": [
      "Enter a number:  45\n",
      "Enter 2nd number:  10\n"
     ]
    },
    {
     "name": "stdout",
     "output_type": "stream",
     "text": [
      "4510\n"
     ]
    }
   ],
   "source": [
    "a = input(\"Enter a number: \")\n",
    "b = input(\"Enter 2nd number: \")\n",
    "print(a+b)"
   ]
  },
  {
   "cell_type": "code",
   "execution_count": 33,
   "id": "135718c4-b173-43d0-82b2-28ede1bbaa93",
   "metadata": {},
   "outputs": [
    {
     "data": {
      "text/plain": [
       "str"
      ]
     },
     "execution_count": 33,
     "metadata": {},
     "output_type": "execute_result"
    }
   ],
   "source": [
    "type(a)"
   ]
  },
  {
   "cell_type": "markdown",
   "id": "12694d0f-61eb-416b-b9c1-fd5df4e79aeb",
   "metadata": {
    "jp-MarkdownHeadingCollapsed": true
   },
   "source": [
    "## Typecasting:- The process of converting one data type to another explicitly without loosing any of these data is known as type casting."
   ]
  },
  {
   "cell_type": "code",
   "execution_count": 34,
   "id": "c87632ef-5d9b-4e46-90c9-9b9c6da14abc",
   "metadata": {},
   "outputs": [
    {
     "name": "stdout",
     "output_type": "stream",
     "text": [
      "Enter a number:  10\n",
      "Enter 2nd number:  20\n"
     ]
    },
    {
     "name": "stdout",
     "output_type": "stream",
     "text": [
      "30\n"
     ]
    }
   ],
   "source": [
    " a = int(input(\"Enter a number: \"))\n",
    " b = int(input(\"Enter 2nd number: \"))\n",
    " print(a+b)\n"
   ]
  },
  {
   "cell_type": "code",
   "execution_count": 35,
   "id": "2cada0c4-4f10-4a1e-8991-16cf289c816b",
   "metadata": {},
   "outputs": [
    {
     "data": {
      "text/plain": [
       "int"
      ]
     },
     "execution_count": 35,
     "metadata": {},
     "output_type": "execute_result"
    }
   ],
   "source": [
    "type(a)"
   ]
  },
  {
   "cell_type": "markdown",
   "id": "191b66c3-6c31-4d31-8683-455210c10ca6",
   "metadata": {},
   "source": [
    "## Outputs:-\n",
    "#### It is used to show the result or the outcome of out program.\n"
   ]
  },
  {
   "cell_type": "code",
   "execution_count": 37,
   "id": "114c1143-7a22-4116-a7b1-c4b42f1706e0",
   "metadata": {},
   "outputs": [
    {
     "name": "stdout",
     "output_type": "stream",
     "text": [
      "This is my message\n"
     ]
    }
   ],
   "source": [
    "print(\"This is my message\")"
   ]
  },
  {
   "cell_type": "code",
   "execution_count": 38,
   "id": "68bdfe16-e492-4032-b5cd-18fd0db2a6a4",
   "metadata": {},
   "outputs": [
    {
     "name": "stdout",
     "output_type": "stream",
     "text": [
      "Enter a number:  44\n",
      "Enter 2nd number:  44\n"
     ]
    },
    {
     "name": "stdout",
     "output_type": "stream",
     "text": [
      "The sum of 44 and 44 is 88\n"
     ]
    }
   ],
   "source": [
    " a = int(input(\"Enter a number: \"))\n",
    " b = int(input(\"Enter 2nd number: \"))\n",
    " print(\"The sum of\",a,\"and\", b,\"is\", a+b)"
   ]
  },
  {
   "cell_type": "code",
   "execution_count": null,
   "id": "16c18961-ed68-4142-90e9-049372111ee0",
   "metadata": {},
   "outputs": [
    {
     "name": "stdout",
     "output_type": "stream",
     "text": [
      "Enter a number:  10\n",
      "Enter 2nd number:  55\n"
     ]
    },
    {
     "name": "stdout",
     "output_type": "stream",
     "text": [
      "The sum of 10 and 55 is 65\n"
     ]
    }
   ],
   "source": [
    " # string formatting:- a way to combine message along with expressions\n",
    " a = int(input(\"Enter a number: \"))\n",
    " b = int(input(\"Enter 2nd number: \"))\n",
    " print(f\"The sum of {a} and {b} is {a+b}\")"
   ]
  },
  {
   "cell_type": "code",
   "execution_count": null,
   "id": "60656b45-7199-40ff-8777-ab101dfa76b5",
   "metadata": {},
   "outputs": [],
   "source": [
    "print(\"suman\")\n"
   ]
  },
  {
   "cell_type": "code",
   "execution_count": null,
   "id": "f27ff71f-4071-4054-8d2c-dbf908547808",
   "metadata": {},
   "outputs": [],
   "source": []
  },
  {
   "cell_type": "code",
   "execution_count": null,
   "id": "f3741b04-47b8-455d-a944-fe10bf5936be",
   "metadata": {},
   "outputs": [],
   "source": []
  },
  {
   "cell_type": "code",
   "execution_count": null,
   "id": "64f6c8d2-ebd5-468a-b7c4-e2d0062dcd4b",
   "metadata": {},
   "outputs": [],
   "source": []
  }
 ],
 "metadata": {
  "kernelspec": {
   "display_name": "Python 3 (ipykernel)",
   "language": "python",
   "name": "python3"
  },
  "language_info": {
   "codemirror_mode": {
    "name": "ipython",
    "version": 3
   },
   "file_extension": ".py",
   "mimetype": "text/x-python",
   "name": "python",
   "nbconvert_exporter": "python",
   "pygments_lexer": "ipython3",
   "version": "3.12.7"
  }
 },
 "nbformat": 4,
 "nbformat_minor": 5
}
