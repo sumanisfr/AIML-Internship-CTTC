{
 "cells": [
  {
   "cell_type": "markdown",
   "id": "16656d8f-cad9-48f1-8156-d26722f948df",
   "metadata": {
    "jp-MarkdownHeadingCollapsed": true
   },
   "source": [
    "### Assignment operator:-"
   ]
  },
  {
   "cell_type": "code",
   "execution_count": 1,
   "id": "80a5bcaa-886d-4359-bcb3-9adfdb1217ad",
   "metadata": {},
   "outputs": [
    {
     "data": {
      "text/plain": [
       "100"
      ]
     },
     "execution_count": 1,
     "metadata": {},
     "output_type": "execute_result"
    }
   ],
   "source": [
    "a = 100\n",
    "a"
   ]
  },
  {
   "cell_type": "code",
   "execution_count": 3,
   "id": "0b46f8d2-f129-41fb-be74-be9c28587e34",
   "metadata": {},
   "outputs": [
    {
     "name": "stdout",
     "output_type": "stream",
     "text": [
      "10\n",
      "20\n",
      "30\n"
     ]
    }
   ],
   "source": [
    "# += :- ASsignment & Arithmatic :-\n",
    "a = 10\n",
    "b = 20\n",
    "print(a)\n",
    "print(b)\n",
    "a += b  #a += b -> a = a+b\n",
    "print(a)"
   ]
  },
  {
   "cell_type": "code",
   "execution_count": 4,
   "id": "2c33e230-0dfd-4e6d-9955-6007e2f7a121",
   "metadata": {},
   "outputs": [
    {
     "data": {
      "text/plain": [
       "50"
      ]
     },
     "execution_count": 4,
     "metadata": {},
     "output_type": "execute_result"
    }
   ],
   "source": [
    "c = a+b\n",
    "c"
   ]
  },
  {
   "cell_type": "code",
   "execution_count": 5,
   "id": "eafbb0b1-1ad5-4e3a-af3e-d1e408f8d48d",
   "metadata": {},
   "outputs": [
    {
     "name": "stdout",
     "output_type": "stream",
     "text": [
      "10\n",
      "20\n",
      "-10\n"
     ]
    }
   ],
   "source": [
    "# -= :- ASsignment & Arithmatic :-\n",
    "a = 10\n",
    "b = 20\n",
    "print(a)\n",
    "print(b)\n",
    "a -= b  #a -= b -> a = a-b\n",
    "print(a)"
   ]
  },
  {
   "cell_type": "code",
   "execution_count": 6,
   "id": "6b8c9677-1717-4519-8f46-0e35e5dfcd09",
   "metadata": {},
   "outputs": [
    {
     "name": "stdout",
     "output_type": "stream",
     "text": [
      "10\n",
      "20\n",
      "200\n"
     ]
    }
   ],
   "source": [
    "# *= :- ASsignment & Arithmatic :-\n",
    "a = 10\n",
    "b = 20\n",
    "print(a)\n",
    "print(b)\n",
    "a *= b  #a *= b -> a = a*b\n",
    "print(a)"
   ]
  },
  {
   "cell_type": "markdown",
   "id": "f16ec6ca-799d-414d-8c5d-ae2affb86546",
   "metadata": {
    "jp-MarkdownHeadingCollapsed": true
   },
   "source": [
    "### Comparision Operator :- Used to compare the values."
   ]
  },
  {
   "cell_type": "code",
   "execution_count": 7,
   "id": "27c322cd-d8cc-489b-89e0-c7f542d80fc2",
   "metadata": {},
   "outputs": [
    {
     "data": {
      "text/plain": [
       "True"
      ]
     },
     "execution_count": 7,
     "metadata": {},
     "output_type": "execute_result"
    }
   ],
   "source": [
    "100 > 67"
   ]
  },
  {
   "cell_type": "code",
   "execution_count": 8,
   "id": "7d6a3d68-e888-4643-838c-ff4c0a5969fb",
   "metadata": {},
   "outputs": [
    {
     "data": {
      "text/plain": [
       "False"
      ]
     },
     "execution_count": 8,
     "metadata": {},
     "output_type": "execute_result"
    }
   ],
   "source": [
    "18 > 77"
   ]
  },
  {
   "cell_type": "code",
   "execution_count": 9,
   "id": "5ae53392-3610-4ba8-9147-146ae87d439f",
   "metadata": {},
   "outputs": [
    {
     "data": {
      "text/plain": [
       "True"
      ]
     },
     "execution_count": 9,
     "metadata": {},
     "output_type": "execute_result"
    }
   ],
   "source": [
    "66 == 66"
   ]
  },
  {
   "cell_type": "code",
   "execution_count": 10,
   "id": "c5d92e2f-f37a-48c8-91f0-1bc20073f1b3",
   "metadata": {},
   "outputs": [
    {
     "data": {
      "text/plain": [
       "True"
      ]
     },
     "execution_count": 10,
     "metadata": {},
     "output_type": "execute_result"
    }
   ],
   "source": [
    "'cat' != 'CAT'"
   ]
  },
  {
   "cell_type": "code",
   "execution_count": 11,
   "id": "f80334a6-9d81-429c-9a75-044d09f85c64",
   "metadata": {},
   "outputs": [
    {
     "data": {
      "text/plain": [
       "True"
      ]
     },
     "execution_count": 11,
     "metadata": {},
     "output_type": "execute_result"
    }
   ],
   "source": [
    "100 <= 100"
   ]
  },
  {
   "cell_type": "code",
   "execution_count": 13,
   "id": "f8eebdb9-201a-4b2e-9272-8f9f5db9d779",
   "metadata": {},
   "outputs": [
    {
     "data": {
      "text/plain": [
       "True"
      ]
     },
     "execution_count": 13,
     "metadata": {},
     "output_type": "execute_result"
    }
   ],
   "source": [
    "'Z' < 'z'   # due to ascii value 122 < 95"
   ]
  },
  {
   "cell_type": "markdown",
   "id": "134a2aec-76df-40c6-894b-987625b221e6",
   "metadata": {
    "jp-MarkdownHeadingCollapsed": true
   },
   "source": [
    "### Logical Operator :- used to combine multiple condition at a time"
   ]
  },
  {
   "cell_type": "code",
   "execution_count": 15,
   "id": "4d343449-09bc-4dda-b79e-a0103cff00f9",
   "metadata": {},
   "outputs": [
    {
     "data": {
      "text/plain": [
       "True"
      ]
     },
     "execution_count": 15,
     "metadata": {},
     "output_type": "execute_result"
    }
   ],
   "source": [
    "# and :- (&&) - if all conditionas are true then the result will be true.\n",
    "('cat' == 'cat') and ('dog' != 'cat')"
   ]
  },
  {
   "cell_type": "code",
   "execution_count": 18,
   "id": "4b5785e5-596d-413e-8308-0ce1ce5519b2",
   "metadata": {},
   "outputs": [
    {
     "data": {
      "text/plain": [
       "True"
      ]
     },
     "execution_count": 18,
     "metadata": {},
     "output_type": "execute_result"
    }
   ],
   "source": [
    "# or:- (||) - if any of the conditionas is true then the result will be true.\n",
    "('cat' == 'cat') or ('dog' != 'cat')"
   ]
  },
  {
   "cell_type": "code",
   "execution_count": 20,
   "id": "0c749e49-e9f6-4c54-86c1-dd4ec942ea40",
   "metadata": {},
   "outputs": [
    {
     "data": {
      "text/plain": [
       "True"
      ]
     },
     "execution_count": 20,
     "metadata": {},
     "output_type": "execute_result"
    }
   ],
   "source": [
    "(15 % 5 == 0) or (15 % 4 == 0)"
   ]
  },
  {
   "cell_type": "code",
   "execution_count": 24,
   "id": "3c37bd0f-c513-4092-9ccd-1cd6f7b1a8f4",
   "metadata": {},
   "outputs": [
    {
     "data": {
      "text/plain": [
       "False"
      ]
     },
     "execution_count": 24,
     "metadata": {},
     "output_type": "execute_result"
    }
   ],
   "source": [
    "# not :- unary operator :- it is an unary operator , that true condition as false and vice-verse.\n",
    "(15 % 5 != 0)"
   ]
  },
  {
   "cell_type": "code",
   "execution_count": 23,
   "id": "1acc6ed8-a0ef-4daf-b944-1f20e6a03f60",
   "metadata": {},
   "outputs": [
    {
     "data": {
      "text/plain": [
       "False"
      ]
     },
     "execution_count": 23,
     "metadata": {},
     "output_type": "execute_result"
    }
   ],
   "source": [
    "not(15 % 5 == 0)"
   ]
  },
  {
   "cell_type": "markdown",
   "id": "cbf06a81-f86a-4912-8bb7-c72faf3beebd",
   "metadata": {
    "jp-MarkdownHeadingCollapsed": true
   },
   "source": [
    "### Special Operators :- \n",
    "#### Membership operators :-It is used to check weather an element is present within a sequence or not."
   ]
  },
  {
   "cell_type": "code",
   "execution_count": 25,
   "id": "77a4079e-31de-45db-ae4b-80c22ecceaa9",
   "metadata": {},
   "outputs": [
    {
     "data": {
      "text/plain": [
       "True"
      ]
     },
     "execution_count": 25,
     "metadata": {},
     "output_type": "execute_result"
    }
   ],
   "source": [
    "# in operator :- Return if an element is present within the sequence.\n",
    "'A' in 'Aeroplane'"
   ]
  },
  {
   "cell_type": "code",
   "execution_count": 26,
   "id": "d70716f3-0465-4132-ac4a-0e36e8532358",
   "metadata": {},
   "outputs": [
    {
     "data": {
      "text/plain": [
       "False"
      ]
     },
     "execution_count": 26,
     "metadata": {},
     "output_type": "execute_result"
    }
   ],
   "source": [
    "'N' in 'Aeroplane'"
   ]
  },
  {
   "cell_type": "code",
   "execution_count": 27,
   "id": "599ae0a1-52aa-4f95-a760-a888a089fc32",
   "metadata": {},
   "outputs": [
    {
     "data": {
      "text/plain": [
       "False"
      ]
     },
     "execution_count": 27,
     "metadata": {},
     "output_type": "execute_result"
    }
   ],
   "source": [
    "'Q' in 'Aeroplane'"
   ]
  },
  {
   "cell_type": "code",
   "execution_count": 28,
   "id": "1700feba-defe-4373-9afd-d35e4aa7d6dc",
   "metadata": {},
   "outputs": [
    {
     "data": {
      "text/plain": [
       "False"
      ]
     },
     "execution_count": 28,
     "metadata": {},
     "output_type": "execute_result"
    }
   ],
   "source": [
    "12 in [1,2,3,4,5]"
   ]
  },
  {
   "cell_type": "code",
   "execution_count": 30,
   "id": "7c8cb37a-6939-4c0c-81e1-795d8de2b697",
   "metadata": {},
   "outputs": [
    {
     "data": {
      "text/plain": [
       "True"
      ]
     },
     "execution_count": 30,
     "metadata": {},
     "output_type": "execute_result"
    }
   ],
   "source": [
    "# not in operator :- Return if an element is not present within the sequence.\n",
    "'N' not in 'Aeroplane'"
   ]
  },
  {
   "cell_type": "code",
   "execution_count": 31,
   "id": "26c6d0df-dfff-4469-b638-488cfbf56dc1",
   "metadata": {},
   "outputs": [
    {
     "data": {
      "text/plain": [
       "False"
      ]
     },
     "execution_count": 31,
     "metadata": {},
     "output_type": "execute_result"
    }
   ],
   "source": [
    "'e' not in 'Aeroplane'"
   ]
  },
  {
   "cell_type": "code",
   "execution_count": 32,
   "id": "56762a67-4376-410d-825c-498785d8f04e",
   "metadata": {},
   "outputs": [
    {
     "data": {
      "text/plain": [
       "False"
      ]
     },
     "execution_count": 32,
     "metadata": {},
     "output_type": "execute_result"
    }
   ],
   "source": [
    "'cat' not in {'dog','cat','tiger'}"
   ]
  },
  {
   "cell_type": "markdown",
   "id": "1430b985-4ec7-4184-9ec3-7cd8a09929b4",
   "metadata": {
    "jp-MarkdownHeadingCollapsed": true
   },
   "source": [
    "### Q. Wapp to return true if a character is a vowel"
   ]
  },
  {
   "cell_type": "code",
   "execution_count": 45,
   "id": "b6870d15-4d23-4a62-a1cf-9f627bc39eff",
   "metadata": {},
   "outputs": [
    {
     "name": "stdin",
     "output_type": "stream",
     "text": [
      "enter a char l\n"
     ]
    },
    {
     "data": {
      "text/plain": [
       "False"
      ]
     },
     "execution_count": 45,
     "metadata": {},
     "output_type": "execute_result"
    }
   ],
   "source": [
    "# x = input(\"enter a char\")\n",
    "# Y = ['A'or 'a' or 'E' or 'e' or 'I'or 'i'or 'O' or 'o' or 'u' or 'u']\n",
    "# x in y\n",
    "\n",
    "char = input(\"enter a char\")\n",
    "x in 'aeiouAEIOU'"
   ]
  },
  {
   "cell_type": "markdown",
   "id": "a99bce64-5080-4be6-82ac-60f1a514f88d",
   "metadata": {
    "jp-MarkdownHeadingCollapsed": true
   },
   "source": [
    "### Identity operator :- used to compare the address of any variable."
   ]
  },
  {
   "cell_type": "code",
   "execution_count": 50,
   "id": "735a4720-8dbb-4e71-8da0-9450fa240a5a",
   "metadata": {},
   "outputs": [
    {
     "name": "stdout",
     "output_type": "stream",
     "text": [
      "True\n",
      "140723297993048\n",
      "140723297993048\n"
     ]
    }
   ],
   "source": [
    "# is :- return True if the addresses of both variables are same.\n",
    "x = 190\n",
    "y = 190\n",
    "print(x is y)\n",
    "# to check the address of any variables we can use id()\n",
    "print(id(x))\n",
    "print(id(y))"
   ]
  },
  {
   "cell_type": "code",
   "execution_count": 57,
   "id": "2e87c8f3-ca1f-475a-a800-ed1f661989d5",
   "metadata": {},
   "outputs": [
    {
     "name": "stdout",
     "output_type": "stream",
     "text": [
      "False\n",
      "2814639568768\n",
      "2814639568768\n",
      "[1, 2, 3]\n"
     ]
    }
   ],
   "source": [
    "# is not :- return True if the addresses of both variables are differnet.\n",
    "x = [1,2,3]\n",
    "# y = [1,2,3]\n",
    "y = x\n",
    "print(x is not y)\n",
    "# to check the address of any variables we can use id()\n",
    "print(id(x))\n",
    "print(id(y))\n",
    "print(y)"
   ]
  },
  {
   "cell_type": "code",
   "execution_count": 86,
   "id": "274d707e-c1b8-4289-b0ea-1d40bb6e7714",
   "metadata": {},
   "outputs": [
    {
     "name": "stdin",
     "output_type": "stream",
     "text": [
      " Enter a year 2025\n"
     ]
    },
    {
     "name": "stdout",
     "output_type": "stream",
     "text": [
      "False\n"
     ]
    }
   ],
   "source": [
    "# Question :- Wapp to return if a year is leap else return.\n",
    "x = int(input(\" Enter a year\"))\n",
    "y = (( x % 4 == 0) and ( x % 100 != 0)) or ( x % 400 == 0)\n",
    "print(y)\n",
    "# method -2\n",
    "# x = int(input(\" Enter a year:\"))\n",
    "# (( x % 4 == 0) and ( x % 100 != 0)) or ( x % 400 == 0)"
   ]
  },
  {
   "cell_type": "markdown",
   "id": "8ebb45b4-55a3-4133-a201-27e331be7d97",
   "metadata": {
    "jp-MarkdownHeadingCollapsed": true
   },
   "source": [
    "### Indentation = it is one of the most imp. features in puthon . it incdicates the block of code."
   ]
  },
  {
   "cell_type": "code",
   "execution_count": 94,
   "id": "0278747e-4bb6-43a8-87a3-cb1e15995839",
   "metadata": {},
   "outputs": [
    {
     "name": "stdout",
     "output_type": "stream",
     "text": [
      "both are equal\n"
     ]
    }
   ],
   "source": [
    "if 'A' == 'A':\n",
    "    print(\"both are equal\")     #space is called Indentation Space == 1 Tab Space == 4 manual Space"
   ]
  },
  {
   "cell_type": "code",
   "execution_count": 90,
   "id": "fd4a2d6d-1797-4f57-9837-cbc372fabc94",
   "metadata": {},
   "outputs": [
    {
     "ename": "SyntaxError",
     "evalue": "expected ':' (2315309145.py, line 1)",
     "output_type": "error",
     "traceback": [
      "\u001b[1;36m  Cell \u001b[1;32mIn[90], line 1\u001b[1;36m\u001b[0m\n\u001b[1;33m    if 'A' == 'A'\u001b[0m\n\u001b[1;37m                 ^\u001b[0m\n\u001b[1;31mSyntaxError\u001b[0m\u001b[1;31m:\u001b[0m expected ':'\n"
     ]
    }
   ],
   "source": [
    "if 'A' == 'A'\n",
    "print(\"both are equal\")   #Indetation Error"
   ]
  },
  {
   "cell_type": "code",
   "execution_count": 95,
   "id": "36e0bb16-4f32-4bf8-a7dc-0a347720e132",
   "metadata": {},
   "outputs": [
    {
     "name": "stdout",
     "output_type": "stream",
     "text": [
      "both are equal\n",
      "next sentence\n"
     ]
    }
   ],
   "source": [
    "if 'A' == 'A':\n",
    "    print(\"both are equal\")\n",
    "    print(\"next sentence\")"
   ]
  },
  {
   "cell_type": "code",
   "execution_count": 96,
   "id": "f2304756-0402-4cfb-80d9-2c4a7540ef3b",
   "metadata": {},
   "outputs": [
    {
     "name": "stdout",
     "output_type": "stream",
     "text": [
      "both are equal\n",
      "next sentence\n",
      "Out of the block\n"
     ]
    }
   ],
   "source": [
    "if 'A' == 'A':\n",
    "    print(\"both are equal\")\n",
    "    print(\"next sentence\")\n",
    "print('Out of the block')"
   ]
  },
  {
   "cell_type": "markdown",
   "id": "d8b05cdf-6c48-4577-af59-7ae292e92a2f",
   "metadata": {
    "jp-MarkdownHeadingCollapsed": true
   },
   "source": [
    "### Condtional Statement/ Decision making statement/Control statement :- \n",
    "#### 1.if\n",
    "#### 2.if-else\n",
    "#### 3.nested if\n",
    "#### 4.if-elif-else"
   ]
  },
  {
   "cell_type": "code",
   "execution_count": 103,
   "id": "5fb9627d-9a8a-493b-abd5-d216cb2fed84",
   "metadata": {},
   "outputs": [
    {
     "name": "stdin",
     "output_type": "stream",
     "text": [
      "Enter a character: a\n"
     ]
    },
    {
     "name": "stdout",
     "output_type": "stream",
     "text": [
      "a is a vowel\n"
     ]
    }
   ],
   "source": [
    "# check vowels\n",
    "#if = if condition is true retuen print \n",
    "char = input(\"Enter a character:\")\n",
    "if char in 'aeiouAEIOU':\n",
    "    print(char,\"is a vowel\")"
   ]
  },
  {
   "cell_type": "code",
   "execution_count": 106,
   "id": "8acc307d-87c7-4ab7-88ba-555518e4164b",
   "metadata": {},
   "outputs": [
    {
     "name": "stdin",
     "output_type": "stream",
     "text": [
      "Enter a character: q\n"
     ]
    },
    {
     "name": "stdout",
     "output_type": "stream",
     "text": [
      "q is not a vowel\n"
     ]
    }
   ],
   "source": [
    "# if else :- if checks the truthness as well as the falsiness of the\n",
    "char = input(\"Enter a character:\")\n",
    "if char in 'aeiouAEIOU':\n",
    "    print(char,\"is a vowel\")\n",
    "else:\n",
    "    print(char,\"is not a vowel\")"
   ]
  },
  {
   "cell_type": "code",
   "execution_count": 120,
   "id": "a55ea0a5-69b7-45a2-98fe-69aa5b019fa3",
   "metadata": {},
   "outputs": [
    {
     "name": "stdin",
     "output_type": "stream",
     "text": [
      "Enter 10th Marks: 45\n",
      "Enter 12th Marks: 66\n",
      "Enter btechth Marks 89\n"
     ]
    },
    {
     "name": "stdout",
     "output_type": "stream",
     "text": [
      "Padhai kar leta 10th me\n"
     ]
    }
   ],
   "source": [
    "# nested if :- to make more then one condition at a time.\n",
    "tenth = float(input(\"Enter 10th Marks:\"))\n",
    "twelve = float(input(\"Enter 12th Marks:\"))\n",
    "btech = float(input(\"Enter btechth Marks\"))\n",
    "if tenth >= 80:\n",
    "    if twelve >=80:\n",
    "        if btech >=80:\n",
    "            print(\"you are eligible for this schoraship \")\n",
    "        else:\n",
    "            print(\"not eligible for btech marks is less \")\n",
    "    else:\n",
    "        print(\"Aur kar masti 12th mai \")\n",
    "else:\n",
    "    print(\"Padhai kar leta 10th me\")"
   ]
  },
  {
   "cell_type": "code",
   "execution_count": 124,
   "id": "4fc034a2-7d4f-4400-96a3-21998148905d",
   "metadata": {},
   "outputs": [
    {
     "name": "stdin",
     "output_type": "stream",
     "text": [
      "Enter what you wannna want: PIZZA\n"
     ]
    },
    {
     "name": "stdout",
     "output_type": "stream",
     "text": [
      "we will have pizza party today\n"
     ]
    }
   ],
   "source": [
    "# if-elif-else\n",
    "treat = input(\"Enter what you wannna want:\").lower()\n",
    "if treat == 'burgur':\n",
    "    print(\"we will have burgur party\")\n",
    "elif treat == 'pizza':\n",
    "    print(\"we will have pizza party today\")\n",
    "elif treat == 'biriyani':\n",
    "    print(\"biriyani khane jate hai\")\n",
    "elif treat == 'pakhala':\n",
    "    print(\"ghar me kha le nah\")\n",
    "else :\n",
    "    print(\"by by\")"
   ]
  },
  {
   "cell_type": "markdown",
   "id": "74e58eed-d85f-433f-962e-0099153ccfaf",
   "metadata": {},
   "source": [
    "### Assignment :-2\n",
    "#### Q1. Wapp to check if the enterd character is a alphabet,digit or special character.\n",
    "#### Q2. A company decided to give 5% Bounou to its employees if his/her service is more than 5 years.Ask user for their salary and year of experience and print the net bonus amount."
   ]
  },
  {
   "cell_type": "code",
   "execution_count": 140,
   "id": "5296cd94-c1e4-4704-88a5-df8d0bad233f",
   "metadata": {},
   "outputs": [
    {
     "name": "stdin",
     "output_type": "stream",
     "text": [
      "enter a character: $\n"
     ]
    },
    {
     "name": "stdout",
     "output_type": "stream",
     "text": [
      " Special Character \n"
     ]
    }
   ],
   "source": [
    "#  Q1.Wapp to check if the enterd character is a alphabet \n",
    "a = input(\"enter a character:\")\n",
    "if a.isalpha():\n",
    "    print( \" Alphabet \") \n",
    "elif a.isdigit():\n",
    "    print(\" Digit \")\n",
    "elif a.isspace():\n",
    "    print(\"space\")\n",
    "else:\n",
    "    print(\" Special Character \") "
   ]
  },
  {
   "cell_type": "code",
   "execution_count": 138,
   "id": "f138c131-e770-4572-8cae-29e306f3234e",
   "metadata": {},
   "outputs": [
    {
     "name": "stdin",
     "output_type": "stream",
     "text": [
      "enter your salary: 2000\n",
      "Enter your years of experience 12\n"
     ]
    },
    {
     "name": "stdout",
     "output_type": "stream",
     "text": [
      "net bonus amount 100.0\n",
      "Total Salary amount 2100.0\n"
     ]
    }
   ],
   "source": [
    "# Q2. A company decided to give 5% Bounou to its employees if his/her service is more than \n",
    "#5 years.Ask user for their salary and year of experience and print the net bonus amount.\n",
    "a = int(input(\"enter your salary:\"))\n",
    "b = int(input(\"Enter your years of experience\"))\n",
    "if b>5:\n",
    "    print(\"net bonus amount\",a*5/100)\n",
    "    print(\"Total Salary amount\",a+a*5/100)\n",
    "else:\n",
    "    print(\"you are not experienced\")"
   ]
  },
  {
   "cell_type": "code",
   "execution_count": null,
   "id": "34eb42d1-15e8-49f6-93d3-f853f16bdf0a",
   "metadata": {},
   "outputs": [],
   "source": []
  }
 ],
 "metadata": {
  "kernelspec": {
   "display_name": "Python 3 (ipykernel)",
   "language": "python",
   "name": "python3"
  },
  "language_info": {
   "codemirror_mode": {
    "name": "ipython",
    "version": 3
   },
   "file_extension": ".py",
   "mimetype": "text/x-python",
   "name": "python",
   "nbconvert_exporter": "python",
   "pygments_lexer": "ipython3",
   "version": "3.12.7"
  }
 },
 "nbformat": 4,
 "nbformat_minor": 5
}
