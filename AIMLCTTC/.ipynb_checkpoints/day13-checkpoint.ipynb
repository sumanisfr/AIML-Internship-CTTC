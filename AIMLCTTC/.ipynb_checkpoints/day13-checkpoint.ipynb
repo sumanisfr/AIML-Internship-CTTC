{
 "cells": [
  {
   "cell_type": "code",
   "execution_count": 1,
   "id": "0bc3d8e1-bfc5-4b26-8417-7932734be814",
   "metadata": {},
   "outputs": [
    {
     "name": "stdout",
     "output_type": "stream",
     "text": [
      "Collecting pywhatkit\n",
      "  Downloading pywhatkit-5.4-py3-none-any.whl.metadata (5.5 kB)\n",
      "Requirement already satisfied: Pillow in c:\\annacoondaaiml\\lib\\site-packages (from pywhatkit) (10.4.0)\n",
      "Collecting pyautogui (from pywhatkit)\n",
      "  Downloading PyAutoGUI-0.9.54.tar.gz (61 kB)\n",
      "  Installing build dependencies: started\n",
      "  Installing build dependencies: finished with status 'done'\n",
      "  Getting requirements to build wheel: started\n",
      "  Getting requirements to build wheel: finished with status 'done'\n",
      "  Preparing metadata (pyproject.toml): started\n",
      "  Preparing metadata (pyproject.toml): finished with status 'done'\n",
      "Requirement already satisfied: requests in c:\\annacoondaaiml\\lib\\site-packages (from pywhatkit) (2.32.3)\n",
      "Collecting wikipedia (from pywhatkit)\n",
      "  Downloading wikipedia-1.4.0.tar.gz (27 kB)\n",
      "  Preparing metadata (setup.py): started\n",
      "  Preparing metadata (setup.py): finished with status 'done'\n",
      "Requirement already satisfied: Flask in c:\\annacoondaaiml\\lib\\site-packages (from pywhatkit) (3.0.3)\n",
      "Requirement already satisfied: Werkzeug>=3.0.0 in c:\\annacoondaaiml\\lib\\site-packages (from Flask->pywhatkit) (3.0.3)\n",
      "Requirement already satisfied: Jinja2>=3.1.2 in c:\\annacoondaaiml\\lib\\site-packages (from Flask->pywhatkit) (3.1.4)\n",
      "Requirement already satisfied: itsdangerous>=2.1.2 in c:\\annacoondaaiml\\lib\\site-packages (from Flask->pywhatkit) (2.2.0)\n",
      "Requirement already satisfied: click>=8.1.3 in c:\\annacoondaaiml\\lib\\site-packages (from Flask->pywhatkit) (8.1.7)\n",
      "Requirement already satisfied: blinker>=1.6.2 in c:\\annacoondaaiml\\lib\\site-packages (from Flask->pywhatkit) (1.6.2)\n",
      "Collecting pymsgbox (from pyautogui->pywhatkit)\n",
      "  Downloading PyMsgBox-1.0.9.tar.gz (18 kB)\n",
      "  Installing build dependencies: started\n",
      "  Installing build dependencies: finished with status 'done'\n",
      "  Getting requirements to build wheel: started\n",
      "  Getting requirements to build wheel: finished with status 'done'\n",
      "  Preparing metadata (pyproject.toml): started\n",
      "  Preparing metadata (pyproject.toml): finished with status 'done'\n",
      "Collecting pytweening>=1.0.4 (from pyautogui->pywhatkit)\n",
      "  Downloading pytweening-1.2.0.tar.gz (171 kB)\n",
      "  Preparing metadata (setup.py): started\n",
      "  Preparing metadata (setup.py): finished with status 'done'\n",
      "Collecting pyscreeze>=0.1.21 (from pyautogui->pywhatkit)\n",
      "  Downloading pyscreeze-1.0.1.tar.gz (27 kB)\n",
      "  Installing build dependencies: started\n",
      "  Installing build dependencies: finished with status 'done'\n",
      "  Getting requirements to build wheel: started\n",
      "  Getting requirements to build wheel: finished with status 'done'\n",
      "  Preparing metadata (pyproject.toml): started\n",
      "  Preparing metadata (pyproject.toml): finished with status 'done'\n",
      "Collecting pygetwindow>=0.0.5 (from pyautogui->pywhatkit)\n",
      "  Downloading PyGetWindow-0.0.9.tar.gz (9.7 kB)\n",
      "  Preparing metadata (setup.py): started\n",
      "  Preparing metadata (setup.py): finished with status 'done'\n",
      "Collecting mouseinfo (from pyautogui->pywhatkit)\n",
      "  Downloading MouseInfo-0.1.3.tar.gz (10 kB)\n",
      "  Preparing metadata (setup.py): started\n",
      "  Preparing metadata (setup.py): finished with status 'done'\n",
      "Requirement already satisfied: charset-normalizer<4,>=2 in c:\\annacoondaaiml\\lib\\site-packages (from requests->pywhatkit) (3.3.2)\n",
      "Requirement already satisfied: idna<4,>=2.5 in c:\\users\\suman\\appdata\\roaming\\python\\python312\\site-packages (from requests->pywhatkit) (3.10)\n",
      "Requirement already satisfied: urllib3<3,>=1.21.1 in c:\\annacoondaaiml\\lib\\site-packages (from requests->pywhatkit) (2.2.3)\n",
      "Requirement already satisfied: certifi>=2017.4.17 in c:\\users\\suman\\appdata\\roaming\\python\\python312\\site-packages (from requests->pywhatkit) (2025.1.31)\n",
      "Requirement already satisfied: beautifulsoup4 in c:\\annacoondaaiml\\lib\\site-packages (from wikipedia->pywhatkit) (4.12.3)\n",
      "Requirement already satisfied: colorama in c:\\users\\suman\\appdata\\roaming\\python\\python312\\site-packages (from click>=8.1.3->Flask->pywhatkit) (0.4.6)\n",
      "Requirement already satisfied: MarkupSafe>=2.0 in c:\\annacoondaaiml\\lib\\site-packages (from Jinja2>=3.1.2->Flask->pywhatkit) (2.1.3)\n",
      "Collecting pyrect (from pygetwindow>=0.0.5->pyautogui->pywhatkit)\n",
      "  Downloading PyRect-0.2.0.tar.gz (17 kB)\n",
      "  Preparing metadata (setup.py): started\n",
      "  Preparing metadata (setup.py): finished with status 'done'\n",
      "Requirement already satisfied: soupsieve>1.2 in c:\\annacoondaaiml\\lib\\site-packages (from beautifulsoup4->wikipedia->pywhatkit) (2.5)\n",
      "Collecting pyperclip (from mouseinfo->pyautogui->pywhatkit)\n",
      "  Downloading pyperclip-1.9.0.tar.gz (20 kB)\n",
      "  Preparing metadata (setup.py): started\n",
      "  Preparing metadata (setup.py): finished with status 'done'\n",
      "Downloading pywhatkit-5.4-py3-none-any.whl (15 kB)\n",
      "Building wheels for collected packages: pyautogui, wikipedia, pygetwindow, pyscreeze, pytweening, mouseinfo, pymsgbox, pyperclip, pyrect\n",
      "  Building wheel for pyautogui (pyproject.toml): started\n",
      "  Building wheel for pyautogui (pyproject.toml): finished with status 'done'\n",
      "  Created wheel for pyautogui: filename=pyautogui-0.9.54-py3-none-any.whl size=37707 sha256=93e8b4e3ff384c241d27170fed9f8d98567f9138902bf0a1afb5bb67c44b6237\n",
      "  Stored in directory: c:\\users\\suman\\appdata\\local\\pip\\cache\\wheels\\d9\\d6\\47\\04075995b093ecc87c212c9a3dbd34e59456c6fe504d65c3e4\n",
      "  Building wheel for wikipedia (setup.py): started\n",
      "  Building wheel for wikipedia (setup.py): finished with status 'done'\n",
      "  Created wheel for wikipedia: filename=wikipedia-1.4.0-py3-none-any.whl size=11705 sha256=73e6e17ddcd3ff1815b8948f9d3512f35b767b2a8fca60f2e08d76b7f9532ab8\n",
      "  Stored in directory: c:\\users\\suman\\appdata\\local\\pip\\cache\\wheels\\63\\47\\7c\\a9688349aa74d228ce0a9023229c6c0ac52ca2a40fe87679b8\n",
      "  Building wheel for pygetwindow (setup.py): started\n",
      "  Building wheel for pygetwindow (setup.py): finished with status 'done'\n",
      "  Created wheel for pygetwindow: filename=PyGetWindow-0.0.9-py3-none-any.whl size=11081 sha256=d8ca7bd5f8ee28f7cbedddc7d4ca82aca19365554e0954254a986a221a4c42c9\n",
      "  Stored in directory: c:\\users\\suman\\appdata\\local\\pip\\cache\\wheels\\b3\\39\\81\\34dd7a2eca5f885f1f6e2796761970daf66a2d98ac1904f5f4\n",
      "  Building wheel for pyscreeze (pyproject.toml): started\n",
      "  Building wheel for pyscreeze (pyproject.toml): finished with status 'done'\n",
      "  Created wheel for pyscreeze: filename=pyscreeze-1.0.1-py3-none-any.whl size=14481 sha256=cfdeccc0e02c7f45f314cba01f7184bc3bdb36afd2f89ebfbbee16ca4f994c9f\n",
      "  Stored in directory: c:\\users\\suman\\appdata\\local\\pip\\cache\\wheels\\cd\\3a\\c2\\7f2839239a069aa3c9564f6777cbb29d733720ef673f104f0d\n",
      "  Building wheel for pytweening (setup.py): started\n",
      "  Building wheel for pytweening (setup.py): finished with status 'done'\n",
      "  Created wheel for pytweening: filename=pytweening-1.2.0-py3-none-any.whl size=8029 sha256=b94d73b7c6efb58af45f77a4fef687d23ced5f92a5a7b32cf9c1fc895cd71506\n",
      "  Stored in directory: c:\\users\\suman\\appdata\\local\\pip\\cache\\wheels\\23\\d5\\13\\4e9bdadbfe3c78e47c675e7410c0eed2fbb63c5ea6cf1b40e7\n",
      "  Building wheel for mouseinfo (setup.py): started\n",
      "  Building wheel for mouseinfo (setup.py): finished with status 'done'\n",
      "  Created wheel for mouseinfo: filename=MouseInfo-0.1.3-py3-none-any.whl size=10903 sha256=bba2a74ded499e1c9e56f20575be79ec63a86f7bf53b38d3504abbd403bbff44\n",
      "  Stored in directory: c:\\users\\suman\\appdata\\local\\pip\\cache\\wheels\\b1\\9b\\f3\\08650eb7f00af32f07789f3c6a101e0d7fc762b9891ae843bb\n",
      "  Building wheel for pymsgbox (pyproject.toml): started\n",
      "  Building wheel for pymsgbox (pyproject.toml): finished with status 'done'\n",
      "  Created wheel for pymsgbox: filename=pymsgbox-1.0.9-py3-none-any.whl size=7467 sha256=d9958a5c0a44bbcec281c1cd8ad3b837e4ff2c46111da983f5d7114bf59f9e7e\n",
      "  Stored in directory: c:\\users\\suman\\appdata\\local\\pip\\cache\\wheels\\55\\e7\\aa\\239163543708d1e15c3d9a1b89dbfe3954b0929a6df2951b83\n",
      "  Building wheel for pyperclip (setup.py): started\n",
      "  Building wheel for pyperclip (setup.py): finished with status 'done'\n",
      "  Created wheel for pyperclip: filename=pyperclip-1.9.0-py3-none-any.whl size=11019 sha256=3386cc7432fbc0e2166497bcc47bd68ed607573c9c27ab3b44a502eea5209c1b\n",
      "  Stored in directory: c:\\users\\suman\\appdata\\local\\pip\\cache\\wheels\\e0\\e8\\fc\\8ab8aa326e33bc066ccd5f3ca9646eab4299881af933f94f09\n",
      "  Building wheel for pyrect (setup.py): started\n",
      "  Building wheel for pyrect (setup.py): finished with status 'done'\n",
      "  Created wheel for pyrect: filename=PyRect-0.2.0-py2.py3-none-any.whl size=11207 sha256=041e8fd06a2775a0030afb80c23a83a6b3e43f80cecb6e42b6f9db52755fa7c3\n",
      "  Stored in directory: c:\\users\\suman\\appdata\\local\\pip\\cache\\wheels\\0b\\1e\\d7\\0c74bd8f60b39c14d84e307398786002aa7ddc905927cc03c5\n",
      "Successfully built pyautogui wikipedia pygetwindow pyscreeze pytweening mouseinfo pymsgbox pyperclip pyrect\n",
      "Installing collected packages: pytweening, pyscreeze, pyrect, pyperclip, pymsgbox, pygetwindow, mouseinfo, wikipedia, pyautogui, pywhatkit\n",
      "Successfully installed mouseinfo-0.1.3 pyautogui-0.9.54 pygetwindow-0.0.9 pymsgbox-1.0.9 pyperclip-1.9.0 pyrect-0.2.0 pyscreeze-1.0.1 pytweening-1.2.0 pywhatkit-5.4 wikipedia-1.4.0\n"
     ]
    }
   ],
   "source": [
    "!pip install pywhatkit"
   ]
  },
  {
   "cell_type": "code",
   "execution_count": 1,
   "id": "446e99e6-c88c-407d-b5e5-d483dc7ed535",
   "metadata": {},
   "outputs": [],
   "source": [
    "import pywhatkit as kit"
   ]
  },
  {
   "cell_type": "code",
   "execution_count": 5,
   "id": "3274b148-44a6-46d4-8825-f64dd36a2788",
   "metadata": {},
   "outputs": [
    {
     "data": {
      "text/plain": [
       "'https://www.youtube.com/watch?v=-REjIq1FrKs\\\\\\\\u0026list=RD-REjIq1FrKs\\\\\\\\u0026start_radio=1\\\\\\\\u0026pp=ygUITkRBIHNvbmegBwE%3D'"
      ]
     },
     "execution_count": 5,
     "metadata": {},
     "output_type": "execute_result"
    }
   ],
   "source": [
    "kit.playonyt(\"NDA song\")"
   ]
  },
  {
   "cell_type": "code",
   "execution_count": 6,
   "id": "04d423f5-e382-4c89-831a-90233ac5f6ce",
   "metadata": {},
   "outputs": [
    {
     "data": {
      "text/plain": [
       "'https://www.youtube.com/watch?v=AvdaW5BIZQM\\\\\\\\u0026pp=ygULbmV3IGRqIHNvbmfSBwkJvgkBhyohjO8%3D'"
      ]
     },
     "execution_count": 6,
     "metadata": {},
     "output_type": "execute_result"
    }
   ],
   "source": [
    "kit.playonyt(\"new dj song\")"
   ]
  },
  {
   "cell_type": "code",
   "execution_count": 8,
   "id": "055a0cc5-8d76-41eb-823a-14416cd51ec3",
   "metadata": {},
   "outputs": [],
   "source": [
    "kit.search(\"Suman-Kumar-Ghosh igit\")"
   ]
  },
  {
   "cell_type": "code",
   "execution_count": 3,
   "id": "f0ae8405-f47c-4b6f-834b-2f4e703e176f",
   "metadata": {
    "scrolled": true
   },
   "outputs": [
    {
     "name": "stdout",
     "output_type": "stream",
     "text": [
      "Collecting gTTS\n",
      "  Downloading gTTS-2.5.4-py3-none-any.whl.metadata (4.1 kB)\n",
      "Requirement already satisfied: requests<3,>=2.27 in c:\\annacoondaaiml\\lib\\site-packages (from gTTS) (2.32.3)\n",
      "Requirement already satisfied: click<8.2,>=7.1 in c:\\annacoondaaiml\\lib\\site-packages (from gTTS) (8.1.7)\n",
      "Requirement already satisfied: colorama in c:\\users\\suman\\appdata\\roaming\\python\\python312\\site-packages (from click<8.2,>=7.1->gTTS) (0.4.6)\n",
      "Requirement already satisfied: charset-normalizer<4,>=2 in c:\\annacoondaaiml\\lib\\site-packages (from requests<3,>=2.27->gTTS) (3.3.2)\n",
      "Requirement already satisfied: idna<4,>=2.5 in c:\\users\\suman\\appdata\\roaming\\python\\python312\\site-packages (from requests<3,>=2.27->gTTS) (3.10)\n",
      "Requirement already satisfied: urllib3<3,>=1.21.1 in c:\\annacoondaaiml\\lib\\site-packages (from requests<3,>=2.27->gTTS) (2.2.3)\n",
      "Requirement already satisfied: certifi>=2017.4.17 in c:\\users\\suman\\appdata\\roaming\\python\\python312\\site-packages (from requests<3,>=2.27->gTTS) (2025.1.31)\n",
      "Downloading gTTS-2.5.4-py3-none-any.whl (29 kB)\n",
      "Installing collected packages: gTTS\n",
      "Successfully installed gTTS-2.5.4\n"
     ]
    }
   ],
   "source": [
    "!pip install gTTS"
   ]
  },
  {
   "cell_type": "code",
   "execution_count": 4,
   "id": "5151539a-3ba9-40c8-a4dd-85f4973a860c",
   "metadata": {},
   "outputs": [],
   "source": [
    "# from gtts import gTTS"
   ]
  },
  {
   "cell_type": "code",
   "execution_count": 7,
   "id": "af5b6063-c190-43ae-8965-c6a1f961d508",
   "metadata": {},
   "outputs": [],
   "source": [
    "import calendar"
   ]
  },
  {
   "cell_type": "code",
   "execution_count": 8,
   "id": "d5cee757-9db8-48c5-97dd-004e3494d911",
   "metadata": {
    "scrolled": true
   },
   "outputs": [
    {
     "name": "stdout",
     "output_type": "stream",
     "text": [
      "                                  2025\n",
      "\n",
      "      January                   February                   March\n",
      "Mo Tu We Th Fr Sa Su      Mo Tu We Th Fr Sa Su      Mo Tu We Th Fr Sa Su\n",
      "       1  2  3  4  5                      1  2                      1  2\n",
      " 6  7  8  9 10 11 12       3  4  5  6  7  8  9       3  4  5  6  7  8  9\n",
      "13 14 15 16 17 18 19      10 11 12 13 14 15 16      10 11 12 13 14 15 16\n",
      "20 21 22 23 24 25 26      17 18 19 20 21 22 23      17 18 19 20 21 22 23\n",
      "27 28 29 30 31            24 25 26 27 28            24 25 26 27 28 29 30\n",
      "                                                    31\n",
      "\n",
      "       April                      May                       June\n",
      "Mo Tu We Th Fr Sa Su      Mo Tu We Th Fr Sa Su      Mo Tu We Th Fr Sa Su\n",
      "    1  2  3  4  5  6                1  2  3  4                         1\n",
      " 7  8  9 10 11 12 13       5  6  7  8  9 10 11       2  3  4  5  6  7  8\n",
      "14 15 16 17 18 19 20      12 13 14 15 16 17 18       9 10 11 12 13 14 15\n",
      "21 22 23 24 25 26 27      19 20 21 22 23 24 25      16 17 18 19 20 21 22\n",
      "28 29 30                  26 27 28 29 30 31         23 24 25 26 27 28 29\n",
      "                                                    30\n",
      "\n",
      "        July                     August                  September\n",
      "Mo Tu We Th Fr Sa Su      Mo Tu We Th Fr Sa Su      Mo Tu We Th Fr Sa Su\n",
      "    1  2  3  4  5  6                   1  2  3       1  2  3  4  5  6  7\n",
      " 7  8  9 10 11 12 13       4  5  6  7  8  9 10       8  9 10 11 12 13 14\n",
      "14 15 16 17 18 19 20      11 12 13 14 15 16 17      15 16 17 18 19 20 21\n",
      "21 22 23 24 25 26 27      18 19 20 21 22 23 24      22 23 24 25 26 27 28\n",
      "28 29 30 31               25 26 27 28 29 30 31      29 30\n",
      "\n",
      "      October                   November                  December\n",
      "Mo Tu We Th Fr Sa Su      Mo Tu We Th Fr Sa Su      Mo Tu We Th Fr Sa Su\n",
      "       1  2  3  4  5                      1  2       1  2  3  4  5  6  7\n",
      " 6  7  8  9 10 11 12       3  4  5  6  7  8  9       8  9 10 11 12 13 14\n",
      "13 14 15 16 17 18 19      10 11 12 13 14 15 16      15 16 17 18 19 20 21\n",
      "20 21 22 23 24 25 26      17 18 19 20 21 22 23      22 23 24 25 26 27 28\n",
      "27 28 29 30 31            24 25 26 27 28 29 30      29 30 31\n",
      "\n"
     ]
    }
   ],
   "source": [
    "print(calendar.calendar(2025))"
   ]
  },
  {
   "cell_type": "code",
   "execution_count": 9,
   "id": "2e95ba15-4ffd-42c6-a6ce-f85bc84a0100",
   "metadata": {},
   "outputs": [],
   "source": [
    "import datetime"
   ]
  },
  {
   "cell_type": "code",
   "execution_count": 11,
   "id": "97fd3ff1-97bb-4c25-8ff5-e918e3637d3a",
   "metadata": {},
   "outputs": [
    {
     "data": {
      "text/plain": [
       "datetime.datetime(2025, 6, 20, 8, 59, 13, 304440)"
      ]
     },
     "execution_count": 11,
     "metadata": {},
     "output_type": "execute_result"
    }
   ],
   "source": [
    "datetime.datetime.now()"
   ]
  },
  {
   "cell_type": "code",
   "execution_count": 15,
   "id": "beafcf34-5114-4cac-a845-6082d685ea51",
   "metadata": {},
   "outputs": [],
   "source": [
    "td = datetime.datetime.now()\n",
    "dob = datetime.datetime(2005,2,5,19,15)"
   ]
  },
  {
   "cell_type": "code",
   "execution_count": 16,
   "id": "2bcce856-7f74-4a61-bde4-1e5ce1e16619",
   "metadata": {},
   "outputs": [
    {
     "data": {
      "text/plain": [
       "20"
      ]
     },
     "execution_count": 16,
     "metadata": {},
     "output_type": "execute_result"
    }
   ],
   "source": [
    "a = td-dob\n",
    "b = a/365.25\n",
    "b.days"
   ]
  },
  {
   "cell_type": "code",
   "execution_count": 1,
   "id": "b710fc1c-a6b5-4617-bcbb-fba21fbe3269",
   "metadata": {
    "scrolled": true
   },
   "outputs": [
    {
     "name": "stdout",
     "output_type": "stream",
     "text": [
      "Collecting pygame\n",
      "  Downloading pygame-2.6.1-cp312-cp312-win_amd64.whl.metadata (13 kB)\n",
      "Downloading pygame-2.6.1-cp312-cp312-win_amd64.whl (10.6 MB)\n",
      "   ---------------------------------------- 0.0/10.6 MB ? eta -:--:--\n",
      "   ---------------------------------------- 0.0/10.6 MB ? eta -:--:--\n",
      "   - -------------------------------------- 0.5/10.6 MB 2.1 MB/s eta 0:00:05\n",
      "   -- ------------------------------------- 0.8/10.6 MB 2.2 MB/s eta 0:00:05\n",
      "   ---- ----------------------------------- 1.3/10.6 MB 2.3 MB/s eta 0:00:05\n",
      "   ------ --------------------------------- 1.8/10.6 MB 2.1 MB/s eta 0:00:05\n",
      "   ------- -------------------------------- 2.1/10.6 MB 2.2 MB/s eta 0:00:04\n",
      "   --------- ------------------------------ 2.6/10.6 MB 2.0 MB/s eta 0:00:04\n",
      "   ---------- ----------------------------- 2.9/10.6 MB 1.9 MB/s eta 0:00:05\n",
      "   ----------- ---------------------------- 3.1/10.6 MB 1.8 MB/s eta 0:00:05\n",
      "   ------------ --------------------------- 3.4/10.6 MB 1.8 MB/s eta 0:00:04\n",
      "   ------------- -------------------------- 3.7/10.6 MB 1.7 MB/s eta 0:00:05\n",
      "   -------------- ------------------------- 3.9/10.6 MB 1.7 MB/s eta 0:00:05\n",
      "   --------------- ------------------------ 4.2/10.6 MB 1.6 MB/s eta 0:00:04\n",
      "   ---------------- ----------------------- 4.5/10.6 MB 1.6 MB/s eta 0:00:04\n",
      "   ----------------- ---------------------- 4.7/10.6 MB 1.6 MB/s eta 0:00:04\n",
      "   ------------------ --------------------- 5.0/10.6 MB 1.6 MB/s eta 0:00:04\n",
      "   ------------------- -------------------- 5.2/10.6 MB 1.5 MB/s eta 0:00:04\n",
      "   -------------------- ------------------- 5.5/10.6 MB 1.5 MB/s eta 0:00:04\n",
      "   --------------------- ------------------ 5.8/10.6 MB 1.5 MB/s eta 0:00:04\n",
      "   ---------------------- ----------------- 6.0/10.6 MB 1.5 MB/s eta 0:00:04\n",
      "   ----------------------- ---------------- 6.3/10.6 MB 1.5 MB/s eta 0:00:03\n",
      "   ------------------------ --------------- 6.6/10.6 MB 1.5 MB/s eta 0:00:03\n",
      "   ------------------------- -------------- 6.8/10.6 MB 1.4 MB/s eta 0:00:03\n",
      "   ------------------------- -------------- 6.8/10.6 MB 1.4 MB/s eta 0:00:03\n",
      "   -------------------------- ------------- 7.1/10.6 MB 1.4 MB/s eta 0:00:03\n",
      "   --------------------------- ------------ 7.3/10.6 MB 1.4 MB/s eta 0:00:03\n",
      "   ---------------------------- ----------- 7.6/10.6 MB 1.4 MB/s eta 0:00:03\n",
      "   ----------------------------- ---------- 7.9/10.6 MB 1.3 MB/s eta 0:00:03\n",
      "   ----------------------------- ---------- 7.9/10.6 MB 1.3 MB/s eta 0:00:03\n",
      "   ------------------------------ --------- 8.1/10.6 MB 1.3 MB/s eta 0:00:02\n",
      "   ------------------------------- -------- 8.4/10.6 MB 1.3 MB/s eta 0:00:02\n",
      "   -------------------------------- ------- 8.7/10.6 MB 1.3 MB/s eta 0:00:02\n",
      "   -------------------------------- ------- 8.7/10.6 MB 1.3 MB/s eta 0:00:02\n",
      "   --------------------------------- ------ 8.9/10.6 MB 1.3 MB/s eta 0:00:02\n",
      "   ---------------------------------- ----- 9.2/10.6 MB 1.3 MB/s eta 0:00:02\n",
      "   ----------------------------------- ---- 9.4/10.6 MB 1.2 MB/s eta 0:00:01\n",
      "   ------------------------------------ --- 9.7/10.6 MB 1.2 MB/s eta 0:00:01\n",
      "   ------------------------------------- -- 10.0/10.6 MB 1.2 MB/s eta 0:00:01\n",
      "   -------------------------------------- - 10.2/10.6 MB 1.2 MB/s eta 0:00:01\n",
      "   ---------------------------------------  10.5/10.6 MB 1.2 MB/s eta 0:00:01\n",
      "   ---------------------------------------- 10.6/10.6 MB 1.2 MB/s eta 0:00:00\n",
      "Installing collected packages: pygame\n",
      "Successfully installed pygame-2.6.1\n"
     ]
    }
   ],
   "source": [
    "!pip install pygame"
   ]
  },
  {
   "cell_type": "code",
   "execution_count": null,
   "id": "04cc238a-a7c3-4be2-8384-a63646323652",
   "metadata": {},
   "outputs": [
    {
     "name": "stdout",
     "output_type": "stream",
     "text": [
      "pygame 2.6.1 (SDL 2.28.4, Python 3.12.7)\n",
      "Hello from the pygame community. https://www.pygame.org/contribute.html\n"
     ]
    }
   ],
   "source": [
    "import pygame\n",
    "import time\n",
    "import random\n",
    "from IPython.display import display, clear_output\n",
    "\n",
    "# Initialize pygame\n",
    "pygame.init()\n",
    "\n",
    "# Set up display\n",
    "width, height = 600, 400\n",
    "window = pygame.display.set_mode((width, height))\n",
    "pygame.display.set_caption(\"Snake Game\")\n",
    "\n",
    "# Colors\n",
    "black = (0, 0, 0)\n",
    "red = (255, 0, 0)\n",
    "green = (0, 255, 0)\n",
    "blue = (50, 153, 213)\n",
    "white = (255, 255, 255)\n",
    "\n",
    "# Snake and Food settings\n",
    "block_size = 20\n",
    "clock = pygame.time.Clock()\n",
    "font_style = pygame.font.SysFont(\"bahnschrift\", 25)\n",
    "score_font = pygame.font.SysFont(\"comicsansms\", 35)\n",
    "\n",
    "def your_score(score):\n",
    "    value = score_font.render(\"Score: \" + str(score), True, red)\n",
    "    window.blit(value, [0, 0])\n",
    "\n",
    "def draw_snake(snake_block, snake_list):\n",
    "    for x in snake_list:\n",
    "        pygame.draw.rect(window, green, [x[0], x[1], snake_block, snake_block])\n",
    "\n",
    "def message(msg, color):\n",
    "    mesg = font_style.render(msg, True, color)\n",
    "    window.blit(mesg, [width / 6, height / 3])\n",
    "\n",
    "def gameLoop():\n",
    "    game_over = False\n",
    "    game_close = False\n",
    "\n",
    "    x1 = width / 2\n",
    "    y1 = height / 2\n",
    "\n",
    "    x1_change = 0\n",
    "    y1_change = 0\n",
    "\n",
    "    snake_List = []\n",
    "    Length_of_snake = 1\n",
    "\n",
    "    foodx = round(random.randrange(0, width - block_size) / 20.0) * 20.0\n",
    "    foody = round(random.randrange(0, height - block_size) / 20.0) * 20.0\n",
    "\n",
    "    while not game_over:\n",
    "\n",
    "        while game_close:\n",
    "            window.fill(blue)\n",
    "            message(\"You lost! Press Q-Quit or C-Play Again\", red)\n",
    "            your_score(Length_of_snake - 1)\n",
    "            pygame.display.update()\n",
    "\n",
    "            for event in pygame.event.get():\n",
    "                if event.type == pygame.KEYDOWN:\n",
    "                    if event.key == pygame.K_q:\n",
    "                        game_over = True\n",
    "                        game_close = False\n",
    "                    if event.key == pygame.K_c:\n",
    "                        gameLoop()\n",
    "\n",
    "        for event in pygame.event.get():\n",
    "            if event.type == pygame.QUIT:\n",
    "                game_over = True\n",
    "            if event.type == pygame.KEYDOWN:\n",
    "                if event.key == pygame.K_LEFT:\n",
    "                    x1_change = -block_size\n",
    "                    y1_change = 0\n",
    "                elif event.key == pygame.K_RIGHT:\n",
    "                    x1_change = block_size\n",
    "                    y1_change = 0\n",
    "                elif event.key == pygame.K_UP:\n",
    "                    y1_change = -block_size\n",
    "                    x1_change = 0\n",
    "                elif event.key == pygame.K_DOWN:\n",
    "                    y1_change = block_size\n",
    "                    x1_change = 0\n",
    "\n",
    "        if x1 >= width or x1 < 0 or y1 >= height or y1 < 0:\n",
    "            game_close = True\n",
    "        x1 += x1_change\n",
    "        y1 += y1_change\n",
    "        window.fill(blue)\n",
    "        pygame.draw.rect(window, white, [foodx, foody, block_size, block_size])\n",
    "        snake_Head = []\n",
    "        snake_Head.append(x1)\n",
    "        snake_Head.append(y1)\n",
    "        snake_List.append(snake_Head)\n",
    "        if len(snake_List) > Length_of_snake:\n",
    "            del snake_List[0]\n",
    "\n",
    "        for x in snake_List[:-1]:\n",
    "            if x == snake_Head:\n",
    "                game_close = True\n",
    "\n",
    "        draw_snake(block_size, snake_List)\n",
    "        your_score(Length_of_snake - 1)\n",
    "\n",
    "        pygame.display.update()\n",
    "\n",
    "        if x1 == foodx and y1 == foody:\n",
    "            foodx = round(random.randrange(0, width - block_size) / 20.0) * 20.0\n",
    "            foody = round(random.randrange(0, height - block_size) / 20.0) * 20.0\n",
    "            Length_of_snake += 1\n",
    "\n",
    "        clock.tick(15)\n",
    "\n",
    "    pygame.quit()\n",
    "    quit()\n",
    "\n",
    "# Run the game\n",
    "gameLoop()"
   ]
  },
  {
   "cell_type": "code",
   "execution_count": null,
   "id": "64fd5cb5-4317-4cab-a96d-d2872faaec3c",
   "metadata": {},
   "outputs": [],
   "source": []
  }
 ],
 "metadata": {
  "kernelspec": {
   "display_name": "Python 3 (ipykernel)",
   "language": "python",
   "name": "python3"
  },
  "language_info": {
   "codemirror_mode": {
    "name": "ipython",
    "version": 3
   },
   "file_extension": ".py",
   "mimetype": "text/x-python",
   "name": "python",
   "nbconvert_exporter": "python",
   "pygments_lexer": "ipython3",
   "version": "3.12.7"
  }
 },
 "nbformat": 4,
 "nbformat_minor": 5
}
