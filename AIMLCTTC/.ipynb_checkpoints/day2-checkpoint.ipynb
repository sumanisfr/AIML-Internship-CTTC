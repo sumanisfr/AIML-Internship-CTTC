{
 "cells": [
  {
   "cell_type": "markdown",
   "id": "27153bb6-dc7e-4869-991f-44061cc9dee4",
   "metadata": {
    "jp-MarkdownHeadingCollapsed": true
   },
   "source": [
    "## String Indexing :-"
   ]
  },
  {
   "cell_type": "code",
   "execution_count": 4,
   "id": "8041ffcb-b558-48f4-9e10-b95499176f8e",
   "metadata": {},
   "outputs": [
    {
     "data": {
      "text/plain": [
       "'R'"
      ]
     },
     "execution_count": 4,
     "metadata": {},
     "output_type": "execute_result"
    }
   ],
   "source": [
    "s1 = 'AEROPLANE'\n",
    "s1[2]"
   ]
  },
  {
   "cell_type": "code",
   "execution_count": 5,
   "id": "c77cd0da-76e9-4fd4-a083-146c02a136bb",
   "metadata": {},
   "outputs": [
    {
     "data": {
      "text/plain": [
       "'A'"
      ]
     },
     "execution_count": 5,
     "metadata": {},
     "output_type": "execute_result"
    }
   ],
   "source": [
    "s1[-3]"
   ]
  },
  {
   "cell_type": "markdown",
   "id": "7e6bbfd5-b81f-4768-b0d8-cb028332559f",
   "metadata": {
    "jp-MarkdownHeadingCollapsed": true,
    "jupyter": {
     "source_hidden": true
    }
   },
   "source": [
    "## String Slicing:taking out a subpart from any whole\n",
    "### Syntax :- var[start_index:stop_index+1:step]"
   ]
  },
  {
   "cell_type": "code",
   "execution_count": 11,
   "id": "558453fd-9015-4351-99eb-b5df9925600d",
   "metadata": {},
   "outputs": [
    {
     "data": {
      "text/plain": [
       "'PLANE'"
      ]
     },
     "execution_count": 11,
     "metadata": {},
     "output_type": "execute_result"
    }
   ],
   "source": [
    "s1 = 'AEROPLANE'\n",
    "#s1[4:9]\n",
    "s1[4:9:1]"
   ]
  },
  {
   "cell_type": "code",
   "execution_count": 10,
   "id": "b73f514b-c1a1-405e-b466-5444c0f60f26",
   "metadata": {},
   "outputs": [
    {
     "data": {
      "text/plain": [
       "'ARPAE'"
      ]
     },
     "execution_count": 10,
     "metadata": {},
     "output_type": "execute_result"
    }
   ],
   "source": [
    "s1 = 'AEROPLANE'\n",
    "#'ARPAE'\n",
    "s1[0:9:2]"
   ]
  },
  {
   "cell_type": "code",
   "execution_count": 14,
   "id": "401f9ad4-6a99-4f92-826f-fcfd1e67e46b",
   "metadata": {},
   "outputs": [
    {
     "data": {
      "text/plain": [
       "'ENALPOREA'"
      ]
     },
     "execution_count": 14,
     "metadata": {},
     "output_type": "execute_result"
    }
   ],
   "source": [
    "s1 = 'AEROPLANE'\n",
    "#'ENALPOREA'\n",
    "s1[-1:-10:-1]"
   ]
  },
  {
   "cell_type": "code",
   "execution_count": 15,
   "id": "77d9f979-d77a-49db-b2fb-4f2c299381aa",
   "metadata": {},
   "outputs": [
    {
     "data": {
      "text/plain": [
       "'ELR'"
      ]
     },
     "execution_count": 15,
     "metadata": {},
     "output_type": "execute_result"
    }
   ],
   "source": [
    "s1 = 'AEROPLANE'\n",
    "s1[-1:-10:-3]"
   ]
  },
  {
   "cell_type": "code",
   "execution_count": 17,
   "id": "04df56f3-dfb2-4b01-b6fd-8295b361b8c9",
   "metadata": {},
   "outputs": [
    {
     "data": {
      "text/plain": [
       "'ENA'"
      ]
     },
     "execution_count": 17,
     "metadata": {},
     "output_type": "execute_result"
    }
   ],
   "source": [
    "#the defualt value of string index is the starting index of string in any direction. \n",
    "s1 = 'AEROPLANE'\n",
    "s1[:4:1]\n",
    "s1[:-4:-1]"
   ]
  },
  {
   "cell_type": "code",
   "execution_count": 19,
   "id": "31581c5d-6664-4f46-b644-c4477fd21763",
   "metadata": {},
   "outputs": [
    {
     "name": "stdout",
     "output_type": "stream",
     "text": [
      "ARPAE\n"
     ]
    }
   ],
   "source": [
    "z = 'AEROPLANE'\n",
    "print(z[0::2])"
   ]
  },
  {
   "cell_type": "code",
   "execution_count": 20,
   "id": "7a7c1f4e-c286-4287-aee7-a326adfb6b54",
   "metadata": {},
   "outputs": [
    {
     "name": "stdout",
     "output_type": "stream",
     "text": [
      "AEROPLANE\n"
     ]
    }
   ],
   "source": [
    "z = 'AEROPLANE'\n",
    "print(z[0:9])"
   ]
  },
  {
   "cell_type": "code",
   "execution_count": 21,
   "id": "c4b36140-fbdb-4ad5-a406-07e6a03c29c3",
   "metadata": {},
   "outputs": [
    {
     "name": "stdout",
     "output_type": "stream",
     "text": [
      "\n"
     ]
    }
   ],
   "source": [
    "z = 'AEROPLANE'\n",
    "print(z[-1:-10]) # the defualt value of step is 1 in +ve direction."
   ]
  },
  {
   "cell_type": "code",
   "execution_count": 22,
   "id": "857665db-c7b8-4a76-b93b-1d85e9dde3e1",
   "metadata": {},
   "outputs": [
    {
     "data": {
      "text/plain": [
       "'loet'"
      ]
     },
     "execution_count": 22,
     "metadata": {},
     "output_type": "execute_result"
    }
   ],
   "source": [
    "s ='welcome to my blog'\n",
    "#loet\n",
    "#om lg\n",
    "#golb ym ot emoclew\n",
    "s[2:9:2]"
   ]
  },
  {
   "cell_type": "code",
   "execution_count": 25,
   "id": "8a858253-a35b-49d6-ba27-6d7be0ed0c19",
   "metadata": {},
   "outputs": [
    {
     "data": {
      "text/plain": [
       "'om lg'"
      ]
     },
     "execution_count": 25,
     "metadata": {},
     "output_type": "execute_result"
    }
   ],
   "source": [
    "s ='welcome to my blog'\n",
    "#loet\n",
    "#om lg\n",
    "#golb ym ot emoclew\n",
    "s[9:18:2]"
   ]
  },
  {
   "cell_type": "code",
   "execution_count": 26,
   "id": "d480df80-4566-43c6-a4f7-9711944c3d69",
   "metadata": {},
   "outputs": [
    {
     "data": {
      "text/plain": [
       "'golb ym ot emoclew'"
      ]
     },
     "execution_count": 26,
     "metadata": {},
     "output_type": "execute_result"
    }
   ],
   "source": [
    "s ='welcome to my blog'\n",
    "#loet\n",
    "#om lg\n",
    "#golb ym ot emoclew\n",
    "s[-1:-19:-1]"
   ]
  },
  {
   "cell_type": "code",
   "execution_count": 30,
   "id": "6dd2b03b-8edb-4f3f-95d6-2feec112ce33",
   "metadata": {},
   "outputs": [
    {
     "name": "stdout",
     "output_type": "stream",
     "text": [
      "loet\n",
      "om lg\n",
      "golb ym ot emoclew\n"
     ]
    }
   ],
   "source": [
    "s ='welcome to my blog'\n",
    "#loet\n",
    "#om lg\n",
    "#golb ym ot emoclew\n",
    "print(s[2:9:2])\n",
    "print(s[9:18:2])\n",
    "print(s[-1:-19:-1])"
   ]
  },
  {
   "cell_type": "markdown",
   "id": "9cf4861a-507d-4af1-84db-6a03a8667b49",
   "metadata": {
    "jp-MarkdownHeadingCollapsed": true
   },
   "source": [
    "## String Attributes:-"
   ]
  },
  {
   "cell_type": "code",
   "execution_count": 35,
   "id": "024743e3-a4f7-448e-a942-82f1c206682c",
   "metadata": {},
   "outputs": [
    {
     "data": {
      "text/plain": [
       "'SKY IS BLUE'"
      ]
     },
     "execution_count": 35,
     "metadata": {},
     "output_type": "execute_result"
    }
   ],
   "source": [
    "#Upper():convert all characters to Uppercase\n",
    "z = 'Sky is blue'\n",
    "z.upper()"
   ]
  },
  {
   "cell_type": "code",
   "execution_count": 33,
   "id": "8298720f-556a-4160-8030-2bf1743899c4",
   "metadata": {},
   "outputs": [
    {
     "name": "stdout",
     "output_type": "stream",
     "text": [
      "Sky is blue\n"
     ]
    }
   ],
   "source": [
    "z = 'Sky is blue'\n",
    "print(z)"
   ]
  },
  {
   "cell_type": "code",
   "execution_count": 34,
   "id": "f2dc9d2c-e1a1-4207-b4f7-c0f9416dee8d",
   "metadata": {},
   "outputs": [
    {
     "data": {
      "text/plain": [
       "'sky is blue'"
      ]
     },
     "execution_count": 34,
     "metadata": {},
     "output_type": "execute_result"
    }
   ],
   "source": [
    "# lower(): convert all characters to lowercase\n",
    "z = 'sky Is Blue'\n",
    "z.lower()"
   ]
  },
  {
   "cell_type": "code",
   "execution_count": 38,
   "id": "1c9998bb-a368-4cae-a3e9-6ed4a89e416b",
   "metadata": {},
   "outputs": [
    {
     "data": {
      "text/plain": [
       "'Sky Is Blue'"
      ]
     },
     "execution_count": 38,
     "metadata": {},
     "output_type": "execute_result"
    }
   ],
   "source": [
    "# title() : convert each word's first character to uppercase \n",
    "z = 'Sky is blue'\n",
    "z.title()"
   ]
  },
  {
   "cell_type": "code",
   "execution_count": 37,
   "id": "8c7d5ad7-b031-492b-bbcb-fc77ab82a6d0",
   "metadata": {},
   "outputs": [
    {
     "data": {
      "text/plain": [
       "'Sky is blue'"
      ]
     },
     "execution_count": 37,
     "metadata": {},
     "output_type": "execute_result"
    }
   ],
   "source": [
    "# capitalize() : convert only the first character to string to uppercase\n",
    "z = 'Sky is blue'\n",
    "z.capitalize()"
   ]
  },
  {
   "cell_type": "code",
   "execution_count": 39,
   "id": "8a9c9123-d5b5-4c51-ae74-31df090e508a",
   "metadata": {},
   "outputs": [
    {
     "data": {
      "text/plain": [
       "'sKY IS bLUE'"
      ]
     },
     "execution_count": 39,
     "metadata": {},
     "output_type": "execute_result"
    }
   ],
   "source": [
    "#swapcase() : convert lower case to uppercase and upper case to lower case\n",
    "z = 'Sky is Blue'\n",
    "z.swapcase()"
   ]
  },
  {
   "cell_type": "code",
   "execution_count": 44,
   "id": "94e23f5f-b4b2-47ca-b508-93797d6babf8",
   "metadata": {},
   "outputs": [
    {
     "data": {
      "text/plain": [
       "1"
      ]
     },
     "execution_count": 44,
     "metadata": {},
     "output_type": "execute_result"
    }
   ],
   "source": [
    "#count(): it return no of character\n",
    "z = 'Sky is blue'\n",
    "z.count('y')"
   ]
  },
  {
   "cell_type": "code",
   "execution_count": 45,
   "id": "2d3f47a4-1f83-46ce-85ee-d4ff4c8217ca",
   "metadata": {},
   "outputs": [
    {
     "data": {
      "text/plain": [
       "2"
      ]
     },
     "execution_count": 45,
     "metadata": {},
     "output_type": "execute_result"
    }
   ],
   "source": [
    "#index(): it returns the index position of given element.\n",
    "z = 'Sky is blue'\n",
    "z.index('y')"
   ]
  },
  {
   "cell_type": "code",
   "execution_count": 48,
   "id": "443c3b66-0c46-49ee-806a-0c6cc9b0c0ed",
   "metadata": {},
   "outputs": [
    {
     "data": {
      "text/plain": [
       "'Sky  is      blue'"
      ]
     },
     "execution_count": 48,
     "metadata": {},
     "output_type": "execute_result"
    }
   ],
   "source": [
    "#strip(): remove all unwanted spaces from the leading(starting) and trailing(ending) part of spaces.\n",
    "z = '           Sky  is      blue      '\n",
    "z.strip()"
   ]
  },
  {
   "cell_type": "code",
   "execution_count": 53,
   "id": "42a0d0ba-8f9a-4f5c-be88-7d1d253d3631",
   "metadata": {},
   "outputs": [
    {
     "data": {
      "text/plain": [
       "'           Sky  is   blue'"
      ]
     },
     "execution_count": 53,
     "metadata": {},
     "output_type": "execute_result"
    }
   ],
   "source": [
    "#rstrip(): remove all unwanted spaces from the trailing(ending) part of spaces.\n",
    "z = '           Sky  is   blue      '\n",
    "z.rstrip()"
   ]
  },
  {
   "cell_type": "code",
   "execution_count": 52,
   "id": "f117f9b1-d644-4c69-bdd4-ca07d8bcf279",
   "metadata": {},
   "outputs": [
    {
     "data": {
      "text/plain": [
       "'Sky  is    blue    '"
      ]
     },
     "execution_count": 52,
     "metadata": {},
     "output_type": "execute_result"
    }
   ],
   "source": [
    "#lstrip(): remove all unwanted spaces from the leading(starting)parts.\n",
    "z = '        Sky  is    blue    '\n",
    "z.lstrip()"
   ]
  },
  {
   "cell_type": "code",
   "execution_count": 55,
   "id": "e5a017eb-7d2b-4dfb-bb54-fb4b922a1de2",
   "metadata": {},
   "outputs": [
    {
     "data": {
      "text/plain": [
       "'hello'"
      ]
     },
     "execution_count": 55,
     "metadata": {},
     "output_type": "execute_result"
    }
   ],
   "source": [
    "x1 = \"**********%%%%%****hello*****%%%%%***********\"\n",
    "x1.strip('*%')"
   ]
  },
  {
   "cell_type": "code",
   "execution_count": 57,
   "id": "33eeee77-2df7-48e4-8668-b9d24e19023b",
   "metadata": {},
   "outputs": [
    {
     "data": {
      "text/plain": [
       "'                            ice                             '"
      ]
     },
     "execution_count": 57,
     "metadata": {},
     "output_type": "execute_result"
    }
   ],
   "source": [
    "z = \"ice\"\n",
    "z.center(60)"
   ]
  },
  {
   "cell_type": "code",
   "execution_count": 59,
   "id": "1c3aa4e6-e24f-4dbc-91ef-bc879fba7f45",
   "metadata": {},
   "outputs": [
    {
     "data": {
      "text/plain": [
       "'@@@@@@@@@@@@@@@@@@@@@@@@@@@@ice@@@@@@@@@@@@@@@@@@@@@@@@@@@@@'"
      ]
     },
     "execution_count": 59,
     "metadata": {},
     "output_type": "execute_result"
    }
   ],
   "source": [
    "z = \"ice\"\n",
    "z.center(60,\"@\")"
   ]
  },
  {
   "cell_type": "code",
   "execution_count": 60,
   "id": "a4d6d215-253f-42cd-9f5d-b7035c02ec1d",
   "metadata": {},
   "outputs": [
    {
     "data": {
      "text/plain": [
       "'🐶🐶🐶🐶🐶🐶🐶🐶🐶🐶🐶🐶🐶🐶🐶🐶🐶🐶🐶🐶🐶🐶🐶🐶🐶🐶🐶🐶ice🐶🐶🐶🐶🐶🐶🐶🐶🐶🐶🐶🐶🐶🐶🐶🐶🐶🐶🐶🐶🐶🐶🐶🐶🐶🐶🐶🐶🐶'"
      ]
     },
     "execution_count": 60,
     "metadata": {},
     "output_type": "execute_result"
    }
   ],
   "source": [
    "z = \"ice\"\n",
    "z.center(60,\"🐶\")"
   ]
  },
  {
   "cell_type": "code",
   "execution_count": 65,
   "id": "3b22b4ee-68b3-4bd3-9f82-925a7a6c177a",
   "metadata": {},
   "outputs": [
    {
     "data": {
      "text/plain": [
       "'............................ice.............................'"
      ]
     },
     "execution_count": 65,
     "metadata": {},
     "output_type": "execute_result"
    }
   ],
   "source": [
    "z = \"ice\"\n",
    "z.center(60,\".\")"
   ]
  },
  {
   "cell_type": "code",
   "execution_count": 98,
   "id": "a384cff1-3b2a-4447-be73-837646ff25b6",
   "metadata": {},
   "outputs": [
    {
     "data": {
      "text/plain": [
       "'lily * rose * Suman'"
      ]
     },
     "execution_count": 98,
     "metadata": {},
     "output_type": "execute_result"
    }
   ],
   "source": [
    "#join:join with strings\n",
    "x = [\"lily\",\"rose\",\"Suman\"]\n",
    "' * '.join(x)"
   ]
  },
  {
   "cell_type": "code",
   "execution_count": 97,
   "id": "9ef6f23c-b773-4abd-8b77-c18634978ed8",
   "metadata": {},
   "outputs": [
    {
     "data": {
      "text/plain": [
       "['lily', 'rose', 'Suman']"
      ]
     },
     "execution_count": 97,
     "metadata": {},
     "output_type": "execute_result"
    }
   ],
   "source": [
    "\"lily,rose,Suman\".split(',')"
   ]
  },
  {
   "cell_type": "code",
   "execution_count": 96,
   "id": "740c2660-e2c7-4f11-9e4c-bcbbc78af108",
   "metadata": {},
   "outputs": [
    {
     "data": {
      "text/plain": [
       "True"
      ]
     },
     "execution_count": 96,
     "metadata": {},
     "output_type": "execute_result"
    }
   ],
   "source": [
    "#isupper():-to check string is upper or not\n",
    "'BALL'.isupper()"
   ]
  },
  {
   "cell_type": "code",
   "execution_count": 74,
   "id": "dfa4f662-eab1-4553-9a5e-edb7f0159fc3",
   "metadata": {},
   "outputs": [
    {
     "data": {
      "text/plain": [
       "False"
      ]
     },
     "execution_count": 74,
     "metadata": {},
     "output_type": "execute_result"
    }
   ],
   "source": [
    "#isupper():-\n",
    "'BzzALL'.isupper()"
   ]
  },
  {
   "cell_type": "code",
   "execution_count": 75,
   "id": "319c812f-d978-4e1a-8d87-3c973d6d9987",
   "metadata": {},
   "outputs": [
    {
     "data": {
      "text/plain": [
       "False"
      ]
     },
     "execution_count": 75,
     "metadata": {},
     "output_type": "execute_result"
    }
   ],
   "source": [
    "#islower():-to check string is lower or not\n",
    "'BALL'.islower()"
   ]
  },
  {
   "cell_type": "code",
   "execution_count": 76,
   "id": "a9e5508e-224a-408c-9b1f-ff6d8dcf8470",
   "metadata": {},
   "outputs": [
    {
     "data": {
      "text/plain": [
       "True"
      ]
     },
     "execution_count": 76,
     "metadata": {},
     "output_type": "execute_result"
    }
   ],
   "source": [
    "#islower():-to check string is lower or not\n",
    "'ball'.islower()"
   ]
  },
  {
   "cell_type": "code",
   "execution_count": 77,
   "id": "90024542-d0ed-4978-a7ba-c9314958575b",
   "metadata": {},
   "outputs": [
    {
     "data": {
      "text/plain": [
       "False"
      ]
     },
     "execution_count": 77,
     "metadata": {},
     "output_type": "execute_result"
    }
   ],
   "source": [
    "#istitle():-to check string's words first letter must be uppercase\n",
    "'BALL Sky'.istitle()"
   ]
  },
  {
   "cell_type": "code",
   "execution_count": 78,
   "id": "e4fced47-024d-46f3-8bb4-a908868cad95",
   "metadata": {},
   "outputs": [
    {
     "data": {
      "text/plain": [
       "True"
      ]
     },
     "execution_count": 78,
     "metadata": {},
     "output_type": "execute_result"
    }
   ],
   "source": [
    "#istitle():-to check string \n",
    "'Ball Sky'.istitle()"
   ]
  },
  {
   "cell_type": "code",
   "execution_count": 88,
   "id": "7f4fef7d-1ad3-430e-a132-5fc18cafb1ea",
   "metadata": {},
   "outputs": [
    {
     "data": {
      "text/plain": [
       "True"
      ]
     },
     "execution_count": 88,
     "metadata": {},
     "output_type": "execute_result"
    }
   ],
   "source": [
    "#isalpha():-to check string contains alphabets or not\n",
    "'BALLSky'.isalpha()"
   ]
  },
  {
   "cell_type": "code",
   "execution_count": 81,
   "id": "384699b2-e385-41c2-98b7-81cd551d1945",
   "metadata": {},
   "outputs": [
    {
     "data": {
      "text/plain": [
       "False"
      ]
     },
     "execution_count": 81,
     "metadata": {},
     "output_type": "execute_result"
    }
   ],
   "source": [
    "'BALL3335 Sky'.isalpha()"
   ]
  },
  {
   "cell_type": "code",
   "execution_count": 84,
   "id": "42614f6f-ad0c-4f11-b753-ad6746626462",
   "metadata": {},
   "outputs": [
    {
     "data": {
      "text/plain": [
       "False"
      ]
     },
     "execution_count": 84,
     "metadata": {},
     "output_type": "execute_result"
    }
   ],
   "source": [
    "#isnumeric():-to check string contains number or not\n",
    "'BALL Sky'.isnumeric()"
   ]
  },
  {
   "cell_type": "code",
   "execution_count": 102,
   "id": "05c0d33e-905d-4d2d-a7d6-4549e938771e",
   "metadata": {},
   "outputs": [
    {
     "data": {
      "text/plain": [
       "True"
      ]
     },
     "execution_count": 102,
     "metadata": {},
     "output_type": "execute_result"
    }
   ],
   "source": [
    "'2545678'.isnumeric()"
   ]
  },
  {
   "cell_type": "code",
   "execution_count": 85,
   "id": "7bf9b4f6-f11e-4988-9a72-50c51ba8fde8",
   "metadata": {},
   "outputs": [
    {
     "data": {
      "text/plain": [
       "False"
      ]
     },
     "execution_count": 85,
     "metadata": {},
     "output_type": "execute_result"
    }
   ],
   "source": [
    "#isdigit():-to check string contains number or not\n",
    "'BALL Sky'.isdigit()"
   ]
  },
  {
   "cell_type": "code",
   "execution_count": 86,
   "id": "3e4542e1-6338-46ad-b7e7-9603e8b7b225",
   "metadata": {},
   "outputs": [
    {
     "data": {
      "text/plain": [
       "True"
      ]
     },
     "execution_count": 86,
     "metadata": {},
     "output_type": "execute_result"
    }
   ],
   "source": [
    "'54673867'.isdigit()"
   ]
  },
  {
   "cell_type": "code",
   "execution_count": 94,
   "id": "cb7fbf28-9a2b-4cda-bc90-f0819f3e1440",
   "metadata": {},
   "outputs": [
    {
     "data": {
      "text/plain": [
       "True"
      ]
     },
     "execution_count": 94,
     "metadata": {},
     "output_type": "execute_result"
    }
   ],
   "source": [
    "#isalnum():-to check string contains (number and alphabet) or not\n",
    "'BALL3456Sky'.isalnum()"
   ]
  },
  {
   "cell_type": "code",
   "execution_count": 93,
   "id": "0c56f290-8bfa-4bd5-8055-07294d4fabd3",
   "metadata": {},
   "outputs": [
    {
     "data": {
      "text/plain": [
       "False"
      ]
     },
     "execution_count": 93,
     "metadata": {},
     "output_type": "execute_result"
    }
   ],
   "source": [
    "#isidentifier():-to check string contains identifier or not\n",
    "'BALL Sky'.isidentifier()"
   ]
  },
  {
   "cell_type": "code",
   "execution_count": 92,
   "id": "8f699822-e74e-45a4-ad50-57912fe4da14",
   "metadata": {},
   "outputs": [
    {
     "data": {
      "text/plain": [
       "True"
      ]
     },
     "execution_count": 92,
     "metadata": {},
     "output_type": "execute_result"
    }
   ],
   "source": [
    "'Var_123'.isidentifier()"
   ]
  },
  {
   "cell_type": "markdown",
   "id": "e73e118b-7cea-4792-be8b-4775bf895df1",
   "metadata": {
    "jp-MarkdownHeadingCollapsed": true
   },
   "source": [
    "## list"
   ]
  },
  {
   "cell_type": "code",
   "execution_count": 103,
   "id": "b3f57889-49dc-4310-b30a-731c5868c783",
   "metadata": {},
   "outputs": [
    {
     "data": {
      "text/plain": [
       "list"
      ]
     },
     "execution_count": 103,
     "metadata": {},
     "output_type": "execute_result"
    }
   ],
   "source": [
    "x = [34,44.44,'str',90+88j]\n",
    "type(x)"
   ]
  },
  {
   "cell_type": "code",
   "execution_count": 104,
   "id": "7b302bec-7986-485a-a0f9-6760b1fe7749",
   "metadata": {},
   "outputs": [
    {
     "data": {
      "text/plain": [
       "'str'"
      ]
     },
     "execution_count": 104,
     "metadata": {},
     "output_type": "execute_result"
    }
   ],
   "source": [
    "#indexing :- \n",
    "x = [34,44.44,'str',90+88j]\n",
    "x[-2]"
   ]
  },
  {
   "cell_type": "code",
   "execution_count": 105,
   "id": "e5466080-1b54-4c09-90d9-a09061813e0a",
   "metadata": {},
   "outputs": [
    {
     "data": {
      "text/plain": [
       "[(90+88j), 'suman', 'str', 44.44, 34]"
      ]
     },
     "execution_count": 105,
     "metadata": {},
     "output_type": "execute_result"
    }
   ],
   "source": [
    "#slicing:\n",
    "#varname[start_index:end_index+1:step]\n",
    "x = [34,44.44,'str',\"suman\",90+88j]\n",
    "x[::-1]\n"
   ]
  },
  {
   "cell_type": "code",
   "execution_count": 106,
   "id": "07eac2ff-9f14-439b-b622-bd609f87ffc9",
   "metadata": {},
   "outputs": [
    {
     "data": {
      "text/plain": [
       "[34, 44.44, 'str', 'suman', (90+88j)]"
      ]
     },
     "execution_count": 106,
     "metadata": {},
     "output_type": "execute_result"
    }
   ],
   "source": [
    "x = [34,44.44,'str',\"suman\",90+88j]\n",
    "x[::]"
   ]
  },
  {
   "cell_type": "markdown",
   "id": "43f732ff-2fc6-40b9-ac7b-86c90a759bdc",
   "metadata": {},
   "source": [
    "### list attributes:-"
   ]
  },
  {
   "cell_type": "code",
   "execution_count": 113,
   "id": "41f86e45-7f43-4dc2-8d8b-3e86a3d1f21e",
   "metadata": {},
   "outputs": [
    {
     "name": "stdout",
     "output_type": "stream",
     "text": [
      "[34, 44.44, 'str', 'suman', (90+88j), 'surya', 433]\n"
     ]
    }
   ],
   "source": [
    "#append(new_element):- add elements in list in last position of list\n",
    "x = [34,44.44,'str',\"suman\",90+88j]\n",
    "x.append('surya')\n",
    "x.append(433)\n",
    "print(x)"
   ]
  },
  {
   "cell_type": "code",
   "execution_count": 121,
   "id": "98a497dd-427a-4924-8004-fa22e9749a43",
   "metadata": {},
   "outputs": [
    {
     "name": "stdout",
     "output_type": "stream",
     "text": [
      "[34, 'surya', 44.44, 433, 'str', 'suman', (90+88j)]\n"
     ]
    }
   ],
   "source": [
    "#insert(index_positon,new_element):- add elements in list which position you want\n",
    "x = [34,44.44,'str',\"suman\",90+88j]\n",
    "x.insert(1,'surya')\n",
    "x.insert(3,433)\n",
    "print(x)"
   ]
  },
  {
   "cell_type": "code",
   "execution_count": 122,
   "id": "24bacc7a-a33f-460e-944f-1a8202ef391a",
   "metadata": {},
   "outputs": [
    {
     "name": "stdout",
     "output_type": "stream",
     "text": [
      "[34, 44.44, 'str', 'suman', (90+88j), '1', '33', 'surya']\n"
     ]
    }
   ],
   "source": [
    "#extend(index_positon,new_element):- add elements in list in last \n",
    "x = [34,44.44,'str',\"suman\",90+88j]\n",
    "x.extend(['1','33','surya'])\n",
    "print(x)"
   ]
  },
  {
   "cell_type": "code",
   "execution_count": 127,
   "id": "acbfa066-e48b-483f-b0ce-d69ee303c50e",
   "metadata": {},
   "outputs": [
    {
     "name": "stdout",
     "output_type": "stream",
     "text": [
      "[44.44, 'str', 'suman', (90+88j), 34]\n"
     ]
    }
   ],
   "source": [
    "# deleting of items:\n",
    "#remove(element): remove element from list only particular elements\n",
    "x = [34,44.44,'str',\"suman\",90+88j,34]\n",
    "x.remove(34)\n",
    "print(x)"
   ]
  },
  {
   "cell_type": "code",
   "execution_count": 128,
   "id": "9b4126fd-bac6-4285-8cbc-71922bab2f05",
   "metadata": {},
   "outputs": [
    {
     "name": "stdout",
     "output_type": "stream",
     "text": [
      "[34, 44.44, 'str', (90+88j), 34]\n"
     ]
    }
   ],
   "source": [
    "#pop(index_postion): remove element from list\n",
    "x = [34,44.44,'str',\"suman\",90+88j,34]\n",
    "x.pop(-3)\n",
    "print(x)"
   ]
  },
  {
   "cell_type": "code",
   "execution_count": 129,
   "id": "734e84b6-534f-4f15-ad49-fe77af6c71d9",
   "metadata": {},
   "outputs": [
    {
     "name": "stdout",
     "output_type": "stream",
     "text": [
      "[]\n"
     ]
    }
   ],
   "source": [
    "#clear(): remove element all from a list\n",
    "x = [34,44.44,'str',\"suman\",90+88j,34]\n",
    "x.clear()\n",
    "print(x)"
   ]
  },
  {
   "cell_type": "code",
   "execution_count": 132,
   "id": "433ac059-0407-4672-a6d5-9195f089d824",
   "metadata": {},
   "outputs": [
    {
     "data": {
      "text/plain": [
       "2"
      ]
     },
     "execution_count": 132,
     "metadata": {},
     "output_type": "execute_result"
    }
   ],
   "source": [
    "#count(elementname):frequence of element\n",
    "#count(element): remove element from list\n",
    "x = [34,44.44,'str',\"suman\",90+88j,34]\n",
    "x.count(34)\n",
    "# print(x)"
   ]
  },
  {
   "cell_type": "code",
   "execution_count": 139,
   "id": "5ff0bdaf-8330-4bdf-82b8-576ab696579e",
   "metadata": {},
   "outputs": [
    {
     "name": "stdout",
     "output_type": "stream",
     "text": [
      "[34, (90+88j), 'suman', 'str', 44.44, 34]\n"
     ]
    }
   ],
   "source": [
    "# reverse():\n",
    "x = [34,44.44,'str',\"suman\",90+88j,34]\n",
    "x.reverse()\n",
    "print(x)"
   ]
  },
  {
   "cell_type": "code",
   "execution_count": 143,
   "id": "14c5c660-facc-44bc-bbb5-ed7ac4b71ce7",
   "metadata": {},
   "outputs": [
    {
     "name": "stdout",
     "output_type": "stream",
     "text": [
      "[34, 34, 44, 44.44, 45, 87, 90]\n"
     ]
    }
   ],
   "source": [
    "# sort(): arrange in ascending order\n",
    "x = [34,44.44,45,44,87,90,34]\n",
    "x.sort()\n",
    "print(x)"
   ]
  },
  {
   "cell_type": "code",
   "execution_count": 147,
   "id": "15865df8-823d-404b-a4aa-aacbde64a066",
   "metadata": {},
   "outputs": [
    {
     "name": "stdout",
     "output_type": "stream",
     "text": [
      "[90, 87, 45, 44.44, 44, 34, 34]\n"
     ]
    }
   ],
   "source": [
    "# sort(): arrange in descending order\n",
    "x = [34,44.44,45,44,87,90,34]\n",
    "x.sort(reverse=True)\n",
    "print(x)"
   ]
  },
  {
   "cell_type": "code",
   "execution_count": 150,
   "id": "576f65c1-72b8-494d-934c-b4771eebdff8",
   "metadata": {},
   "outputs": [
    {
     "name": "stdout",
     "output_type": "stream",
     "text": [
      "[454, 90, 87, 45, 44.44, 34, 34]\n"
     ]
    }
   ],
   "source": [
    "x = [34,44.44,45,454,87,90,34]\n",
    "x.sort(reverse=99)  #99 is non-zero so it a true\n",
    "print(x)"
   ]
  },
  {
   "cell_type": "code",
   "execution_count": 152,
   "id": "52af9bf6-ec58-4318-b5da-8bc6f71fe9c9",
   "metadata": {},
   "outputs": [
    {
     "name": "stdout",
     "output_type": "stream",
     "text": [
      "[34, 34, 44.44, 45, 87, 90, 454]\n"
     ]
    }
   ],
   "source": [
    "x = [34,44.44,45,454,87,90,34]\n",
    "x.sort(reverse=0) # zero indicate false\n",
    "print(x)"
   ]
  },
  {
   "cell_type": "markdown",
   "id": "3ca27a25-d66d-4a59-b474-be5514f2bc8a",
   "metadata": {
    "jp-MarkdownHeadingCollapsed": true
   },
   "source": [
    "## tuple:- It is an immutable order sequence of items in a ().\n",
    "#### 1. items are indexing.\n",
    "#### 2. items can't be changed."
   ]
  },
  {
   "cell_type": "code",
   "execution_count": 153,
   "id": "d7201824-df87-4a44-98c9-602507dd0a65",
   "metadata": {},
   "outputs": [
    {
     "data": {
      "text/plain": [
       "tuple"
      ]
     },
     "execution_count": 153,
     "metadata": {},
     "output_type": "execute_result"
    }
   ],
   "source": [
    "tup = (2,2,3,3)\n",
    "type(tup)"
   ]
  },
  {
   "cell_type": "code",
   "execution_count": 154,
   "id": "a74ebc94-df49-441d-b5ba-65b65f0311f7",
   "metadata": {},
   "outputs": [
    {
     "data": {
      "text/plain": [
       "4"
      ]
     },
     "execution_count": 154,
     "metadata": {},
     "output_type": "execute_result"
    }
   ],
   "source": [
    "#indexing()\n",
    "tup = (2,23,4,44,'suman')\n",
    "tup[-3]"
   ]
  },
  {
   "cell_type": "code",
   "execution_count": 155,
   "id": "d71514c2-74f0-4706-9513-e95426b172dc",
   "metadata": {},
   "outputs": [
    {
     "data": {
      "text/plain": [
       "('suman', 44, 4, 23, 2)"
      ]
     },
     "execution_count": 155,
     "metadata": {},
     "output_type": "execute_result"
    }
   ],
   "source": [
    "#slicing()\n",
    "tup = (2,23,4,44,'suman')\n",
    "tup[::-1]"
   ]
  },
  {
   "cell_type": "code",
   "execution_count": 156,
   "id": "c978fe2a-0854-476b-884a-dbd3c7633669",
   "metadata": {},
   "outputs": [
    {
     "data": {
      "text/plain": [
       "(2, 'ghosh', 4, 'suman')"
      ]
     },
     "execution_count": 156,
     "metadata": {},
     "output_type": "execute_result"
    }
   ],
   "source": [
    "#slicing()\n",
    "tup = (2,23,'ghosh',66,4,44,'suman')\n",
    "tup[::2]"
   ]
  },
  {
   "cell_type": "code",
   "execution_count": 157,
   "id": "87b05003-0400-4278-81bc-353a71fd1c21",
   "metadata": {},
   "outputs": [
    {
     "data": {
      "text/plain": [
       "1"
      ]
     },
     "execution_count": 157,
     "metadata": {},
     "output_type": "execute_result"
    }
   ],
   "source": [
    "# count():frequence of elements \n",
    "tup = (2,23,'ghosh',66,4,44,'suman')\n",
    "tup.count(2)"
   ]
  },
  {
   "cell_type": "code",
   "execution_count": 158,
   "id": "f24d4856-74ed-43a7-88f6-a4fc0a1ab84b",
   "metadata": {},
   "outputs": [
    {
     "data": {
      "text/plain": [
       "1"
      ]
     },
     "execution_count": 158,
     "metadata": {},
     "output_type": "execute_result"
    }
   ],
   "source": [
    "#index()\n",
    "tup = (2,23,'ghosh',66,4,44,'suman')\n",
    "tup.index(23)"
   ]
  },
  {
   "cell_type": "code",
   "execution_count": 160,
   "id": "b8384cd3-b990-4060-9b1d-9c0a0c4d19bd",
   "metadata": {},
   "outputs": [
    {
     "ename": "AttributeError",
     "evalue": "'tuple' object has no attribute 'reverse'",
     "output_type": "error",
     "traceback": [
      "\u001b[1;31m---------------------------------------------------------------------------\u001b[0m",
      "\u001b[1;31mAttributeError\u001b[0m                            Traceback (most recent call last)",
      "Cell \u001b[1;32mIn[160], line 3\u001b[0m\n\u001b[0;32m      1\u001b[0m \u001b[38;5;66;03m#can't use this \u001b[39;00m\n\u001b[0;32m      2\u001b[0m tup \u001b[38;5;241m=\u001b[39m (\u001b[38;5;241m2\u001b[39m,\u001b[38;5;241m23\u001b[39m,\u001b[38;5;124m'\u001b[39m\u001b[38;5;124mghosh\u001b[39m\u001b[38;5;124m'\u001b[39m,\u001b[38;5;241m66\u001b[39m,\u001b[38;5;241m4\u001b[39m,\u001b[38;5;241m44\u001b[39m,\u001b[38;5;124m'\u001b[39m\u001b[38;5;124msuman\u001b[39m\u001b[38;5;124m'\u001b[39m)\n\u001b[1;32m----> 3\u001b[0m tup\u001b[38;5;241m.\u001b[39mreverse()\n",
      "\u001b[1;31mAttributeError\u001b[0m: 'tuple' object has no attribute 'reverse'"
     ]
    }
   ],
   "source": [
    "#can't use this \n",
    "tup = (2,23,'ghosh',66,4,44,'suman')\n",
    "tup.reverse()"
   ]
  },
  {
   "cell_type": "markdown",
   "id": "020330fd-bd40-4c05-bd3c-8474aa2129f8",
   "metadata": {},
   "source": [
    "## set :- mutable"
   ]
  },
  {
   "cell_type": "code",
   "execution_count": 163,
   "id": "283a5a30-ae50-419e-9e07-4de56e42bb37",
   "metadata": {},
   "outputs": [
    {
     "data": {
      "text/plain": [
       "set"
      ]
     },
     "execution_count": 163,
     "metadata": {},
     "output_type": "execute_result"
    }
   ],
   "source": [
    "set = {2,23,'ghosh',66,4,44,'suman'}\n",
    "type(set)"
   ]
  },
  {
   "cell_type": "code",
   "execution_count": 165,
   "id": "bad26620-07d5-409e-89a9-5d730e007a2d",
   "metadata": {},
   "outputs": [
    {
     "name": "stdout",
     "output_type": "stream",
     "text": [
      "{2, 66, 4, 'suman', 23, 'ghosh', 44}\n"
     ]
    }
   ],
   "source": [
    "#set are unordered.\n",
    "set = {2,23,'ghosh',66,4,44,'suman'}\n",
    "print(set)"
   ]
  },
  {
   "cell_type": "markdown",
   "id": "9e53d574-b3c0-44ae-97cf-ad780b65edcc",
   "metadata": {},
   "source": [
    "### as set is an unordered seqenece we cannot perform slicing and indexing in it."
   ]
  },
  {
   "cell_type": "code",
   "execution_count": 167,
   "id": "65691460-4731-4a45-9a3d-98271f2536cf",
   "metadata": {},
   "outputs": [
    {
     "name": "stdout",
     "output_type": "stream",
     "text": [
      "{2, 66, 4, 'suman', 23, 'ghosh', 44}\n"
     ]
    }
   ],
   "source": [
    "#set can't be duplicate\n",
    "set = {2,2,23,'ghosh',66,4,44,'suman'}\n",
    "print(set)"
   ]
  },
  {
   "cell_type": "code",
   "execution_count": 168,
   "id": "994d9ecc-b286-45ab-8d36-ba3c9bb47f37",
   "metadata": {},
   "outputs": [
    {
     "name": "stdout",
     "output_type": "stream",
     "text": [
      "{1, 2, 3, 4, 5, 7, 8}\n"
     ]
    }
   ],
   "source": [
    "s1 = {1,2,3,4,5}\n",
    "s2 = {3,7,8}\n",
    "print(s1.union(s2));"
   ]
  },
  {
   "cell_type": "code",
   "execution_count": 169,
   "id": "7ce767da-9bd3-4f55-b321-93c94f355a51",
   "metadata": {},
   "outputs": [
    {
     "name": "stdout",
     "output_type": "stream",
     "text": [
      "{3}\n"
     ]
    }
   ],
   "source": [
    "s1 = {1,2,3,4,5}\n",
    "s2 = {3,7,8}\n",
    "print(s1.intersection(s2));"
   ]
  },
  {
   "cell_type": "code",
   "execution_count": 172,
   "id": "7a49d60f-7fc1-43b4-affb-5295c34d86b3",
   "metadata": {},
   "outputs": [
    {
     "name": "stdout",
     "output_type": "stream",
     "text": [
      "{1, 2, 4, 5}\n"
     ]
    }
   ],
   "source": [
    "s1 = {1,2,3,4,5}\n",
    "s2 = {3,7,8}\n",
    "print(s1.difference(s2));"
   ]
  },
  {
   "cell_type": "code",
   "execution_count": 173,
   "id": "e9ace4d3-2d5c-4d54-867d-3dff1b703bae",
   "metadata": {},
   "outputs": [
    {
     "name": "stdout",
     "output_type": "stream",
     "text": [
      "{8, 7}\n"
     ]
    }
   ],
   "source": [
    "s1 = {1,2,3,4,5}\n",
    "s2 = {3,7,8}\n",
    "print(s2.difference(s1));"
   ]
  },
  {
   "cell_type": "code",
   "execution_count": 175,
   "id": "77582c9f-cc7c-4353-b5ed-572ba420b021",
   "metadata": {},
   "outputs": [
    {
     "data": {
      "text/plain": [
       "False"
      ]
     },
     "execution_count": 175,
     "metadata": {},
     "output_type": "execute_result"
    }
   ],
   "source": [
    "#isdisjoint():\n",
    "s1 = {1,2,3,4,5}\n",
    "s2 = {3,7,8}\n",
    "s1.isdisjoint(s2)"
   ]
  },
  {
   "cell_type": "code",
   "execution_count": 176,
   "id": "d522d170-3039-45ae-b229-686a6fc19f87",
   "metadata": {},
   "outputs": [
    {
     "data": {
      "text/plain": [
       "True"
      ]
     },
     "execution_count": 176,
     "metadata": {},
     "output_type": "execute_result"
    }
   ],
   "source": [
    "#isdisjoint():\n",
    "s1 = {1,2,4,5}\n",
    "s2 = {3,7,8}\n",
    "s1.isdisjoint(s2)"
   ]
  },
  {
   "cell_type": "code",
   "execution_count": 178,
   "id": "837c113e-447d-476f-8dbf-b0a5500dc224",
   "metadata": {},
   "outputs": [
    {
     "data": {
      "text/plain": [
       "False"
      ]
     },
     "execution_count": 178,
     "metadata": {},
     "output_type": "execute_result"
    }
   ],
   "source": [
    "# issubset():\n",
    "s1 = {1,2,3,4,5}\n",
    "s2 = {3,4,5}\n",
    "s1.issubset(s2)"
   ]
  },
  {
   "cell_type": "code",
   "execution_count": 179,
   "id": "240f87c3-a988-476c-a87d-b4d3fc89b71b",
   "metadata": {},
   "outputs": [
    {
     "data": {
      "text/plain": [
       "True"
      ]
     },
     "execution_count": 179,
     "metadata": {},
     "output_type": "execute_result"
    }
   ],
   "source": [
    "# issubset():\n",
    "s1 = {1,2,3,4,5}\n",
    "s2 = {3,4,5}\n",
    "s2.issubset(s1)"
   ]
  },
  {
   "cell_type": "code",
   "execution_count": 180,
   "id": "fbc61365-eac9-46b3-9f47-c7406cea246e",
   "metadata": {},
   "outputs": [
    {
     "data": {
      "text/plain": [
       "False"
      ]
     },
     "execution_count": 180,
     "metadata": {},
     "output_type": "execute_result"
    }
   ],
   "source": [
    " # issuperset():\n",
    "s1 = {1,2,3,4,5}\n",
    "s2 = {3,4,5}\n",
    "s2.issuperset(s1)"
   ]
  },
  {
   "cell_type": "code",
   "execution_count": 181,
   "id": "0ef21f88-3904-41c4-9698-80ee3725040e",
   "metadata": {},
   "outputs": [
    {
     "data": {
      "text/plain": [
       "True"
      ]
     },
     "execution_count": 181,
     "metadata": {},
     "output_type": "execute_result"
    }
   ],
   "source": [
    " # issuperset():\n",
    "s1 = {1,2,3,4,5}\n",
    "s2 = {3,4,5}\n",
    "s1.issuperset(s2)"
   ]
  },
  {
   "cell_type": "code",
   "execution_count": 185,
   "id": "eeddb175-b0ba-4113-9389-414a0bd1e459",
   "metadata": {},
   "outputs": [
    {
     "data": {
      "text/plain": [
       "{1, 34, 77, 'suman', 'tiger'}"
      ]
     },
     "execution_count": 185,
     "metadata": {},
     "output_type": "execute_result"
    }
   ],
   "source": [
    "#add(element)\n",
    "s1 = {1,34,77,'suman'}\n",
    "s1.add('tiger')\n",
    "s1"
   ]
  },
  {
   "cell_type": "code",
   "execution_count": 189,
   "id": "edfd4974-2405-4c4a-bce0-5353fd57227d",
   "metadata": {},
   "outputs": [
    {
     "data": {
      "text/plain": [
       "{1, 77, 'suman'}"
      ]
     },
     "execution_count": 189,
     "metadata": {},
     "output_type": "execute_result"
    }
   ],
   "source": [
    "#remove(element)\n",
    "s1 = {1,34,77,'suman'}\n",
    "s1.remove(34)\n",
    "s1"
   ]
  },
  {
   "cell_type": "code",
   "execution_count": 191,
   "id": "fe7c549c-1ed9-4f80-b1c6-783dbc39455f",
   "metadata": {},
   "outputs": [
    {
     "data": {
      "text/plain": [
       "{34, 77, 'suman'}"
      ]
     },
     "execution_count": 191,
     "metadata": {},
     "output_type": "execute_result"
    }
   ],
   "source": [
    "#pop(element)\n",
    "s1 = {1,34,77,'suman'}\n",
    "s1.pop()\n",
    "s1"
   ]
  },
  {
   "cell_type": "code",
   "execution_count": 192,
   "id": "9fb7a507-e9d9-4939-8f99-3036e685e239",
   "metadata": {},
   "outputs": [
    {
     "data": {
      "text/plain": [
       "{34, 77, 'suman'}"
      ]
     },
     "execution_count": 192,
     "metadata": {},
     "output_type": "execute_result"
    }
   ],
   "source": [
    "#pop()\n",
    "s1 = {1,34,77,'suman'}\n",
    "s1.pop()\n",
    "s1"
   ]
  },
  {
   "cell_type": "code",
   "execution_count": 193,
   "id": "985e15d8-e45d-4bee-89f5-28ae61b740cd",
   "metadata": {},
   "outputs": [
    {
     "data": {
      "text/plain": [
       "set()"
      ]
     },
     "execution_count": 193,
     "metadata": {},
     "output_type": "execute_result"
    }
   ],
   "source": [
    "#clear()\n",
    "s1 = {1,34,77,'suman'}\n",
    "s1.clear()\n",
    "s1"
   ]
  },
  {
   "cell_type": "code",
   "execution_count": null,
   "id": "d4fb1618-9ea1-4eec-b4fd-9407fc821368",
   "metadata": {},
   "outputs": [],
   "source": []
  }
 ],
 "metadata": {
  "kernelspec": {
   "display_name": "Python 3 (ipykernel)",
   "language": "python",
   "name": "python3"
  },
  "language_info": {
   "codemirror_mode": {
    "name": "ipython",
    "version": 3
   },
   "file_extension": ".py",
   "mimetype": "text/x-python",
   "name": "python",
   "nbconvert_exporter": "python",
   "pygments_lexer": "ipython3",
   "version": "3.12.7"
  }
 },
 "nbformat": 4,
 "nbformat_minor": 5
}
