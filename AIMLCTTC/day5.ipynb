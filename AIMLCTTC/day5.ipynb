{
 "cells": [
  {
   "cell_type": "markdown",
   "id": "7d4dfced-b8b0-4002-8cb4-41cf7a2eb87b",
   "metadata": {
    "jp-MarkdownHeadingCollapsed": true
   },
   "source": [
    "### Loop:\n",
    "#### something that repeats continuously.\n",
    "#### While loop \n",
    "#### for loop\n",
    "## python while loop is used to run a block code until a certain condition is met.\n",
    "#### the syntax of while loop is :\n",
    "   #### initialization \n",
    "   #### condition \n",
    "   #### #body of while\n",
    "   #### increment/decrement"
   ]
  },
  {
   "cell_type": "code",
   "execution_count": 3,
   "id": "99d5c290-ab26-4332-a3b1-dae0fa461861",
   "metadata": {},
   "outputs": [
    {
     "name": "stdout",
     "output_type": "stream",
     "text": [
      "1\n",
      "2\n",
      "3\n",
      "4\n",
      "5\n",
      "6\n",
      "7\n",
      "8\n",
      "9\n",
      "10\n"
     ]
    }
   ],
   "source": [
    "# Q1. Print 1 to 10 number.\n",
    "x = 1\n",
    "while x <= 10:\n",
    "    print(x)\n",
    "    x +=1"
   ]
  },
  {
   "cell_type": "code",
   "execution_count": 4,
   "id": "cd654df7-4d64-4499-bbe2-33a7cd9054d8",
   "metadata": {},
   "outputs": [
    {
     "name": "stdout",
     "output_type": "stream",
     "text": [
      "1,2,3,4,5,6,7,8,9,10,"
     ]
    }
   ],
   "source": [
    "x = 1\n",
    "while x <= 10:\n",
    "    print(x, end = \",\")\n",
    "    x +=1"
   ]
  },
  {
   "cell_type": "code",
   "execution_count": 7,
   "id": "c2c1714c-cc3b-44a4-ae65-07db42e8bb8f",
   "metadata": {},
   "outputs": [
    {
     "name": "stdout",
     "output_type": "stream",
     "text": [
      "50  49  48  47  46  45  44  43  42  41  40  39  38  37  36  35  34  33  32  31  30  29  28  27  26  25  24  23  22  21  20  19  18  17  16  15  14  13  12  11  10  9  8  7  6  5  4  3  2  1  "
     ]
    }
   ],
   "source": [
    "# print all the number from 50 to 1.\n",
    "x = 50\n",
    "while x >= 1:\n",
    "    print(x, end = \"  \")\n",
    "    x -=1"
   ]
  },
  {
   "cell_type": "code",
   "execution_count": 13,
   "id": "e01039b6-fcee-4b12-bcb7-de9caa55c1d9",
   "metadata": {},
   "outputs": [
    {
     "name": "stdout",
     "output_type": "stream",
     "text": [
      "2  4  6  8  10  12  14  16  18  20  22  24  26  28  30  32  34  36  38  40  42  44  46  48  50  52  54  56  58  60  62  64  66  68  70  72  74  76  78  80  82  84  86  88  90  92  94  96  98  100  102  104  106  108  110  112  114  116  118  120  122  124  126  128  130  132  134  136  138  140  142  144  146  148  150  152  154  156  158  160  162  164  166  168  170  172  174  176  178  180  182  184  186  188  190  192  194  196  198  200  "
     ]
    }
   ],
   "source": [
    "# wapp find even number in 1 to 200\n",
    "x = 1\n",
    "while x<=200 :\n",
    "    print(x+1, end = \"  \")\n",
    "    x +=2\n",
    "    "
   ]
  },
  {
   "cell_type": "code",
   "execution_count": 1,
   "id": "01597fa8-f8e1-44be-8a87-3d4c470c288f",
   "metadata": {},
   "outputs": [
    {
     "name": "stdout",
     "output_type": "stream",
     "text": [
      "2  4  6  8  10  12  14  16  18  20  22  24  26  28  30  32  34  36  38  40  42  44  46  48  50  52  54  56  58  60  62  64  66  68  70  72  74  76  78  80  82  84  86  88  90  92  94  96  98  100  102  104  106  108  110  112  114  116  118  120  122  124  126  128  130  132  134  136  138  140  142  144  146  148  150  152  154  156  158  160  162  164  166  168  170  172  174  176  178  180  182  184  186  188  190  192  194  196  198  200  "
     ]
    }
   ],
   "source": [
    "# m-2\n",
    "a = 1\n",
    "while a <=200:\n",
    "    if a%2==0:\n",
    "        print(a, end = \"  \")\n",
    "    a +=1"
   ]
  },
  {
   "cell_type": "code",
   "execution_count": 11,
   "id": "a780aff0-ebba-4942-8f77-4e89031ec20c",
   "metadata": {},
   "outputs": [
    {
     "name": "stdin",
     "output_type": "stream",
     "text": [
      "Enter rock, paper, or scissor:  vnj fn\n"
     ]
    },
    {
     "name": "stdout",
     "output_type": "stream",
     "text": [
      "Wrong answer! Please enter 'rock', 'paper', or 'scissor'\n"
     ]
    },
    {
     "name": "stdin",
     "output_type": "stream",
     "text": [
      "Enter rock, paper, or scissor:  ehb\n"
     ]
    },
    {
     "name": "stdout",
     "output_type": "stream",
     "text": [
      "Wrong answer! Please enter 'rock', 'paper', or 'scissor'\n"
     ]
    },
    {
     "name": "stdin",
     "output_type": "stream",
     "text": [
      "Enter rock, paper, or scissor:  b hv g\n"
     ]
    },
    {
     "name": "stdout",
     "output_type": "stream",
     "text": [
      "Wrong answer! Please enter 'rock', 'paper', or 'scissor'\n"
     ]
    },
    {
     "name": "stdin",
     "output_type": "stream",
     "text": [
      "Enter rock, paper, or scissor:  ygvh\n"
     ]
    },
    {
     "name": "stdout",
     "output_type": "stream",
     "text": [
      "Wrong answer! Please enter 'rock', 'paper', or 'scissor'\n"
     ]
    },
    {
     "name": "stdin",
     "output_type": "stream",
     "text": [
      "Enter rock, paper, or scissor:  rock\n"
     ]
    },
    {
     "name": "stdout",
     "output_type": "stream",
     "text": [
      "rock\n"
     ]
    }
   ],
   "source": [
    "# wapp to print the value if an user enters 'rock' 'paper' or 'scissor' , otherwise if an user enter any value other than 'rock' 'paper' or 'scissor' it should ask for input agains.\n",
    "# x = input(\"enter\")\n",
    "# while (x==true):\n",
    "#     if x ='rock':\n",
    "#     print(\"rock\")\n",
    "#     elif x= 'paper':\n",
    "#     print(\"paper\")\n",
    "#     else x ='scissor':\n",
    "#     print(\"scissor\")\n",
    "# else :\n",
    "#     print(\"wrong ans\")\n",
    "\n",
    "x = input(\"Enter rock, paper, or scissor: \")\n",
    "\n",
    "while x not in ['rock', 'paper', 'scissor']:\n",
    "    print(\"Wrong answer! Please enter 'rock', 'paper', or 'scissor'\")\n",
    "    x = input(\"Enter rock, paper, or scissor: \")\n",
    "\n",
    "if x == 'rock':\n",
    "    print(\"rock\")\n",
    "elif x == 'paper':\n",
    "    print(\"paper\")\n",
    "else:  # x == 'scissor'\n",
    "    print(\"scissor\")\n"
   ]
  },
  {
   "cell_type": "code",
   "execution_count": 10,
   "id": "92c4d5fa-98bc-4176-84e4-a2092b4e23ca",
   "metadata": {},
   "outputs": [
    {
     "name": "stdin",
     "output_type": "stream",
     "text": [
      "Enter the value: fvrgjb\n",
      "Enter the value: efvhbj\n",
      "Enter the value: DHGCDE\n",
      "Enter the value: V\n",
      "Enter the value: ROCK\n"
     ]
    },
    {
     "name": "stdout",
     "output_type": "stream",
     "text": [
      "your value is: ROCK\n"
     ]
    }
   ],
   "source": [
    "val = 'none'\n",
    "while val.lower() not in ['rock' ,'paper', 'scissor']:\n",
    "    val = input(\"Enter the value:\")\n",
    "print(\"your value is:\",val)"
   ]
  },
  {
   "cell_type": "markdown",
   "id": "b0123cc4-e4b6-4e1c-a9be-1dd643bef19f",
   "metadata": {
    "jp-MarkdownHeadingCollapsed": true
   },
   "source": [
    "## for loop \n",
    "#### syntax: for i in collection:\n",
    "  #### #body of for"
   ]
  },
  {
   "cell_type": "code",
   "execution_count": 14,
   "id": "2c97da65-63d1-4d97-9842-7a014db48cb6",
   "metadata": {},
   "outputs": [
    {
     "name": "stdout",
     "output_type": "stream",
     "text": [
      "12 13 44 55 77 99 0 88 44 64 86 "
     ]
    }
   ],
   "source": [
    "# for\n",
    "num = [12,13,44,55,77,99,00,88,44,64,86]\n",
    "for i in num:\n",
    "    print(i,end=\" \")"
   ]
  },
  {
   "cell_type": "code",
   "execution_count": 17,
   "id": "7387451d-ed72-4401-b3ee-e8dc1cf18944",
   "metadata": {},
   "outputs": [
    {
     "name": "stdout",
     "output_type": "stream",
     "text": [
      "12 44 0 88 44 64 86 "
     ]
    }
   ],
   "source": [
    "# only print divisible by 2\n",
    "num = [12,13,44,55,77,99,00,88,44,64,86]\n",
    "for i in num:\n",
    "    if i%2==0:\n",
    "        print(i,end=\" \")\n",
    "    "
   ]
  },
  {
   "cell_type": "code",
   "execution_count": 20,
   "id": "93a5b7e7-608b-41e7-935a-e1b67a9c2359",
   "metadata": {},
   "outputs": [
    {
     "name": "stdout",
     "output_type": "stream",
     "text": [
      "S  u  m  a  n  K  u  m  a  r  G  h  o  s  h  "
     ]
    }
   ],
   "source": [
    "for char in 'SumanKumarGhosh':\n",
    "    print(char,end=\"  \")\n"
   ]
  },
  {
   "cell_type": "code",
   "execution_count": 26,
   "id": "69909298-8201-4c50-b6cd-e5c26fc83af9",
   "metadata": {},
   "outputs": [
    {
     "name": "stdout",
     "output_type": "stream",
     "text": [
      "2 3 4 5 6 7 "
     ]
    }
   ],
   "source": [
    "# range():- It is a build in function generates a sequence of integers between any given interval.\n",
    "# range(start,end+1,step)\n",
    "for x in range(2, 8):\n",
    "  print(x,end=\" \")"
   ]
  },
  {
   "cell_type": "code",
   "execution_count": 28,
   "id": "ed170404-9b3a-4c82-9d0d-f905aa0e8ffc",
   "metadata": {},
   "outputs": [
    {
     "name": "stdout",
     "output_type": "stream",
     "text": [
      "2 6 10 14 18 22 26 30 34 38 42 46 50 54 58 62 66 70 74 78 82 86 90 94 98 102 106 110 114 118 122 126 130 134 138 142 146 150 154 158 162 166 170 174 178 182 186 190 194 198 202 206 210 214 218 "
     ]
    }
   ],
   "source": [
    "for x in range(2, 222,4):\n",
    "  print(x,end=\" \")"
   ]
  },
  {
   "cell_type": "code",
   "execution_count": 33,
   "id": "e565100f-30ee-4c20-8807-55734ba6a043",
   "metadata": {},
   "outputs": [
    {
     "name": "stdout",
     "output_type": "stream",
     "text": [
      "500 499 498 497 496 495 494 493 492 491 490 489 488 487 486 485 484 483 482 481 480 479 478 477 476 475 474 473 472 471 470 469 468 467 466 465 464 463 462 461 460 459 458 457 456 455 454 453 452 451 450 449 448 447 446 445 444 443 442 441 440 439 438 437 436 435 434 433 432 431 430 429 428 427 426 425 424 423 422 421 420 419 418 417 416 415 414 413 412 411 410 409 408 407 406 405 404 403 402 401 400 399 398 397 396 395 394 393 392 391 390 389 388 387 386 385 384 383 382 381 380 379 378 377 376 375 374 373 372 371 370 369 368 367 366 365 364 363 362 361 360 359 358 357 356 355 354 353 352 351 350 349 348 347 346 345 344 343 342 341 340 339 338 337 336 335 334 333 332 331 330 329 328 327 326 325 324 323 322 321 320 319 318 317 316 315 314 313 312 311 310 309 308 307 306 305 304 303 302 301 300 299 298 297 296 295 294 293 292 291 290 289 288 287 286 285 284 283 282 281 280 279 278 277 276 275 274 273 272 271 270 269 268 267 266 265 264 263 262 261 260 259 258 257 256 255 254 253 252 251 250 249 248 247 246 245 244 243 242 241 240 239 238 237 236 235 234 233 232 231 230 229 228 227 226 225 224 223 222 221 220 219 218 217 216 215 214 213 212 211 210 209 208 207 206 205 204 203 202 201 200 "
     ]
    }
   ],
   "source": [
    "# print reverse number 500 to 200.\n",
    "for x in range(500,199,-1):\n",
    "  print(x,end=\" \")"
   ]
  },
  {
   "cell_type": "code",
   "execution_count": 34,
   "id": "3ebbc0cf-df62-4cd0-b2fc-6e345ce83af6",
   "metadata": {},
   "outputs": [
    {
     "name": "stdout",
     "output_type": "stream",
     "text": [
      "red apple\n",
      "red banana\n",
      "red cherry\n",
      "big apple\n",
      "big banana\n",
      "big cherry\n",
      "tasty apple\n",
      "tasty banana\n",
      "tasty cherry\n"
     ]
    }
   ],
   "source": [
    "adj = [\"red\", \"big\", \"tasty\"]\n",
    "fruits = [\"apple\", \"banana\", \"cherry\"]\n",
    "\n",
    "for x in adj:\n",
    "  for y in fruits:\n",
    "    print(x, y)"
   ]
  },
  {
   "cell_type": "code",
   "execution_count": 36,
   "id": "4e7e3707-5d92-45e7-9a1a-4a9daface9a8",
   "metadata": {},
   "outputs": [
    {
     "name": "stdin",
     "output_type": "stream",
     "text": [
      "enter a number: 5\n"
     ]
    },
    {
     "name": "stdout",
     "output_type": "stream",
     "text": [
      "5 x 1 = 5\n",
      "5 x 2 = 10\n",
      "5 x 3 = 15\n",
      "5 x 4 = 20\n",
      "5 x 5 = 25\n",
      "5 x 6 = 30\n",
      "5 x 7 = 35\n",
      "5 x 8 = 40\n",
      "5 x 9 = 45\n",
      "5 x 10 = 50\n"
     ]
    }
   ],
   "source": [
    "# Q. Wapp to print the multiplication table of any entered number.\n",
    "x = int(input(\"enter a number:\"))\n",
    "for i in range(1,11):\n",
    "    print(x, \"x\",i ,\"=\",x*i)"
   ]
  },
  {
   "cell_type": "code",
   "execution_count": 39,
   "id": "54ce314a-e343-4db4-a504-8d3d9ce12896",
   "metadata": {},
   "outputs": [
    {
     "name": "stdin",
     "output_type": "stream",
     "text": [
      "Enter a number to print its multiplication table:  5\n"
     ]
    },
    {
     "name": "stdout",
     "output_type": "stream",
     "text": [
      "5 x 1 = 5\n",
      "5 x 2 = 10\n",
      "5 x 3 = 15\n",
      "5 x 4 = 20\n",
      "5 x 5 = 25\n",
      "5 x 6 = 30\n",
      "5 x 7 = 35\n",
      "5 x 8 = 40\n",
      "5 x 9 = 45\n",
      "5 x 10 = 50\n"
     ]
    }
   ],
   "source": [
    "n = int(input(\"Enter a number to print its multiplication table: \"))\n",
    "for i in range(1, 11):\n",
    "    print(f\"{n} x {i} = {n * i}\")"
   ]
  },
  {
   "cell_type": "code",
   "execution_count": 52,
   "id": "e09911db-c8bd-41ff-aa1e-bb03976a59c6",
   "metadata": {},
   "outputs": [
    {
     "name": "stdin",
     "output_type": "stream",
     "text": [
      "Enter a string to check its vowel or not: Suman kumar Ghosh\n"
     ]
    },
    {
     "name": "stdout",
     "output_type": "stream",
     "text": [
      "u a u a o "
     ]
    }
   ],
   "source": [
    "# Q2. Wapp to print only the vowels from any entered string value. \n",
    "x = input(\"Enter a string to check its vowel or not:\")\n",
    "for i in x:\n",
    "    if i.lower() in 'aeiou':\n",
    "        print(i,end=\" \")"
   ]
  },
  {
   "cell_type": "markdown",
   "id": "14663589-28b2-457a-9067-58371837d5f1",
   "metadata": {
    "jp-MarkdownHeadingCollapsed": true
   },
   "source": [
    "## jump Statement:-\n",
    "### jump statements are used to alter the flow of execution in a program. These include break, continue, and pass. Here's a brief explanation of each:"
   ]
  },
  {
   "cell_type": "code",
   "execution_count": 55,
   "id": "54221f83-dc63-466f-ab70-d71454ccdff6",
   "metadata": {},
   "outputs": [
    {
     "name": "stdout",
     "output_type": "stream",
     "text": [
      "0 1 2 "
     ]
    }
   ],
   "source": [
    "# 1. break Statement:-Used to exit a loop prematurely when a specific condition is met. It stops the current loop and moves the control to the next statement after the loop.\n",
    "for i in range(5):\n",
    "    if i == 3:\n",
    "        break\n",
    "    print(i,end=\" \")\n",
    "# Output: 0, 1, 2"
   ]
  },
  {
   "cell_type": "code",
   "execution_count": 57,
   "id": "a080c6b3-1328-45ec-bd2f-496bbca1f1f0",
   "metadata": {},
   "outputs": [
    {
     "name": "stdout",
     "output_type": "stream",
     "text": [
      "p\n"
     ]
    }
   ],
   "source": [
    "for i in 'python':\n",
    "    print(i)\n",
    "    break"
   ]
  },
  {
   "cell_type": "code",
   "execution_count": 64,
   "id": "e130746d-f49c-4721-94cc-f6e5b1f6a8d3",
   "metadata": {},
   "outputs": [
    {
     "name": "stdout",
     "output_type": "stream",
     "text": [
      "p, y, t, h, o, n, "
     ]
    }
   ],
   "source": [
    "# 2. continue Statement :-Skips the current iteration of the loop and moves to the next iteration. The loop does not terminate but skips the remaining code for the current iteration.\n",
    "for i in 'python':\n",
    "    print(i,end=\"  \")\n",
    "    continue\n",
    "# Output: 0, 1, 2, 4"
   ]
  },
  {
   "cell_type": "code",
   "execution_count": null,
   "id": "50f2a9e0-a2fb-45d5-b94a-cb7be0de5aab",
   "metadata": {},
   "outputs": [],
   "source": [
    "# Error\n",
    "for i in 'python':\n",
    "    continue\n",
    "    print(i,end=\"  \")"
   ]
  },
  {
   "cell_type": "code",
   "execution_count": 66,
   "id": "85db9af2-3966-4e77-a125-d84fc351b699",
   "metadata": {},
   "outputs": [
    {
     "name": "stdout",
     "output_type": "stream",
     "text": [
      "p  y  t  h  n  "
     ]
    }
   ],
   "source": [
    "for i in 'python':\n",
    "    if i == 'o':\n",
    "        continue\n",
    "    print(i,end=\"  \")\n",
    "    "
   ]
  },
  {
   "cell_type": "code",
   "execution_count": 71,
   "id": "57efceb8-f01a-4d93-b65f-8f2ea2d4add7",
   "metadata": {},
   "outputs": [
    {
     "name": "stdout",
     "output_type": "stream",
     "text": [
      "0\n",
      "1\n",
      "2\n",
      "3\n",
      "4\n"
     ]
    }
   ],
   "source": [
    "# 3. pass Statement:-A placeholder statement that does nothing. It is used when a statement is syntactically required but no action is needed.\n",
    "for i in range(5):\n",
    "    if i == 3:\n",
    "        pass  # Placeholder for future code\n",
    "    print(i)"
   ]
  },
  {
   "cell_type": "code",
   "execution_count": 68,
   "id": "ea14644a-8b4f-4b51-b362-0c41c7124a8e",
   "metadata": {},
   "outputs": [],
   "source": [
    "#Error\n",
    "for i in 'python':\n",
    "    pass"
   ]
  },
  {
   "cell_type": "code",
   "execution_count": 70,
   "id": "9ed4a65b-2284-44c1-b8d8-39eec7ff2cd7",
   "metadata": {},
   "outputs": [
    {
     "name": "stdout",
     "output_type": "stream",
     "text": [
      "p  y  t  h  o  n  "
     ]
    }
   ],
   "source": [
    "for i in 'python':\n",
    "    pass\n",
    "    print(i,end=\"  \")"
   ]
  },
  {
   "cell_type": "markdown",
   "id": "a5b7ad7f-ac1f-4913-aca3-88928207482b",
   "metadata": {},
   "source": [
    "## function :- 2types\n",
    "### which are decleared by the user according to their called user-defined function.\n",
    "### the function which are already present in python's library are called pre-defined function or build in funtion."
   ]
  },
  {
   "cell_type": "code",
   "execution_count": null,
   "id": "23e969f2-9302-4a8a-b4f9-d7e0f326f49d",
   "metadata": {},
   "outputs": [],
   "source": [
    "#user defined function :- 3 type\n",
    "# 1. function decleration 'def'\n",
    "# 2. function defination 'body'\n",
    "# 3. function call\n"
   ]
  },
  {
   "cell_type": "code",
   "execution_count": 72,
   "id": "78e77aaf-624f-42fd-a8fb-ac2b0b37d537",
   "metadata": {},
   "outputs": [
    {
     "name": "stdout",
     "output_type": "stream",
     "text": [
      "Hello Suman\n"
     ]
    }
   ],
   "source": [
    "# creating a function:\n",
    "def Function1():   # function decleration\n",
    "    print(\"Hello Suman\")   # function defination\n",
    "# function call\n",
    "Function1()"
   ]
  },
  {
   "cell_type": "code",
   "execution_count": 73,
   "id": "0cc5784c-f02d-4c30-8db3-a3194b9dcc50",
   "metadata": {},
   "outputs": [
    {
     "name": "stdout",
     "output_type": "stream",
     "text": [
      "Hello Suman\n"
     ]
    }
   ],
   "source": [
    "Function1()"
   ]
  },
  {
   "cell_type": "code",
   "execution_count": 74,
   "id": "cab3037f-1b5e-4928-b932-557ef744b92b",
   "metadata": {},
   "outputs": [
    {
     "data": {
      "text/plain": [
       "'Suman'"
      ]
     },
     "execution_count": 74,
     "metadata": {},
     "output_type": "execute_result"
    }
   ],
   "source": [
    "# Function with Return:\n",
    "def WithRet():\n",
    "    return \"Suman\"\n",
    "WithRet()"
   ]
  },
  {
   "cell_type": "code",
   "execution_count": 81,
   "id": "378835fe-fac2-494c-a5f5-1256dc536169",
   "metadata": {},
   "outputs": [
    {
     "data": {
      "text/plain": [
       "'Suman how are you'"
      ]
     },
     "execution_count": 81,
     "metadata": {},
     "output_type": "execute_result"
    }
   ],
   "source": [
    "WithRet() + \" how are you\"    # String concadenation"
   ]
  },
  {
   "cell_type": "code",
   "execution_count": 77,
   "id": "2a0f09fc-dd2f-43a6-ac9a-ee775f066591",
   "metadata": {},
   "outputs": [
    {
     "name": "stdout",
     "output_type": "stream",
     "text": [
      "Suman\n"
     ]
    }
   ],
   "source": [
    "# Function without return:\n",
    "def WithoutRet():\n",
    "     print(\"Suman\")\n",
    "WithoutRet()"
   ]
  },
  {
   "cell_type": "code",
   "execution_count": 84,
   "id": "88d2458a-3288-459c-950f-d589c360857f",
   "metadata": {},
   "outputs": [
    {
     "name": "stdout",
     "output_type": "stream",
     "text": [
      "Suman\n"
     ]
    },
    {
     "ename": "TypeError",
     "evalue": "unsupported operand type(s) for +: 'NoneType' and 'str'",
     "output_type": "error",
     "traceback": [
      "\u001b[1;31m---------------------------------------------------------------------------\u001b[0m",
      "\u001b[1;31mTypeError\u001b[0m                                 Traceback (most recent call last)",
      "Cell \u001b[1;32mIn[84], line 1\u001b[0m\n\u001b[1;32m----> 1\u001b[0m WithoutRet() \u001b[38;5;241m+\u001b[39m \u001b[38;5;124m\"\u001b[39m\u001b[38;5;124mhow are you\u001b[39m\u001b[38;5;124m\"\u001b[39m\n",
      "\u001b[1;31mTypeError\u001b[0m: unsupported operand type(s) for +: 'NoneType' and 'str'"
     ]
    }
   ],
   "source": [
    "WithoutRet() + \"how are you\"   # not allow so give error"
   ]
  },
  {
   "cell_type": "code",
   "execution_count": 88,
   "id": "7a3413c9-ccb8-4252-90fc-f8ed1337d0cf",
   "metadata": {},
   "outputs": [
    {
     "name": "stdout",
     "output_type": "stream",
     "text": [
      "Value of x is 50\n"
     ]
    }
   ],
   "source": [
    "# Function with Arguments:-\n",
    "# Single Arguments:\n",
    "def Single(x):\n",
    "    print(f\"Value of x is {x}\")\n",
    "Single(50)     # function call with value "
   ]
  },
  {
   "cell_type": "code",
   "execution_count": 89,
   "id": "2322ba0a-ccb9-4a70-bfa1-8ac1d518d575",
   "metadata": {},
   "outputs": [
    {
     "name": "stdout",
     "output_type": "stream",
     "text": [
      "Value of x is Apple\n"
     ]
    }
   ],
   "source": [
    "Single(\"Apple\")"
   ]
  },
  {
   "cell_type": "code",
   "execution_count": 90,
   "id": "5f2ef721-d96a-4a4a-953e-2cfffc41405c",
   "metadata": {},
   "outputs": [
    {
     "name": "stdout",
     "output_type": "stream",
     "text": [
      "a -> 34, b-> 44\n"
     ]
    }
   ],
   "source": [
    "#Double Argumenst:\n",
    "def Double(a,b):\n",
    "    print (f\"a -> {a}, b-> {b}\")\n",
    "Double(34,44)"
   ]
  },
  {
   "cell_type": "code",
   "execution_count": 91,
   "id": "7fd79359-23a4-47b3-9c76-5a7d0004e7a5",
   "metadata": {},
   "outputs": [
    {
     "ename": "TypeError",
     "evalue": "Double() missing 1 required positional argument: 'b'",
     "output_type": "error",
     "traceback": [
      "\u001b[1;31m---------------------------------------------------------------------------\u001b[0m",
      "\u001b[1;31mTypeError\u001b[0m                                 Traceback (most recent call last)",
      "Cell \u001b[1;32mIn[91], line 1\u001b[0m\n\u001b[1;32m----> 1\u001b[0m Double(\u001b[38;5;241m33\u001b[39m)\n",
      "\u001b[1;31mTypeError\u001b[0m: Double() missing 1 required positional argument: 'b'"
     ]
    }
   ],
   "source": [
    "Double(33)"
   ]
  },
  {
   "cell_type": "code",
   "execution_count": 93,
   "id": "11d67417-fdda-41a7-b8ee-1490ebc9d4bc",
   "metadata": {},
   "outputs": [
    {
     "name": "stdout",
     "output_type": "stream",
     "text": [
      "a -> 22, b-> 88\n"
     ]
    }
   ],
   "source": [
    "Double(22,88)"
   ]
  },
  {
   "cell_type": "code",
   "execution_count": 108,
   "id": "c0f51c4c-46c7-4674-a57e-422eedab5778",
   "metadata": {},
   "outputs": [
    {
     "ename": "TypeError",
     "evalue": "Double() takes 2 positional arguments but 3 were given",
     "output_type": "error",
     "traceback": [
      "\u001b[1;31m---------------------------------------------------------------------------\u001b[0m",
      "\u001b[1;31mTypeError\u001b[0m                                 Traceback (most recent call last)",
      "Cell \u001b[1;32mIn[108], line 1\u001b[0m\n\u001b[1;32m----> 1\u001b[0m Double(\u001b[38;5;241m22\u001b[39m,\u001b[38;5;241m44\u001b[39m,\u001b[38;5;241m88\u001b[39m)\n",
      "\u001b[1;31mTypeError\u001b[0m: Double() takes 2 positional arguments but 3 were given"
     ]
    }
   ],
   "source": [
    "Double(22,44,88)"
   ]
  },
  {
   "cell_type": "code",
   "execution_count": 95,
   "id": "04b67c2f-1188-4b97-8ea1-b754b82c05e4",
   "metadata": {},
   "outputs": [
    {
     "name": "stdout",
     "output_type": "stream",
     "text": [
      "a -> Suman, b-> Surya\n"
     ]
    }
   ],
   "source": [
    "Double('Suman','Surya')"
   ]
  },
  {
   "cell_type": "code",
   "execution_count": 119,
   "id": "20896802-8ccb-4128-aa46-a7cd355dfffb",
   "metadata": {},
   "outputs": [
    {
     "name": "stdout",
     "output_type": "stream",
     "text": [
      "value/s in arg -> (3,)\n"
     ]
    }
   ],
   "source": [
    "# Multiple arguments     \n",
    "def Multi(*arg):\n",
    "    print(f'value/s in arg -> {arg}')\n",
    "Multi(3)"
   ]
  },
  {
   "cell_type": "code",
   "execution_count": 120,
   "id": "e3479303-2f79-4219-b914-12f4f6a2f1b6",
   "metadata": {},
   "outputs": [
    {
     "name": "stdout",
     "output_type": "stream",
     "text": [
      "value/s in arg -> (3, 22, 65, 88)\n"
     ]
    }
   ],
   "source": [
    "Multi(3,22,65,88)"
   ]
  },
  {
   "cell_type": "code",
   "execution_count": 111,
   "id": "5b1dd6dc-7ec9-43c7-ad28-571a4d2e09e4",
   "metadata": {},
   "outputs": [],
   "source": [
    "def EvOd(num):\n",
    "    if num%2 ==0:\n",
    "        print('Even')\n",
    "    else:\n",
    "        print('Odd')"
   ]
  },
  {
   "cell_type": "code",
   "execution_count": 113,
   "id": "3d7eb8ba-6b37-48fa-9f69-40b3ce98cfe9",
   "metadata": {},
   "outputs": [
    {
     "name": "stdout",
     "output_type": "stream",
     "text": [
      "Even\n"
     ]
    }
   ],
   "source": [
    "EvOd(6)"
   ]
  },
  {
   "cell_type": "code",
   "execution_count": 114,
   "id": "31cc1353-146a-43ee-99fd-347707219921",
   "metadata": {},
   "outputs": [
    {
     "name": "stdout",
     "output_type": "stream",
     "text": [
      "Odd\n"
     ]
    }
   ],
   "source": [
    "EvOd(79)"
   ]
  },
  {
   "cell_type": "code",
   "execution_count": 12,
   "id": "929726db-14fc-4a1b-9e53-0f3f354ab69c",
   "metadata": {},
   "outputs": [
    {
     "name": "stdin",
     "output_type": "stream",
     "text": [
      "Enter a number 4\n"
     ]
    },
    {
     "name": "stdout",
     "output_type": "stream",
     "text": [
      "1\n",
      "2\n",
      "4\n"
     ]
    }
   ],
   "source": [
    "# Q. Create a function to print all the factors of an entered number.\n",
    "num = int(input(\"Enter a number\"))\n",
    "def Fact(x):\n",
    "    for i in range(1,x+1):\n",
    "        if x%i ==0:\n",
    "            print(i)\n",
    "Fact(num)"
   ]
  },
  {
   "cell_type": "code",
   "execution_count": null,
   "id": "d5168b8d-de51-4f3b-a1fa-0d98824ab833",
   "metadata": {},
   "outputs": [],
   "source": []
  }
 ],
 "metadata": {
  "kernelspec": {
   "display_name": "Python 3 (ipykernel)",
   "language": "python",
   "name": "python3"
  },
  "language_info": {
   "codemirror_mode": {
    "name": "ipython",
    "version": 3
   },
   "file_extension": ".py",
   "mimetype": "text/x-python",
   "name": "python",
   "nbconvert_exporter": "python",
   "pygments_lexer": "ipython3",
   "version": "3.12.7"
  }
 },
 "nbformat": 4,
 "nbformat_minor": 5
}
