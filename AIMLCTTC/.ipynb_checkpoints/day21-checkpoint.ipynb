{
 "cells": [
  {
   "cell_type": "markdown",
   "id": "e3f7014c-95b0-47b3-9a76-4abbca529b37",
   "metadata": {},
   "source": [
    "# CNN:- Convolutional Neural Network"
   ]
  },
  {
   "cell_type": "markdown",
   "id": "5b4f9502-caa0-4a55-9755-ecd5ae9a3de7",
   "metadata": {},
   "source": [
    "#### CNN:- Convolutional Neural Network\n",
    "\t• It is basically used for image classification tasks.\n",
    "\t• A convolutional neural network is a deep learning model that helps the computer to see and understand images by automatically learning pattern like edges,shapes and objects\n",
    "    * It is commonly used for face detection, object detection and image recogination."
   ]
  },
  {
   "cell_type": "markdown",
   "id": "f414763e-85a7-4888-b455-3a0af068e314",
   "metadata": {},
   "source": [
    "##### It Cointains 4 layers :-\n",
    "1. Convolutional layer \n",
    "2. Activation Function layer (ReLu layer)\n",
    "3. Pooling layer \n",
    "4. Fully connected layer"
   ]
  },
  {
   "cell_type": "markdown",
   "id": "2a41512d-e5ae-43ca-a609-47167b55007f",
   "metadata": {},
   "source": [
    "#### 1. Convolution layer :-\n",
    "###### this is the heart of CNN.it use kernel extract like edges,corner,textures.\n",
    "\n",
    "\n",
    "#### 2. Activation function layer :- \n",
    "###### It use ReLu activation function to convert values to zero and keep and positive value as usal.\n",
    "\n",
    "#### 3. Pooling layer:- 2types :-\n",
    "###### Max pooling and average pooling.\n"
   ]
  },
  {
   "cell_type": "code",
   "execution_count": null,
   "id": "c42f91ec-10a5-4e26-a43f-5a47e612d569",
   "metadata": {},
   "outputs": [],
   "source": []
  }
 ],
 "metadata": {
  "kernelspec": {
   "display_name": "Python 3 (ipykernel)",
   "language": "python",
   "name": "python3"
  },
  "language_info": {
   "codemirror_mode": {
    "name": "ipython",
    "version": 3
   },
   "file_extension": ".py",
   "mimetype": "text/x-python",
   "name": "python",
   "nbconvert_exporter": "python",
   "pygments_lexer": "ipython3",
   "version": "3.12.7"
  }
 },
 "nbformat": 4,
 "nbformat_minor": 5
}
